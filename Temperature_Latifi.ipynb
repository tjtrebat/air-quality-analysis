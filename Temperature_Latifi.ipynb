{
  "nbformat": 4,
  "nbformat_minor": 0,
  "metadata": {
    "colab": {
      "provenance": [],
      "authorship_tag": "ABX9TyO0/RZHc18l0B08HGP/zlDs",
      "include_colab_link": true
    },
    "kernelspec": {
      "name": "python3",
      "display_name": "Python 3"
    },
    "language_info": {
      "name": "python"
    }
  },
  "cells": [
    {
      "cell_type": "markdown",
      "metadata": {
        "id": "view-in-github",
        "colab_type": "text"
      },
      "source": [
        "<a href=\"https://colab.research.google.com/github/tjtrebat/air-quality-analysis/blob/Temperature_Latifi/Temperature_Latifi.ipynb\" target=\"_parent\"><img src=\"https://colab.research.google.com/assets/colab-badge.svg\" alt=\"Open In Colab\"/></a>"
      ]
    },
    {
      "cell_type": "code",
      "execution_count": 2,
      "metadata": {
        "colab": {
          "base_uri": "https://localhost:8080/"
        },
        "id": "nNHmPUtnSYtx",
        "outputId": "a254f224-0abf-4f67-e6b1-6f7ba5e6add8"
      },
      "outputs": [
        {
          "output_type": "stream",
          "name": "stdout",
          "text": [
            "   Unnamed: 0  day_of_year  year   latitude  longitude  avg_pm10  aqi_pm10  \\\n",
            "0           0            2  2010  29.733726 -95.257593      13.0        12   \n",
            "1           1            2  2010  29.733726 -95.257593      13.0        12   \n",
            "2           2            2  2010  29.733726 -95.257593      13.0        12   \n",
            "3           3            2  2010  29.733726 -95.257593      13.0        12   \n",
            "4           4            2  2010  29.733726 -95.257593      13.0        12   \n",
            "\n",
            "     avg_co  aqi_co    avg_no2  ...    avg_o3  aqi_o3  avg_pm25  aqi_pm25  \\\n",
            "0  0.297667     NaN  17.258333  ...  0.027294      32      11.6      48.0   \n",
            "1  0.297667     NaN  17.258333  ...  0.027294      32      11.6      48.0   \n",
            "2  0.297667     NaN  17.258333  ...  0.027294      32       9.7      40.0   \n",
            "3  0.297667     NaN  17.258333  ...  0.027294      32       9.7      40.0   \n",
            "4  0.325000     6.0  17.258333  ...  0.027294      32      11.6      48.0   \n",
            "\n",
            "    avg_so2  aqi_so2  avg_humidity  avg_temperature  avg_wind  avg_pressure  \n",
            "0  3.591304     19.0          56.5             47.5    3.9125   1027.541667  \n",
            "1  3.671429      NaN          56.5             47.5    3.9125   1027.541667  \n",
            "2  3.591304     19.0          56.5             47.5    3.9125   1027.541667  \n",
            "3  3.671429      NaN          56.5             47.5    3.9125   1027.541667  \n",
            "4  3.591304     19.0          56.5             47.5    3.9125   1027.541667  \n",
            "\n",
            "[5 rows x 21 columns]\n"
          ]
        }
      ],
      "source": [
        "import pandas as pd\n",
        "\n",
        "file_path = '/content/houston-aqi-2010-2021.csv'\n",
        "\n",
        "df = pd.read_csv(file_path)\n",
        "\n",
        "# Display the first few rows of the dataframe\n",
        "print(df.head())"
      ]
    }
  ]
}