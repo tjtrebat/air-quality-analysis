{
  "nbformat": 4,
  "nbformat_minor": 0,
  "metadata": {
    "colab": {
      "provenance": []
    },
    "kernelspec": {
      "name": "python3",
      "display_name": "Python 3"
    },
    "language_info": {
      "name": "python"
    }
  },
  "cells": [
    {
      "cell_type": "code",
      "execution_count": 1,
      "metadata": {
        "colab": {
          "base_uri": "https://localhost:8080/"
        },
        "id": "QRRLMlyLajQh",
        "outputId": "9d836cb3-749b-4119-8ac4-f993872ae4d5"
      },
      "outputs": [
        {
          "output_type": "stream",
          "name": "stdout",
          "text": [
            "Requirement already satisfied: scipy in /usr/local/lib/python3.10/dist-packages (1.11.3)\n",
            "Requirement already satisfied: numpy<1.28.0,>=1.21.6 in /usr/local/lib/python3.10/dist-packages (from scipy) (1.23.5)\n"
          ]
        }
      ],
      "source": [
        "!pip install scipy"
      ]
    },
    {
      "cell_type": "code",
      "source": [
        "import pandas as pd\n",
        "import numpy as np\n",
        "import sklearn\n",
        "import seaborn as sns\n",
        "import matplotlib.pyplot as plt\n",
        "from scipy.stats import norm\n",
        "import scipy.stats\n",
        "\n",
        "\n",
        "#Load csv\n",
        "file_path = ('/content/houston-aqi-2010-2021.csv')\n",
        "df = pd.read_csv (file_path)\n",
        "\n",
        "#Printing the csv file will help us to check the column names\n",
        "print (df.head())"
      ],
      "metadata": {
        "colab": {
          "base_uri": "https://localhost:8080/"
        },
        "id": "TOyeiLgaa62T",
        "outputId": "43d038ef-102b-47e1-e524-05133308f7da"
      },
      "execution_count": 2,
      "outputs": [
        {
          "output_type": "stream",
          "name": "stdout",
          "text": [
            "   Unnamed: 0  day_of_year  year   latitude  longitude  avg_pm10  aqi_pm10  \\\n",
            "0           0            2  2010  29.733726 -95.257593        13        12   \n",
            "1           1            2  2010  29.733726 -95.257593        13        12   \n",
            "2           2            2  2010  29.733726 -95.257593        13        12   \n",
            "3           3            2  2010  29.733726 -95.257593        13        12   \n",
            "4           4            2  2010  29.733726 -95.257593        13        12   \n",
            "\n",
            "     avg_co  aqi_co    avg_no2  ...    avg_o3  aqi_o3  avg_pm25  aqi_pm25  \\\n",
            "0  0.297667     NaN  17.258333  ...  0.027294      32      11.6        48   \n",
            "1  0.297667     NaN  17.258333  ...  0.027294      32      11.6        48   \n",
            "2  0.297667     NaN  17.258333  ...  0.027294      32       9.7        40   \n",
            "3  0.297667     NaN  17.258333  ...  0.027294      32       9.7        40   \n",
            "4  0.325000     6.0  17.258333  ...  0.027294      32      11.6        48   \n",
            "\n",
            "    avg_so2  aqi_so2  avg_humidity  avg_temperature  avg_wind  avg_pressure  \n",
            "0  3.591304     19.0          56.5             47.5    3.9125   1027.541667  \n",
            "1  3.671429      NaN          56.5             47.5    3.9125   1027.541667  \n",
            "2  3.591304     19.0          56.5             47.5    3.9125   1027.541667  \n",
            "3  3.671429      NaN          56.5             47.5    3.9125   1027.541667  \n",
            "4  3.591304     19.0          56.5             47.5    3.9125   1027.541667  \n",
            "\n",
            "[5 rows x 21 columns]\n"
          ]
        }
      ]
    },
    {
      "cell_type": "code",
      "source": [
        "print(f\"Mean Pressure: {df['avg_pressure'].mean()}\")\n",
        "print(f\"Mean Wind: {df['avg_wind'].mean()}\")\n",
        "print(f\"Mean Temperature: {df['avg_temperature'].mean()}\")\n",
        "print(f\"Mean Humidity:  {df['avg_humidity'].mean()}\")"
      ],
      "metadata": {
        "colab": {
          "base_uri": "https://localhost:8080/"
        },
        "id": "l06WgJl5bAjd",
        "outputId": "99f86e6e-8c0b-49b3-e872-1480c5252cab"
      },
      "execution_count": 3,
      "outputs": [
        {
          "output_type": "stream",
          "name": "stdout",
          "text": [
            "Mean Pressure: 1017.8874957186971\n",
            "Mean Wind: 5.238881443739425\n",
            "Mean Temperature: 68.73953821573603\n",
            "Mean Humidity:  65.6445454107445\n"
          ]
        }
      ]
    },
    {
      "cell_type": "markdown",
      "source": [
        "#Humidity\n",
        "##We select 100 random samples from our variable Humidity on which we will be performing our tests"
      ],
      "metadata": {
        "id": "LV_FttA6jj4A"
      }
    },
    {
      "cell_type": "code",
      "source": [
        "n = 100\n",
        "random_indices = np.random.choice(df.index, n, replace=False)\n",
        "humidity_samples = df.loc[random_indices, 'avg_humidity']\n",
        "humidity_samples"
      ],
      "metadata": {
        "colab": {
          "base_uri": "https://localhost:8080/"
        },
        "id": "5vSYWoKYbFiy",
        "outputId": "eafa0e58-60ee-4f25-c98f-db92f7b8da34"
      },
      "execution_count": 4,
      "outputs": [
        {
          "output_type": "execute_result",
          "data": {
            "text/plain": [
              "156     71.791667\n",
              "4110    85.750000\n",
              "3601    79.750000\n",
              "2848    65.416667\n",
              "1580    57.125000\n",
              "          ...    \n",
              "3310    46.250000\n",
              "1445    68.833333\n",
              "1191    61.083333\n",
              "2733    37.291667\n",
              "3423    73.166667\n",
              "Name: avg_humidity, Length: 100, dtype: float64"
            ]
          },
          "metadata": {},
          "execution_count": 4
        }
      ]
    },
    {
      "cell_type": "markdown",
      "source": [
        "#Proportion Test\n",
        "##We start our proportion test by selecting p = 0.5 for our given humidity variable and see if the conditions are satisfied.\n",
        "\n",
        "#Hypothesis Test\n",
        "##We are going to test the claim that greater than 50% of the humidity samples are greater than 68 units with a 99% confidence level by conducting a right-tailed hypothesis test, where the null hypothesis is the statement of equality about the proportion of pressure samples that are greater than 68 units is equal to 50%. We first calculate the test statistic for the z-index using numpy, and find the value of the survival function using scipy.stats.norm."
      ],
      "metadata": {
        "id": "r07QxzFwjvgP"
      }
    },
    {
      "cell_type": "code",
      "source": [
        "p = 0.5\n",
        "q = 1 - p\n",
        "print(f'np >= 5 ? {len(humidity_samples) * p >= 5}')\n",
        "print(f'nq >= 5 ? {len(humidity_samples) * q >= 5}')"
      ],
      "metadata": {
        "colab": {
          "base_uri": "https://localhost:8080/"
        },
        "id": "HgT_PiHTbNBM",
        "outputId": "28179f53-40dc-4722-d66e-ac6945876436"
      },
      "execution_count": 5,
      "outputs": [
        {
          "output_type": "stream",
          "name": "stdout",
          "text": [
            "np >= 5 ? True\n",
            "nq >= 5 ? True\n"
          ]
        }
      ]
    },
    {
      "cell_type": "code",
      "source": [
        "alpha = 0.01\n",
        "h_over_68 = np.where(humidity_samples > 68, 1, 0).sum() / 100.\n",
        "z = (h_over_68 - p) / np.sqrt(p * q / n)\n",
        "print(f'The z-index is: {z}')\n",
        "print(f'The p-value is: {scipy.stats.norm.sf(z)}')\n",
        "print(f'The critical value is: {scipy.stats.norm.ppf(1 - alpha)}')\n",
        "print(f'Reject null hypothesis? {scipy.stats.norm.sf(z) <= alpha}')"
      ],
      "metadata": {
        "colab": {
          "base_uri": "https://localhost:8080/"
        },
        "id": "-SiTF8JRbaqj",
        "outputId": "cf4c6dcf-7a86-4837-a01f-3d2c3d51e380"
      },
      "execution_count": 6,
      "outputs": [
        {
          "output_type": "stream",
          "name": "stdout",
          "text": [
            "The z-index is: -1.6000000000000003\n",
            "The p-value is: 0.945200708300442\n",
            "The critical value is: 2.3263478740408408\n",
            "Reject null hypothesis? False\n"
          ]
        }
      ]
    },
    {
      "cell_type": "markdown",
      "source": [
        "#Confidence Interval\n",
        "##We calculate the confidence interval for obtaining an estimate over the population proportion we have calculated using the chosen significance level of 0.01."
      ],
      "metadata": {
        "id": "jFY83pJhkE17"
      }
    },
    {
      "cell_type": "code",
      "source": [
        "margin_of_error = scipy.stats.norm.ppf(1 - alpha / 2) * np.sqrt(h_over_68 * (1 - h_over_68) / n)\n",
        "print(f'The proportion of humidity samples greater than 68 unit is: {h_over_68}')\n",
        "print(f'The confidence interval is: ({round(h_over_68 - margin_of_error, 2)}, {round(h_over_68 + margin_of_error, 2)})')"
      ],
      "metadata": {
        "colab": {
          "base_uri": "https://localhost:8080/"
        },
        "id": "6y32pN7obwna",
        "outputId": "34837382-8002-4c40-f76d-cd24e89ed0e1"
      },
      "execution_count": 8,
      "outputs": [
        {
          "output_type": "stream",
          "name": "stdout",
          "text": [
            "The proportion of humidity samples greater than 68 unit is: 0.42\n",
            "The confidence interval is: (0.29, 0.55)\n"
          ]
        }
      ]
    },
    {
      "cell_type": "markdown",
      "source": [
        "#Mean Test\n",
        "##We perform the following mean hypothesis test, where we formulate a hypothesis about the mean of the humidity samples being 68 and test our hypothesis using a standard numerical t-test. We are going to assume that the standard deviation of the population is also not know, as is commonly the case when conducting a test about the population mean interval.\n",
        "\n",
        "#Hypothesis Test\n",
        "##We conduct a two-tailed hypothesis test for the sample means being equivalent to 68 units with 95% confidence level."
      ],
      "metadata": {
        "id": "ZeTQOsXSkMNa"
      }
    },
    {
      "cell_type": "code",
      "source": [
        "alpha = 0.05\n",
        "degrees_of_freedom = len(humidity_samples) - 1\n",
        "t_statistic, p_value = scipy.stats.ttest_1samp(humidity_samples, 6)\n",
        "critical_value = scipy.stats.t.ppf(1 - alpha / 2, degrees_of_freedom)\n",
        "print(f'The mean of the humidity samples is: {round(humidity_samples.mean(), 2)}')\n",
        "print(f'The t-statistic is: {t_statistic}')\n",
        "print(f'The p-value is: {p_value}')\n",
        "print(f'The critical value is: {critical_value}')\n",
        "print(f'Reject null hypothesis? {p_value <= alpha}')"
      ],
      "metadata": {
        "colab": {
          "base_uri": "https://localhost:8080/"
        },
        "id": "F_fbyeb_b6DT",
        "outputId": "cfddf56c-c7c6-4887-d3e4-ddbef18647a8"
      },
      "execution_count": 9,
      "outputs": [
        {
          "output_type": "stream",
          "name": "stdout",
          "text": [
            "The mean of the humidity samples is: 65.23\n",
            "The t-statistic is: 50.19149458051361\n",
            "The p-value is: 3.192593345683289e-72\n",
            "The critical value is: 1.9842169515086827\n",
            "Reject null hypothesis? True\n"
          ]
        }
      ]
    },
    {
      "cell_type": "markdown",
      "source": [
        "##Since the p-value is greater than the significance level of 0.05, we fail to reject the null hypothesis to conclude that the mean of the humidity samples is above 68 units."
      ],
      "metadata": {
        "id": "PhZSQ5J8ke-Y"
      }
    },
    {
      "cell_type": "markdown",
      "source": [
        "#Confidence Interval\n",
        "##We construct a confidence interval for a 95% confidence level for the estimation of the population mean."
      ],
      "metadata": {
        "id": "qy-oGl9tkohJ"
      }
    },
    {
      "cell_type": "code",
      "source": [
        "margin_of_error = critical_value * humidity_samples.std() / np.sqrt(n)\n",
        "print(f'Confidence interval: ({round(humidity_samples.mean() - margin_of_error, 2)}, {round(humidity_samples.mean() + margin_of_error, 2)})')"
      ],
      "metadata": {
        "colab": {
          "base_uri": "https://localhost:8080/"
        },
        "id": "8xL8NYxdcN1U",
        "outputId": "b7ea7b9b-dcac-443e-9a9b-96b5cd29a348"
      },
      "execution_count": 10,
      "outputs": [
        {
          "output_type": "stream",
          "name": "stdout",
          "text": [
            "Confidence interval: (62.89, 67.57)\n"
          ]
        }
      ]
    }
  ]
}