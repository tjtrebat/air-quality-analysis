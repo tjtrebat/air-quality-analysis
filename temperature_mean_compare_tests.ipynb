{
 "cells": [
  {
   "cell_type": "markdown",
   "metadata": {},
   "source": [
    "# Inferences about Two Means (Independent Samples)"
   ]
  },
  {
   "cell_type": "code",
   "execution_count": 1,
   "metadata": {
    "colab": {
     "base_uri": "https://localhost:8080/"
    },
    "id": "gzW154qqtkHz",
    "outputId": "cc5a49ce-4a3d-434a-c385-2b5c16e0369f"
   },
   "outputs": [],
   "source": [
    "import numpy as np\n",
    "import pandas as pd\n",
    "from scipy import stats\n",
    "from sklearn.preprocessing import MinMaxScaler\n",
    "\n",
    "file_path = '~/Documents/UNT/csce5310/houston-aqi-2010-2021.csv'\n",
    "df = pd.read_csv(file_path)"
   ]
  },
  {
   "cell_type": "code",
   "execution_count": 2,
   "metadata": {
    "colab": {
     "base_uri": "https://localhost:8080/"
    },
    "id": "sWaS0Xl1txqQ",
    "outputId": "71fbfee6-8fae-4cb6-ca77-97a1f6c0908f"
   },
   "outputs": [
    {
     "name": "stdout",
     "output_type": "stream",
     "text": [
      "Mean Temperature: 0.62\n",
      "Mean Humidity: 0.59\n",
      "Mean Pressure: 0.43\n"
     ]
    }
   ],
   "source": [
    "temperature_compare = df[['avg_temperature', 'avg_humidity', 'avg_pressure']].values\n",
    "scaler = MinMaxScaler()\n",
    "temperature_compare = scaler.fit_transform(temperature_compare)\n",
    "print(f\"Mean Temperature: {round(temperature_compare[:, 0].mean(), 2)}\")\n",
    "print(f\"Mean Humidity: {round(temperature_compare[:, 1].mean(), 2)}\")\n",
    "print(f\"Mean Pressure: {round(temperature_compare[:, 2].mean(), 2)}\")"
   ]
  },
  {
   "cell_type": "code",
   "execution_count": 3,
   "metadata": {
    "id": "eHi5jG4SuJNk"
   },
   "outputs": [],
   "source": [
    "n = 100\n",
    "\n",
    "def get_random_sample(variable):\n",
    "    return np.random.choice(temperature_compare[:, variable], size=n, replace=False)"
   ]
  },
  {
   "cell_type": "markdown",
   "metadata": {
    "id": "XxZy0Rglu4Jb"
   },
   "source": [
    "## Temperature vs Humidity"
   ]
  },
  {
   "cell_type": "markdown",
   "metadata": {},
   "source": [
    "### Hypothesis Test"
   ]
  },
  {
   "cell_type": "code",
   "execution_count": 4,
   "metadata": {
    "colab": {
     "base_uri": "https://localhost:8080/"
    },
    "id": "lsN3kUDouQBy",
    "outputId": "87284dc4-8b9c-4ae0-857d-1dee2af97bf2"
   },
   "outputs": [
    {
     "name": "stdout",
     "output_type": "stream",
     "text": [
      "The sample means are 0.6 (for temperature) and 0.59 (for humidity) \n",
      "The degrees of freedom is 186\n",
      "The t-statistic is: 0.23753234801749432\n",
      "The p-value is: 0.8124894311353636\n",
      "The critical value is: 1.9728001139921347\n"
     ]
    }
   ],
   "source": [
    "alpha = 0.05\n",
    "temperature_samples = get_random_sample(0)\n",
    "humidity_samples = get_random_sample(1)\n",
    "temperature_var = np.var(temperature_samples, ddof=1)\n",
    "humidity_var = np.var(humidity_samples, ddof=1)\n",
    "A, B = temperature_var / n, humidity_var / n\n",
    "degrees_of_freedom = int(((A + B) ** 2) / (((A ** 2) / (n - 1)) + ((B ** 2) / (n - 1))))\n",
    "critical_value = stats.t.ppf(1 - alpha / 2, degrees_of_freedom)\n",
    "t_statistic, p_value = stats.ttest_ind(temperature_samples, humidity_samples)\n",
    "print(f'The sample means are {round(temperature_samples.mean(), 2)} (for temperature) and {round(humidity_samples.mean(), 2)} (for humidity) ')\n",
    "print(f'The degrees of freedom is {degrees_of_freedom}')\n",
    "print(f'The t-statistic is: {t_statistic}')\n",
    "print(f'The p-value is: {p_value}')\n",
    "print(f'The critical value is: {critical_value}')"
   ]
  },
  {
   "cell_type": "markdown",
   "metadata": {
    "id": "S6LShckyvBu8"
   },
   "source": [
    "Since the p-value is greater than our significance level of 0.05, we fail to reject the null hypothesis, which states that the population means are equivalent for temperature and humidity variables."
   ]
  },
  {
   "cell_type": "markdown",
   "metadata": {
    "id": "TTo8lIlwvMQC"
   },
   "source": [
    "### Confidence Interval"
   ]
  },
  {
   "cell_type": "code",
   "execution_count": 5,
   "metadata": {
    "colab": {
     "base_uri": "https://localhost:8080/"
    },
    "id": "CdEsu0-suuG7",
    "outputId": "28ce34e8-6a5f-41c9-adaf-deb632fa99a8"
   },
   "outputs": [
    {
     "name": "stdout",
     "output_type": "stream",
     "text": [
      "The difference between sample means is: -0.01\n",
      "Confidence Interval: (-0.07, 0.05)\n"
     ]
    }
   ],
   "source": [
    "margin_of_error = critical_value * np.sqrt(A + B)\n",
    "mean_difference = humidity_samples.mean() - temperature_samples.mean()\n",
    "print(f'The difference between sample means is: {round(mean_difference, 2)}')\n",
    "print(f'Confidence Interval: ({round(mean_difference - margin_of_error, 2)}, {round(mean_difference + margin_of_error, 2)})')"
   ]
  },
  {
   "cell_type": "markdown",
   "metadata": {},
   "source": [
    "Using the confidence interval, we can assume with 95% confidence that the actual difference between population means in between 5% and 7% of their normalized values."
   ]
  },
  {
   "cell_type": "markdown",
   "metadata": {
    "id": "xVX2KzZNvzQ0"
   },
   "source": [
    "## Temperature vs Pressure"
   ]
  },
  {
   "cell_type": "markdown",
   "metadata": {},
   "source": [
    "### Hypothesis Test"
   ]
  },
  {
   "cell_type": "code",
   "execution_count": 7,
   "metadata": {
    "colab": {
     "base_uri": "https://localhost:8080/"
    },
    "id": "NeMcYdBsvYBF",
    "outputId": "2cec94bd-2f90-404b-b34d-10ca400a877b"
   },
   "outputs": [
    {
     "name": "stdout",
     "output_type": "stream",
     "text": [
      "The sample means are 0.67 (for temperature) and 0.43 (for pressure) \n",
      "The degrees of freedom is 182\n",
      "The t-statistic is: 8.585975468543129\n",
      "The p-value is: 2.6464044655816585e-15\n",
      "The critical value is: 1.9730840773322158\n"
     ]
    }
   ],
   "source": [
    "alpha = 0.05\n",
    "temperature_samples = get_random_sample(0)\n",
    "pressure_samples = get_random_sample(2)\n",
    "temperature_var = np.var(temperature_samples, ddof=1)\n",
    "pressure_var = np.var(pressure_samples, ddof=1)\n",
    "A, B = temperature_var / n, pressure_var / n\n",
    "degrees_of_freedom = int(((A + B) ** 2) / (((A ** 2) / (n - 1)) + ((B ** 2) / (n - 1))))\n",
    "critical_value = stats.t.ppf(1 - alpha / 2, degrees_of_freedom)\n",
    "t_statistic, p_value = stats.ttest_ind(temperature_samples, pressure_samples)\n",
    "print(f'The sample means are {round(temperature_samples.mean(), 2)} (for temperature) and {round(pressure_samples.mean(), 2)} (for pressure) ')\n",
    "print(f'The degrees of freedom is {degrees_of_freedom}')\n",
    "print(f'The t-statistic is: {t_statistic}')\n",
    "print(f'The p-value is: {p_value}')\n",
    "print(f'The critical value is: {critical_value}')"
   ]
  },
  {
   "cell_type": "markdown",
   "metadata": {
    "id": "XODUBUAgv3jn"
   },
   "source": [
    "Since the p-value is less than our significance level of 0.05, we reject the null hypothesis in support of the alternate that the population means for temperature and pressure are not equal for this two-tailed test."
   ]
  },
  {
   "cell_type": "markdown",
   "metadata": {
    "id": "yTuSRgKewCoj"
   },
   "source": [
    "### Confidence Interval"
   ]
  },
  {
   "cell_type": "code",
   "execution_count": 8,
   "metadata": {
    "colab": {
     "base_uri": "https://localhost:8080/"
    },
    "id": "UeLI_facvoUp",
    "outputId": "6fe110cb-3e08-4b39-8ad3-50719f6f3075"
   },
   "outputs": [
    {
     "name": "stdout",
     "output_type": "stream",
     "text": [
      "The difference between sample means is: 0.23\n",
      "Confidence Interval: (0.18, 0.29)\n"
     ]
    }
   ],
   "source": [
    "margin_of_error = critical_value * np.sqrt(A + B)\n",
    "mean_difference = temperature_samples.mean() - pressure_samples.mean()\n",
    "print(f'The difference between sample means is: {round(mean_difference, 2)}')\n",
    "print(f'Confidence Interval: ({round(mean_difference - margin_of_error, 2)}, {round(mean_difference + margin_of_error, 2)})')"
   ]
  },
  {
   "cell_type": "markdown",
   "metadata": {},
   "source": [
    "Based on the confidence interval, we can estimate that the actual difference between population means for temperature and pressure is somewhere between 18% and 29% of their normalized values."
   ]
  }
 ],
 "metadata": {
  "colab": {
   "provenance": []
  },
  "kernelspec": {
   "display_name": "Python 3 (ipykernel)",
   "language": "python",
   "name": "python3"
  },
  "language_info": {
   "codemirror_mode": {
    "name": "ipython",
    "version": 3
   },
   "file_extension": ".py",
   "mimetype": "text/x-python",
   "name": "python",
   "nbconvert_exporter": "python",
   "pygments_lexer": "ipython3",
   "version": "3.11.5"
  }
 },
 "nbformat": 4,
 "nbformat_minor": 1
}
