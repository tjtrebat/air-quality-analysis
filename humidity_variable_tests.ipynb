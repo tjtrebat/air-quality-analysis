{
 "cells": [
  {
   "cell_type": "markdown",
   "metadata": {
    "colab": {
     "base_uri": "https://localhost:8080/"
    },
    "id": "QRRLMlyLajQh",
    "outputId": "9d836cb3-749b-4119-8ac4-f993872ae4d5"
   },
   "source": [
    "# Mean and Proportion Hypothesis Tests"
   ]
  },
  {
   "cell_type": "code",
   "execution_count": 1,
   "metadata": {
    "colab": {
     "base_uri": "https://localhost:8080/"
    },
    "id": "TOyeiLgaa62T",
    "outputId": "43d038ef-102b-47e1-e524-05133308f7da"
   },
   "outputs": [],
   "source": [
    "import numpy as np\n",
    "import pandas as pd\n",
    "import scipy.stats\n",
    "\n",
    "file_path = '~/Documents/UNT/csce5310/houston-aqi-2010-2021.csv'\n",
    "df = pd.read_csv(file_path)"
   ]
  },
  {
   "cell_type": "code",
   "execution_count": 2,
   "metadata": {
    "colab": {
     "base_uri": "https://localhost:8080/"
    },
    "id": "l06WgJl5bAjd",
    "outputId": "99f86e6e-8c0b-49b3-e872-1480c5252cab"
   },
   "outputs": [
    {
     "name": "stdout",
     "output_type": "stream",
     "text": [
      "Mean Humidity:  65.64\n"
     ]
    }
   ],
   "source": [
    "print(f\"Mean Humidity:  {round(df['avg_humidity'].mean(), 2)}\")"
   ]
  },
  {
   "cell_type": "markdown",
   "metadata": {
    "id": "LV_FttA6jj4A"
   },
   "source": [
    "## Sample Data"
   ]
  },
  {
   "cell_type": "code",
   "execution_count": 3,
   "metadata": {
    "colab": {
     "base_uri": "https://localhost:8080/"
    },
    "id": "5vSYWoKYbFiy",
    "outputId": "eafa0e58-60ee-4f25-c98f-db92f7b8da34"
   },
   "outputs": [],
   "source": [
    "n = 100\n",
    "random_indices = np.random.choice(df.index, n, replace=False)\n",
    "humidity_samples = df.loc[random_indices, 'avg_humidity']"
   ]
  },
  {
   "cell_type": "markdown",
   "metadata": {
    "id": "r07QxzFwjvgP"
   },
   "source": [
    "## Proportion Test"
   ]
  },
  {
   "cell_type": "markdown",
   "metadata": {},
   "source": [
    "### Hypothesis Test\n",
    "\n",
    "We are going to test the claim that greater than 50% of the humidity samples are greater than 65 units with a 95% confidence level by conducting a right-tailed hypothesis test, where the null hypothesis is the statement of equality about the proportion of humidity samples being greater than 68 units is 50%."
   ]
  },
  {
   "cell_type": "code",
   "execution_count": 6,
   "metadata": {
    "colab": {
     "base_uri": "https://localhost:8080/"
    },
    "id": "-SiTF8JRbaqj",
    "outputId": "cf4c6dcf-7a86-4837-a01f-3d2c3d51e380"
   },
   "outputs": [
    {
     "name": "stdout",
     "output_type": "stream",
     "text": [
      "The z-index is: 1.399999999999999\n",
      "The p-value is: 0.08075665923377118\n",
      "The critical value is: 1.6448536269514722\n",
      "Reject null hypothesis? False\n"
     ]
    }
   ],
   "source": [
    "alpha = 0.05\n",
    "p = q = 0.5\n",
    "humidity_over_65 = np.where(humidity_samples > 65, 1, 0).sum() / 100.\n",
    "z = (humidity_over_65 - p) / np.sqrt(p * q / n)\n",
    "print(f'The z-index is: {z}')\n",
    "print(f'The p-value is: {scipy.stats.norm.sf(z)}')\n",
    "print(f'The critical value is: {scipy.stats.norm.ppf(1 - alpha)}')\n",
    "print(f'Reject null hypothesis? {scipy.stats.norm.sf(z) <= alpha}')"
   ]
  },
  {
   "cell_type": "markdown",
   "metadata": {},
   "source": [
    "Since the p-value is greater than the significance level of 0.05, we fail to reject the null hypothesis about the proportion of humidity being equal to 65 units."
   ]
  },
  {
   "cell_type": "markdown",
   "metadata": {
    "id": "jFY83pJhkE17"
   },
   "source": [
    "### Confidence Interval\n",
    "\n",
    "We calculate the confidence interval for obtaining an estimate over the population proportion we have calculated using the chosen significance level of 0.01."
   ]
  },
  {
   "cell_type": "code",
   "execution_count": 7,
   "metadata": {
    "colab": {
     "base_uri": "https://localhost:8080/"
    },
    "id": "6y32pN7obwna",
    "outputId": "34837382-8002-4c40-f76d-cd24e89ed0e1"
   },
   "outputs": [
    {
     "name": "stdout",
     "output_type": "stream",
     "text": [
      "The proportion of humidity samples greater than 65 units is: 0.57\n",
      "The confidence interval is: (0.47, 0.67)\n"
     ]
    }
   ],
   "source": [
    "margin_of_error = scipy.stats.norm.ppf(1 - alpha / 2) * np.sqrt(humidity_over_65 * (1 - humidity_over_65) / n)\n",
    "print(f'The proportion of humidity samples greater than 65 units is: {humidity_over_65}')\n",
    "print(f'The confidence interval is: ({round(humidity_over_65 - margin_of_error, 2)}, {round(humidity_over_65 + margin_of_error, 2)})')"
   ]
  },
  {
   "cell_type": "markdown",
   "metadata": {},
   "source": [
    "We can see from the confidence interval estimate that the proportion of humidity samples above 65 units agrees with our null hypothesis about the population proportion being at 50%."
   ]
  },
  {
   "cell_type": "markdown",
   "metadata": {
    "id": "ZeTQOsXSkMNa"
   },
   "source": [
    "## Mean Test"
   ]
  },
  {
   "cell_type": "markdown",
   "metadata": {},
   "source": [
    "### Hypothesis Test\n",
    "\n",
    "We conduct a two-tailed hypothesis test for the sample mean equivalent to 65 units using a 95% confidence level."
   ]
  },
  {
   "cell_type": "code",
   "execution_count": 9,
   "metadata": {
    "colab": {
     "base_uri": "https://localhost:8080/"
    },
    "id": "F_fbyeb_b6DT",
    "outputId": "cfddf56c-c7c6-4887-d3e4-ddbef18647a8"
   },
   "outputs": [
    {
     "name": "stdout",
     "output_type": "stream",
     "text": [
      "The mean of the humidity samples is: 65.59\n",
      "The t-statistic is: 0.475670949326064\n",
      "The p-value is: 0.6353567509044982\n",
      "The critical value is: 1.9842169515086827\n",
      "Reject null hypothesis? False\n"
     ]
    }
   ],
   "source": [
    "alpha = 0.05\n",
    "degrees_of_freedom = len(humidity_samples) - 1\n",
    "t_statistic, p_value = scipy.stats.ttest_1samp(humidity_samples, 65)\n",
    "critical_value = scipy.stats.t.ppf(1 - alpha / 2, degrees_of_freedom)\n",
    "print(f'The mean of the humidity samples is: {round(humidity_samples.mean(), 2)}')\n",
    "print(f'The t-statistic is: {t_statistic}')\n",
    "print(f'The p-value is: {p_value}')\n",
    "print(f'The critical value is: {critical_value}')\n",
    "print(f'Reject null hypothesis? {p_value <= alpha}')"
   ]
  },
  {
   "cell_type": "markdown",
   "metadata": {
    "id": "PhZSQ5J8ke-Y"
   },
   "source": [
    "Since the p-value is greater than the significance level of 0.05, we fail to reject the null hypothesis about the population mean of humidity being at 65 units."
   ]
  },
  {
   "cell_type": "markdown",
   "metadata": {
    "id": "qy-oGl9tkohJ"
   },
   "source": [
    "### Confidence Interval\n",
    "\n",
    "We construct a confidence interval for a 95% confidence level for the population estimation of the mean."
   ]
  },
  {
   "cell_type": "code",
   "execution_count": 10,
   "metadata": {
    "colab": {
     "base_uri": "https://localhost:8080/"
    },
    "id": "8xL8NYxdcN1U",
    "outputId": "b7ea7b9b-dcac-443e-9a9b-96b5cd29a348"
   },
   "outputs": [
    {
     "name": "stdout",
     "output_type": "stream",
     "text": [
      "Confidence interval: (63.13, 68.05)\n"
     ]
    }
   ],
   "source": [
    "margin_of_error = critical_value * humidity_samples.std() / np.sqrt(n)\n",
    "print(f'Confidence interval: ({round(humidity_samples.mean() - margin_of_error, 2)}, {round(humidity_samples.mean() + margin_of_error, 2)})')"
   ]
  },
  {
   "cell_type": "markdown",
   "metadata": {},
   "source": [
    "From our confidence interval, we can also confirm that our estimate for the population humidity at 65 units is reasonably accurate."
   ]
  }
 ],
 "metadata": {
  "colab": {
   "provenance": []
  },
  "kernelspec": {
   "display_name": "Python 3 (ipykernel)",
   "language": "python",
   "name": "python3"
  },
  "language_info": {
   "codemirror_mode": {
    "name": "ipython",
    "version": 3
   },
   "file_extension": ".py",
   "mimetype": "text/x-python",
   "name": "python",
   "nbconvert_exporter": "python",
   "pygments_lexer": "ipython3",
   "version": "3.11.5"
  }
 },
 "nbformat": 4,
 "nbformat_minor": 1
}
