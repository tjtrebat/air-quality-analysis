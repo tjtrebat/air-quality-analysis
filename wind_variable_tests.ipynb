{
 "cells": [
  {
   "cell_type": "markdown",
   "metadata": {},
   "source": [
    "# Mean and Proportion Hypothesis Tests"
   ]
  },
  {
   "cell_type": "code",
   "execution_count": 3,
   "metadata": {
    "colab": {
     "base_uri": "https://localhost:8080/"
    },
    "id": "ipqy4Damwky4",
    "outputId": "9171ff09-0399-40c8-82ea-072edba49348"
   },
   "outputs": [],
   "source": [
    "import numpy as np\n",
    "import pandas as pd\n",
    "import scipy.stats\n",
    "\n",
    "file_path = '~/Documents/UNT/csce5310/houston-aqi-2010-2021.csv'\n",
    "df = pd.read_csv(file_path)"
   ]
  },
  {
   "cell_type": "code",
   "execution_count": 4,
   "metadata": {
    "colab": {
     "base_uri": "https://localhost:8080/"
    },
    "id": "WqtGat5YyVpD",
    "outputId": "42e13cb0-0aff-4659-e8df-82092bfd829d"
   },
   "outputs": [
    {
     "name": "stdout",
     "output_type": "stream",
     "text": [
      "Mean Wind: 5.238881443739425\n"
     ]
    }
   ],
   "source": [
    "print(f\"Mean Wind: {df['avg_wind'].mean()}\")"
   ]
  },
  {
   "cell_type": "markdown",
   "metadata": {
    "id": "0nxs2IPEdBxD"
   },
   "source": [
    "## Sample Data"
   ]
  },
  {
   "cell_type": "code",
   "execution_count": 5,
   "metadata": {
    "colab": {
     "base_uri": "https://localhost:8080/"
    },
    "id": "LYV-qznYU1DY",
    "outputId": "1e88ae97-1d6c-4a0e-b11c-8b35a16eab5b"
   },
   "outputs": [],
   "source": [
    "n = 100\n",
    "random_indices = np.random.choice(df.index, n, replace=False)\n",
    "wind_samples = df.loc[random_indices, 'avg_wind']"
   ]
  },
  {
   "cell_type": "markdown",
   "metadata": {
    "id": "UJ8tK8wpdRJC"
   },
   "source": [
    "## Proportion Test"
   ]
  },
  {
   "cell_type": "markdown",
   "metadata": {},
   "source": [
    "### Hypothesis Test\n",
    "\n",
    "We are going to test the claim that greater than 50% of the wind samples are greater than 5 units with a 99% confidence level by conducting a right-tailed hypothesis test, where the null hypothesis is the statement of equality about the proportion of pressure samples that are greater than 5 units is equal to 50%."
   ]
  },
  {
   "cell_type": "code",
   "execution_count": 6,
   "metadata": {
    "colab": {
     "base_uri": "https://localhost:8080/"
    },
    "id": "0L7LeB1QVVdW",
    "outputId": "90b2ba0b-b8b8-4aec-c716-1a42a5f91d1c"
   },
   "outputs": [
    {
     "name": "stdout",
     "output_type": "stream",
     "text": [
      "The z-index is: -0.7999999999999996\n",
      "The p-value is: 0.7881446014166031\n",
      "The critical value is: 2.3263478740408408\n",
      "Reject null hypothesis? False\n"
     ]
    }
   ],
   "source": [
    "alpha = 0.01\n",
    "p = q = 0.5\n",
    "wind_over_5 = np.where(wind_samples > 5, 1, 0).sum() / 100.\n",
    "z = (wind_over_5 - p) / np.sqrt(p * q / n)\n",
    "print(f'The z-index is: {z}')\n",
    "print(f'The p-value is: {scipy.stats.norm.sf(z)}')\n",
    "print(f'The critical value is: {scipy.stats.norm.ppf(1 - alpha)}')\n",
    "print(f'Reject null hypothesis? {scipy.stats.norm.sf(z) <= alpha}')"
   ]
  },
  {
   "cell_type": "markdown",
   "metadata": {},
   "source": [
    "Since the p-value is greater than our significance level of 0.01 for this right-tailed test, we fail to reject the null hypothesis and conclude that the proportion of wind samples greater than 5 is equal to 50%."
   ]
  },
  {
   "cell_type": "markdown",
   "metadata": {
    "id": "UgEb59rxgq_E"
   },
   "source": [
    "### Confidence Interval\n",
    "\n",
    "We calculate the confidence interval for obtaining an estimate over the population proportion we have calculated using the chosen significance level of 0.01."
   ]
  },
  {
   "cell_type": "code",
   "execution_count": 7,
   "metadata": {
    "colab": {
     "base_uri": "https://localhost:8080/"
    },
    "id": "tGXzgGfMWBco",
    "outputId": "65f151ac-659e-4757-8fec-9e5144b20385"
   },
   "outputs": [
    {
     "name": "stdout",
     "output_type": "stream",
     "text": [
      "The proportion of wind samples greater than 5 units is: 0.46\n",
      "The confidence interval is: (0.33, 0.59)\n"
     ]
    }
   ],
   "source": [
    "margin_of_error = scipy.stats.norm.ppf(1 - alpha / 2) * np.sqrt(wind_over_5 * (1 - wind_over_5) / n)\n",
    "print(f'The proportion of wind samples greater than 5 units is: {wind_over_5}')\n",
    "print(f'The confidence interval is: ({round(wind_over_5 - margin_of_error, 2)}, {round(wind_over_5 + margin_of_error, 2)})')"
   ]
  },
  {
   "cell_type": "markdown",
   "metadata": {},
   "source": [
    "We can see that the confidence interval estimate for the proportion of wind samples above 5 units agrees with our null hypothesis about it being 50%."
   ]
  },
  {
   "cell_type": "markdown",
   "metadata": {
    "id": "EjXWMW_Pg0N_"
   },
   "source": [
    "## Mean Test"
   ]
  },
  {
   "cell_type": "markdown",
   "metadata": {},
   "source": [
    "### Hypothesis Test\n",
    "\n",
    "We conduct a two-tailed hypothesis test for the sample means being equivalent to 5 units with 95% confidence level."
   ]
  },
  {
   "cell_type": "code",
   "execution_count": 9,
   "metadata": {
    "colab": {
     "base_uri": "https://localhost:8080/"
    },
    "id": "jQ-rs09tXICy",
    "outputId": "2bb290fc-2e44-4a63-835a-424d0d1f405c"
   },
   "outputs": [
    {
     "name": "stdout",
     "output_type": "stream",
     "text": [
      "The mean of the wind samples is: 5.05\n",
      "The t-statistic is: 0.2518272258484837\n",
      "The p-value is: 0.8016966458250255\n",
      "The critical value is: 1.9842169515086827\n",
      "Reject null hypothesis? False\n"
     ]
    }
   ],
   "source": [
    "alpha = 0.05\n",
    "degrees_of_freedom = len(wind_samples) - 1\n",
    "t_statistic, p_value = scipy.stats.ttest_1samp(wind_samples, 5)\n",
    "critical_value = scipy.stats.t.ppf(1 - alpha / 2, degrees_of_freedom)\n",
    "print(f'The mean of the wind samples is: {round(wind_samples.mean(), 2)}')\n",
    "print(f'The t-statistic is: {t_statistic}')\n",
    "print(f'The p-value is: {p_value}')\n",
    "print(f'The critical value is: {critical_value}')\n",
    "print(f'Reject null hypothesis? {p_value <= alpha}')"
   ]
  },
  {
   "cell_type": "markdown",
   "metadata": {
    "id": "wGGMX5hThIG1"
   },
   "source": [
    "Since the p-value is greater than the significance level of 0.05, we fail to reject the null hypothesis and conclude that the likely mean of the wind samples is 5 units."
   ]
  },
  {
   "cell_type": "markdown",
   "metadata": {
    "id": "hQMPQYdVhUxr"
   },
   "source": [
    "### Confidence Interval\n",
    "\n",
    "We construct a confidence interval for a 95% confidence level for the estimation of the population mean."
   ]
  },
  {
   "cell_type": "code",
   "execution_count": 10,
   "metadata": {
    "colab": {
     "base_uri": "https://localhost:8080/"
    },
    "id": "dLQRnYYAXfAY",
    "outputId": "a556b24b-1c14-4116-d606-91d6f837ded7"
   },
   "outputs": [
    {
     "name": "stdout",
     "output_type": "stream",
     "text": [
      "Confidence interval: (4.66, 5.44)\n"
     ]
    }
   ],
   "source": [
    "margin_of_error = critical_value * wind_samples.std() / np.sqrt(n)\n",
    "print(f'Confidence interval: ({round(wind_samples.mean() - margin_of_error, 2)}, {round(wind_samples.mean() + margin_of_error, 2)})')"
   ]
  },
  {
   "cell_type": "markdown",
   "metadata": {},
   "source": [
    "We can see that the confidence interval overlaps with our estimate about the population mean being 5 units for wind."
   ]
  }
 ],
 "metadata": {
  "colab": {
   "provenance": []
  },
  "kernelspec": {
   "display_name": "Python 3 (ipykernel)",
   "language": "python",
   "name": "python3"
  },
  "language_info": {
   "codemirror_mode": {
    "name": "ipython",
    "version": 3
   },
   "file_extension": ".py",
   "mimetype": "text/x-python",
   "name": "python",
   "nbconvert_exporter": "python",
   "pygments_lexer": "ipython3",
   "version": "3.11.5"
  }
 },
 "nbformat": 4,
 "nbformat_minor": 1
}
