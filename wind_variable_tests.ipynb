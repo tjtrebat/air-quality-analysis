{
 "cells": [
  {
   "cell_type": "code",
   "execution_count": 7,
   "metadata": {
    "colab": {
     "base_uri": "https://localhost:8080/"
    },
    "id": "ipqy4Damwky4",
    "outputId": "9171ff09-0399-40c8-82ea-072edba49348"
   },
   "outputs": [
    {
     "name": "stdout",
     "output_type": "stream",
     "text": [
      "Requirement already satisfied: scipy in /usr/local/lib/python3.10/dist-packages (1.11.3)\n",
      "Requirement already satisfied: numpy<1.28.0,>=1.21.6 in /usr/local/lib/python3.10/dist-packages (from scipy) (1.23.5)\n"
     ]
    }
   ],
   "source": [
    "!pip install scipy"
   ]
  },
  {
   "cell_type": "code",
   "execution_count": 8,
   "metadata": {
    "colab": {
     "base_uri": "https://localhost:8080/"
    },
    "id": "PGEdXW7Nxk5M",
    "outputId": "fb1d23f4-1708-4b21-921c-c62b85b6c222"
   },
   "outputs": [
    {
     "name": "stdout",
     "output_type": "stream",
     "text": [
      "   Unnamed: 0  day_of_year  year   latitude  longitude  avg_pm10  aqi_pm10  \\\n",
      "0           0            2  2010  29.733726 -95.257593        13        12   \n",
      "1           1            2  2010  29.733726 -95.257593        13        12   \n",
      "2           2            2  2010  29.733726 -95.257593        13        12   \n",
      "3           3            2  2010  29.733726 -95.257593        13        12   \n",
      "4           4            2  2010  29.733726 -95.257593        13        12   \n",
      "\n",
      "     avg_co  aqi_co    avg_no2  ...    avg_o3  aqi_o3  avg_pm25  aqi_pm25  \\\n",
      "0  0.297667     NaN  17.258333  ...  0.027294      32      11.6        48   \n",
      "1  0.297667     NaN  17.258333  ...  0.027294      32      11.6        48   \n",
      "2  0.297667     NaN  17.258333  ...  0.027294      32       9.7        40   \n",
      "3  0.297667     NaN  17.258333  ...  0.027294      32       9.7        40   \n",
      "4  0.325000     6.0  17.258333  ...  0.027294      32      11.6        48   \n",
      "\n",
      "    avg_so2  aqi_so2  avg_humidity  avg_temperature  avg_wind  avg_pressure  \n",
      "0  3.591304     19.0          56.5             47.5    3.9125   1027.541667  \n",
      "1  3.671429      NaN          56.5             47.5    3.9125   1027.541667  \n",
      "2  3.591304     19.0          56.5             47.5    3.9125   1027.541667  \n",
      "3  3.671429      NaN          56.5             47.5    3.9125   1027.541667  \n",
      "4  3.591304     19.0          56.5             47.5    3.9125   1027.541667  \n",
      "\n",
      "[5 rows x 21 columns]\n"
     ]
    }
   ],
   "source": [
    "import pandas as pd\n",
    "import numpy as np\n",
    "import sklearn\n",
    "import seaborn as sns\n",
    "import matplotlib.pyplot as plt\n",
    "from scipy.stats import norm\n",
    "import scipy.stats\n",
    "\n",
    "\n",
    "#Load csv\n",
    "file_path = ('/content/houston-aqi-2010-2021.csv')\n",
    "df = pd.read_csv (file_path)\n",
    "\n",
    "#Printing the csv file will help us to check the column names\n",
    "print (df.head())"
   ]
  },
  {
   "cell_type": "code",
   "execution_count": 3,
   "metadata": {
    "colab": {
     "base_uri": "https://localhost:8080/"
    },
    "id": "WqtGat5YyVpD",
    "outputId": "42e13cb0-0aff-4659-e8df-82092bfd829d"
   },
   "outputs": [
    {
     "name": "stdout",
     "output_type": "stream",
     "text": [
      "Mean Pressure: 1017.8874957186971\n",
      "Mean Wind: 5.238881443739425\n",
      "Mean Temperature: 68.73953821573603\n",
      "Mean Humidity:  65.6445454107445\n"
     ]
    }
   ],
   "source": [
    "print(f\"Mean Pressure: {df['avg_pressure'].mean()}\")\n",
    "print(f\"Mean Wind: {df['avg_wind'].mean()}\")\n",
    "print(f\"Mean Temperature: {df['avg_temperature'].mean()}\")\n",
    "print(f\"Mean Humidity:  {df['avg_humidity'].mean()}\")"
   ]
  },
  {
   "cell_type": "markdown",
   "metadata": {
    "id": "0nxs2IPEdBxD"
   },
   "source": [
    "# WIND\n",
    "\n",
    "## We select 100 random samples from our variable wind on which we will be performing our tests."
   ]
  },
  {
   "cell_type": "code",
   "execution_count": 5,
   "metadata": {
    "colab": {
     "base_uri": "https://localhost:8080/"
    },
    "id": "LYV-qznYU1DY",
    "outputId": "1e88ae97-1d6c-4a0e-b11c-8b35a16eab5b"
   },
   "outputs": [
    {
     "data": {
      "text/plain": [
       "2937     4.891667\n",
       "4495     3.620833\n",
       "606      4.704167\n",
       "4348     1.854167\n",
       "3294     6.295833\n",
       "          ...    \n",
       "333      8.604167\n",
       "2966     5.900000\n",
       "4406     3.658333\n",
       "679      5.241667\n",
       "4161    12.516667\n",
       "Name: avg_wind, Length: 100, dtype: float64"
      ]
     },
     "execution_count": 5,
     "metadata": {},
     "output_type": "execute_result"
    }
   ],
   "source": [
    "n = 100\n",
    "random_indices = np.random.choice(df.index, n, replace=False)\n",
    "wind_samples = df.loc[random_indices, 'avg_wind']\n",
    "wind_samples"
   ]
  },
  {
   "cell_type": "markdown",
   "metadata": {
    "id": "UJ8tK8wpdRJC"
   },
   "source": [
    "#Proportion Test\n",
    "\n",
    "## We start our proportion test by selecting p = 0.5 for our given wind variable and see if the conditions are satisfied.\n",
    "\n",
    "\n",
    "\n",
    "\n",
    "#Hypothesis Test\n",
    "\n",
    "##We are going to test the claim that greater than 50% of the wind samples are greater than 6 units with a 99% confidence level by conducting a right-tailed hypothesis test, where the null hypothesis is the statement of equality about the proportion of pressure samples that are greater than 6 units is equal to 50%. We first calculate the test statistic for the z-index using numpy, and find the value of the survival function using scipy.stats.norm."
   ]
  },
  {
   "cell_type": "code",
   "execution_count": 1,
   "metadata": {
    "id": "fJeNc6pRVJ1F"
   },
   "outputs": [],
   "source": [
    "p = 0.5\n",
    "q = 1 - p"
   ]
  },
  {
   "cell_type": "code",
   "execution_count": 9,
   "metadata": {
    "colab": {
     "base_uri": "https://localhost:8080/"
    },
    "id": "0L7LeB1QVVdW",
    "outputId": "90b2ba0b-b8b8-4aec-c716-1a42a5f91d1c"
   },
   "outputs": [
    {
     "name": "stdout",
     "output_type": "stream",
     "text": [
      "The z-index is: -4.0\n",
      "The p-value is: 0.9999683287581669\n",
      "The critical value is: 2.3263478740408408\n",
      "Reject null hypothesis? False\n"
     ]
    }
   ],
   "source": [
    "alpha = 0.01\n",
    "w_over_6 = np.where(wind_samples > 6, 1, 0).sum() / 100.\n",
    "z = (w_over_6 - p) / np.sqrt(p * q / n)\n",
    "print(f'The z-index is: {z}')\n",
    "print(f'The p-value is: {scipy.stats.norm.sf(z)}')\n",
    "print(f'The critical value is: {scipy.stats.norm.ppf(1 - alpha)}')\n",
    "print(f'Reject null hypothesis? {scipy.stats.norm.sf(z) <= alpha}')"
   ]
  },
  {
   "cell_type": "markdown",
   "metadata": {
    "id": "UgEb59rxgq_E"
   },
   "source": [
    "#Confidence Interval\n",
    "##We calculate the confidence interval for obtaining an estimate over the population proportion we have calculated using the chosen significance level of 0.01."
   ]
  },
  {
   "cell_type": "code",
   "execution_count": 12,
   "metadata": {
    "colab": {
     "base_uri": "https://localhost:8080/"
    },
    "id": "tGXzgGfMWBco",
    "outputId": "65f151ac-659e-4757-8fec-9e5144b20385"
   },
   "outputs": [
    {
     "name": "stdout",
     "output_type": "stream",
     "text": [
      "The proportion of wind samples greater than 6 unit is: 0.3\n",
      "The confidence interval is: (0.18, 0.42)\n"
     ]
    }
   ],
   "source": [
    "margin_of_error = scipy.stats.norm.ppf(1 - alpha / 2) * np.sqrt(w_over_6 * (1 - w_over_6) / n)\n",
    "print(f'The proportion of wind samples greater than 6 unit is: {w_over_6}')\n",
    "print(f'The confidence interval is: ({round(w_over_6 - margin_of_error, 2)}, {round(w_over_6 + margin_of_error, 2)})')"
   ]
  },
  {
   "cell_type": "markdown",
   "metadata": {
    "id": "EjXWMW_Pg0N_"
   },
   "source": [
    "#Mean Test\n",
    "##We perform the following mean hypothesis test, where we formulate a hypothesis about the mean of the wind samples being 6 and test our hypothesis using a standard numerical t-test. We are going to assume that the standard deviation of the population is also not know, as is commonly the case when conducting a test about the population mean interval.\n",
    "\n",
    "#Hypothesis Test\n",
    "##We conduct a two-tailed hypothesis test for the sample means being equivalent to 6 units with 95% confidence level."
   ]
  },
  {
   "cell_type": "code",
   "execution_count": 13,
   "metadata": {
    "colab": {
     "base_uri": "https://localhost:8080/"
    },
    "id": "jQ-rs09tXICy",
    "outputId": "2bb290fc-2e44-4a63-835a-424d0d1f405c"
   },
   "outputs": [
    {
     "name": "stdout",
     "output_type": "stream",
     "text": [
      "The mean of the wind samples is: 5.36\n",
      "The t-statistic is: -2.904456914470339\n",
      "The p-value is: 0.0045374559792208365\n",
      "The critical value is: 1.9842169515086827\n",
      "Reject null hypothesis? True\n"
     ]
    }
   ],
   "source": [
    "alpha = 0.05\n",
    "degrees_of_freedom = len(wind_samples) - 1\n",
    "t_statistic, p_value = scipy.stats.ttest_1samp(wind_samples, 6)\n",
    "critical_value = scipy.stats.t.ppf(1 - alpha / 2, degrees_of_freedom)\n",
    "print(f'The mean of the wind samples is: {round(wind_samples.mean(), 2)}')\n",
    "print(f'The t-statistic is: {t_statistic}')\n",
    "print(f'The p-value is: {p_value}')\n",
    "print(f'The critical value is: {critical_value}')\n",
    "print(f'Reject null hypothesis? {p_value <= alpha}')"
   ]
  },
  {
   "cell_type": "markdown",
   "metadata": {
    "id": "wGGMX5hThIG1"
   },
   "source": [
    "##Since the p-value is less than the significance level of 0.05, we reject the null hypothesis to conclude that the mean of the wind samples is above 6 units.\n",
    "\n"
   ]
  },
  {
   "cell_type": "markdown",
   "metadata": {
    "id": "hQMPQYdVhUxr"
   },
   "source": [
    "#Confidence Interval\n",
    "\n",
    "##We construct a confidence interval for a 95% confidence level for the estimation of the population mean."
   ]
  },
  {
   "cell_type": "code",
   "execution_count": 14,
   "metadata": {
    "colab": {
     "base_uri": "https://localhost:8080/"
    },
    "id": "dLQRnYYAXfAY",
    "outputId": "a556b24b-1c14-4116-d606-91d6f837ded7"
   },
   "outputs": [
    {
     "name": "stdout",
     "output_type": "stream",
     "text": [
      "Confidence interval: (4.93, 5.8)\n"
     ]
    }
   ],
   "source": [
    "margin_of_error = critical_value * wind_samples.std() / np.sqrt(n)\n",
    "print(f'Confidence interval: ({round(wind_samples.mean() - margin_of_error, 2)}, {round(wind_samples.mean() + margin_of_error, 2)})')"
   ]
  }
 ],
 "metadata": {
  "colab": {
   "provenance": []
  },
  "kernelspec": {
   "display_name": "Python 3 (ipykernel)",
   "language": "python",
   "name": "python3"
  },
  "language_info": {
   "codemirror_mode": {
    "name": "ipython",
    "version": 3
   },
   "file_extension": ".py",
   "mimetype": "text/x-python",
   "name": "python",
   "nbconvert_exporter": "python",
   "pygments_lexer": "ipython3",
   "version": "3.11.5"
  }
 },
 "nbformat": 4,
 "nbformat_minor": 1
}
