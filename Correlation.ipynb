{
  "nbformat": 4,
  "nbformat_minor": 0,
  "metadata": {
    "colab": {
      "provenance": []
    },
    "kernelspec": {
      "name": "python3",
      "display_name": "Python 3"
    },
    "language_info": {
      "name": "python"
    }
  },
  "cells": [
    {
      "cell_type": "markdown",
      "source": [
        "**Avgerage Wind Versus Average Temperature Correlation**"
      ],
      "metadata": {
        "id": "qCJjw-hjnUoJ"
      }
    },
    {
      "cell_type": "code",
      "execution_count": 52,
      "metadata": {
        "colab": {
          "base_uri": "https://localhost:8080/",
          "height": 323
        },
        "id": "RtrggGGAY_2Y",
        "outputId": "99ae3ae2-5465-4889-e24d-efc98446e6eb"
      },
      "outputs": [
        {
          "output_type": "stream",
          "name": "stdout",
          "text": [
            "r = 0.035\n"
          ]
        },
        {
          "output_type": "display_data",
          "data": {
            "text/plain": [
              "<Figure size 500x300 with 1 Axes>"
            ],
            "image/png": "[encoded data removed]"
          },
          "metadata": {}
        }
      ],
      "source": [
        "import matplotlib.pyplot as plt\n",
        "from scipy.stats import pearsonr\n",
        "import pandas as pd\n",
        "import numpy as np\n",
        "import random\n",
        "\n",
        "# Change variables here\n",
        "x_var = 'avg_wind'\n",
        "y_var = 'avg_temperature'\n",
        "\n",
        "x_var_name = x_var.split('_')[1].capitalize()\n",
        "y_var_name = y_var.split('_')[1].capitalize()\n",
        "\n",
        "# Replace 'file_path.csv' with the path to your CSV file\n",
        "file_path = 'houston-aqi-2010-2021.csv'\n",
        "\n",
        "# Load the CSV file into a Pandas dataframe\n",
        "df = pd.read_csv(file_path)\n",
        "\n",
        "# 100 Random and Unique rows\n",
        "A = random.choices(df[x_var].unique(), k=100)\n",
        "B = random.choices(df[y_var].unique(), k=100)\n",
        "\n",
        "# Merge both 100 random and unique rows into one list\n",
        "df2 = pd.DataFrame(np.column_stack([A, B]), columns=[x_var, y_var])\n",
        "\n",
        "# x and y variable\n",
        "x = df2[x_var]\n",
        "y = df2[y_var]\n",
        "# correlation coefficient r\n",
        "corr_matrix = df2.corr()\n",
        "r = round(corr_matrix[x_var][y_var], 3)\n",
        "print(\"r = \" + str(r))\n",
        "# scatterplot\n",
        "fig, ax = plt.subplots(figsize=(5, 3))\n",
        "fig.subplots_adjust(bottom=0.2, left=0.2)\n",
        "plt.scatter(x, y, c='DarkBlue')\n",
        "plt.title(\"Average \" + x_var_name + \" vs \" + \"Average \" + y_var_name)\n",
        "ax.set_xlabel(\"Average \" + y_var_name)\n",
        "ax.set_ylabel(\"Average \" + y_var_name + \"\")\n",
        "plt.show()"
      ]
    },
    {
      "cell_type": "markdown",
      "source": [
        "The coefficient correlation is r = 0.035 and n = 100 (because there are 100 random pairs of sample data). Base on the scatter plot there is no correlation between the avgerage wind and the average temperature."
      ],
      "metadata": {
        "id": "w3Y_CwOKaFLd"
      }
    },
    {
      "cell_type": "markdown",
      "source": [
        "**Avgerage Wind Versus Average Humidity Correlation**"
      ],
      "metadata": {
        "id": "Cbhwqegon1wl"
      }
    },
    {
      "cell_type": "code",
      "source": [
        "import matplotlib.pyplot as plt\n",
        "from scipy.stats import pearsonr\n",
        "import pandas as pd\n",
        "import numpy as np\n",
        "import random\n",
        "\n",
        "# Change variables here\n",
        "x_var = 'avg_wind'\n",
        "y_var = 'avg_humidity'\n",
        "\n",
        "x_var_name = x_var.split('_')[1].capitalize()\n",
        "y_var_name = y_var.split('_')[1].capitalize()\n",
        "\n",
        "# Replace 'file_path.csv' with the path to your CSV file\n",
        "file_path = 'houston-aqi-2010-2021.csv'\n",
        "\n",
        "# Load the CSV file into a Pandas dataframe\n",
        "df = pd.read_csv(file_path)\n",
        "\n",
        "# 100 Random and Unique rows\n",
        "A = random.choices(df[x_var].unique(), k=100)\n",
        "B = random.choices(df[y_var].unique(), k=100)\n",
        "\n",
        "# Merge both 100 random and unique rows into one list\n",
        "df2 = pd.DataFrame(np.column_stack([A, B]), columns=[x_var, y_var])\n",
        "\n",
        "# x and y variable\n",
        "x = df2[x_var]\n",
        "y = df2[y_var]\n",
        "# correlation coefficient r\n",
        "corr_matrix = df2.corr()\n",
        "r = round(corr_matrix[x_var][y_var], 3)\n",
        "print(\"r = \" + str(r))\n",
        "# scatterplot\n",
        "fig, ax = plt.subplots(figsize=(5, 3))\n",
        "fig.subplots_adjust(bottom=0.2, left=0.2)\n",
        "plt.scatter(x, y, c='DarkBlue')\n",
        "plt.title(\"Average \" + x_var_name + \" vs \" + \"Average \" + y_var_name)\n",
        "ax.set_xlabel(\"Average \" + y_var_name)\n",
        "ax.set_ylabel(\"Average \" + y_var_name + \"\")\n",
        "plt.show()"
      ],
      "metadata": {
        "colab": {
          "base_uri": "https://localhost:8080/",
          "height": 323
        },
        "id": "zgg0VQiRZOz0",
        "outputId": "b3ce8cae-bb37-48e6-cf2c-4a1b1cf23caa"
      },
      "execution_count": 53,
      "outputs": [
        {
          "output_type": "stream",
          "name": "stdout",
          "text": [
            "r = -0.106\n"
          ]
        },
        {
          "output_type": "display_data",
          "data": {
            "text/plain": [
              "<Figure size 500x300 with 1 Axes>"
            ],
            "image/png": "[encoded data removed]"
          },
          "metadata": {}
        }
      ]
    },
    {
      "cell_type": "markdown",
      "source": [
        "The coefficient correlation is r = -0.106 and n = 100 (because there are 100 random pairs of sample data). Base on the scatter plot there is no correlation between the avgerage wind and the average humidity."
      ],
      "metadata": {
        "id": "hfQKKVU5czeQ"
      }
    },
    {
      "cell_type": "markdown",
      "source": [
        "**Avgerage Wind Versus Average Temperature Versus Average Humidity Heat Map Correlation**"
      ],
      "metadata": {
        "id": "dUEZYHPbpULP"
      }
    },
    {
      "cell_type": "code",
      "source": [
        "import matplotlib.pyplot as mp\n",
        "import seaborn as sb\n",
        "import pandas as pd\n",
        "import numpy as np\n",
        "import random\n",
        "import matplotlib.pyplot as plt\n",
        "\n",
        "# CHANGE VARIABLES HERE\n",
        "A_var = 'avg_wind'\n",
        "B_var = 'avg_temperature'\n",
        "C_var = 'avg_humidity'\n",
        "D_var = 'avg_pressure'\n",
        "avg = \"Average \"\n",
        "\n",
        "# Getting labels from variables\n",
        "A_var_name = avg + A_var.split('_')[1].capitalize()\n",
        "B_var_name = avg + B_var.split('_')[1].capitalize()\n",
        "C_var_name = avg + C_var.split('_')[1].capitalize()\n",
        "D_var_name = avg + D_var.split('_')[1].capitalize()\n",
        "\n",
        "# CSV file path\n",
        "file_path = 'houston-aqi-2010-2021.csv'\n",
        "\n",
        "# read CSV file\n",
        "df = pd.read_csv(file_path)\n",
        "\n",
        "# 100 Random and Unique rows x1\n",
        "A = random.choices(df[A_var].unique(), k=100)\n",
        "B = random.choices(df[B_var].unique(), k=100)\n",
        "C = random.choices(df[C_var].unique(), k=100)\n",
        "D = random.choices(df[D_var].unique(), k=100)\n",
        "\n",
        "# Merge both 100 unique rows into one list\n",
        "df2 = pd.DataFrame(np.column_stack([A, B, C, D]), columns=[A_var_name, B_var_name,\n",
        "                                                      C_var_name, D_var_name])\n",
        "\n",
        "\n",
        "# Calculate correlation matrix\n",
        "corr_matrix = df2.corr()\n",
        "print(corr_matrix)\n",
        "\n",
        "# Plotting the correlation matrix as a heatmap\n",
        "plt.figure(figsize=(5, 5))\n",
        "plt.title('Correlation Heatmap')\n",
        "plt.imshow(corr_matrix, cmap='coolwarm', interpolation='none')\n",
        "plt.colorbar()\n",
        "plt.xticks(range(len(corr_matrix)), corr_matrix.columns, rotation='vertical')\n",
        "plt.yticks(range(len(corr_matrix)), corr_matrix.columns)\n",
        "plt.show()"
      ],
      "metadata": {
        "colab": {
          "base_uri": "https://localhost:8080/",
          "height": 740
        },
        "id": "C2ta9qBYpbgl",
        "outputId": "c3b93a05-b17a-48e9-f056-a201ff1432a6"
      },
      "execution_count": 60,
      "outputs": [
        {
          "output_type": "stream",
          "name": "stdout",
          "text": [
            "                     Average Wind  Average Temperature  Average Humidity  \\\n",
            "Average Wind             1.000000             0.104071         -0.032654   \n",
            "Average Temperature      0.104071             1.000000         -0.068790   \n",
            "Average Humidity        -0.032654            -0.068790          1.000000   \n",
            "Average Pressure        -0.158261             0.114671          0.103543   \n",
            "\n",
            "                     Average Pressure  \n",
            "Average Wind                -0.158261  \n",
            "Average Temperature          0.114671  \n",
            "Average Humidity             0.103543  \n",
            "Average Pressure             1.000000  \n"
          ]
        },
        {
          "output_type": "display_data",
          "data": {
            "text/plain": [
              "<Figure size 500x500 with 2 Axes>"
            ],
            "image/png": "[encoded data removed]"
          },
          "metadata": {}
        }
      ]
    },
    {
      "cell_type": "markdown",
      "source": [
        "Base on the heatmap there is no correlation between the avgerage wind, average temperature and average humidity."
      ],
      "metadata": {
        "id": "9gF_KjHp_1OX"
      }
    },
    {
      "cell_type": "markdown",
      "source": [
        "**Avgerage Wind Versus Average Temperature Hypothesis Test**"
      ],
      "metadata": {
        "id": "DjPhjl-qoOwC"
      }
    },
    {
      "cell_type": "code",
      "source": [
        "import matplotlib.pyplot as plt\n",
        "from scipy.stats import pearsonr\n",
        "import pandas as pd\n",
        "import numpy as np\n",
        "import random\n",
        "\n",
        "# Change variables here\n",
        "x_var = 'avg_wind'\n",
        "y_var = 'avg_temperature'\n",
        "\n",
        "x_var_name = x_var.split('_')[1].capitalize()\n",
        "y_var_name = y_var.split('_')[1].capitalize()\n",
        "\n",
        "# Replace 'file_path.csv' with the path to your CSV file\n",
        "file_path = 'houston-aqi-2010-2021.csv'\n",
        "\n",
        "# Load the CSV file into a Pandas dataframe\n",
        "df = pd.read_csv(file_path)\n",
        "\n",
        "# 100 Random and Unique rows\n",
        "A = random.choices(df[x_var].unique(), k=100)\n",
        "B = random.choices(df[y_var].unique(), k=100)\n",
        "\n",
        "# Merge both 100 random and unique rows into one list\n",
        "df2 = pd.DataFrame(np.column_stack([A, B]), columns=[x_var, y_var])\n",
        "\n",
        "# x and y variable\n",
        "x = df2[x_var]\n",
        "y = df2[y_var]\n",
        "# correlation coefficient r\n",
        "corr_matrix = df2.corr()\n",
        "r = round(corr_matrix[x_var][y_var], 3)\n",
        "\n",
        "# correlation coefficient r and P-value\n",
        "pearsonr(x, y)\n",
        "r2 = round(pearsonr(x, y)[0], 3)\n",
        "pvalue = round(pearsonr(x, y)[1], 3)\n",
        "\n",
        "print(\"Pvalue = \" + str(pvalue))\n"
      ],
      "metadata": {
        "colab": {
          "base_uri": "https://localhost:8080/"
        },
        "id": "MOnJVeAqocB2",
        "outputId": "3f76daa0-b6c6-4c69-f309-6910fab1505a"
      },
      "execution_count": 301,
      "outputs": [
        {
          "output_type": "stream",
          "name": "stdout",
          "text": [
            "Pvalue = 0.121\n"
          ]
        }
      ]
    },
    {
      "cell_type": "markdown",
      "source": [
        "p-value = 0.121\n",
        "\n",
        "H0: ρ = 0 (No correlation),    H1: ρ ≠ 0 (Correlation)\n",
        "\n",
        "The P-value is 0.121 which is greater than the significance level of 0.05. We conclude there is not sufficient evidence to support the claim of a linear correlation between the average wind and the average humidity."
      ],
      "metadata": {
        "id": "Cr-hbDwTqF21"
      }
    },
    {
      "cell_type": "markdown",
      "source": [
        "**Avgerage Wind Versus Average Humidity Hypothesis Test**"
      ],
      "metadata": {
        "id": "oyHx3s5DrZER"
      }
    },
    {
      "cell_type": "code",
      "source": [
        "import matplotlib.pyplot as plt\n",
        "from scipy.stats import pearsonr\n",
        "import pandas as pd\n",
        "import numpy as np\n",
        "import random\n",
        "\n",
        "# Change variables here\n",
        "x_var = 'avg_wind'\n",
        "y_var = 'avg_humidity'\n",
        "\n",
        "x_var_name = x_var.split('_')[1].capitalize()\n",
        "y_var_name = y_var.split('_')[1].capitalize()\n",
        "\n",
        "# Replace 'file_path.csv' with the path to your CSV file\n",
        "file_path = 'houston-aqi-2010-2021.csv'\n",
        "\n",
        "# Load the CSV file into a Pandas dataframe\n",
        "df = pd.read_csv(file_path)\n",
        "\n",
        "# 100 Random and Unique rows\n",
        "A = random.choices(df[x_var].unique(), k=100)\n",
        "B = random.choices(df[y_var].unique(), k=100)\n",
        "\n",
        "# Merge both 100 random and unique rows into one list\n",
        "df2 = pd.DataFrame(np.column_stack([A, B]), columns=[x_var, y_var])\n",
        "\n",
        "# x and y variable\n",
        "x = df2[x_var]\n",
        "y = df2[y_var]\n",
        "# correlation coefficient r\n",
        "corr_matrix = df2.corr()\n",
        "r = round(corr_matrix[x_var][y_var], 3)\n",
        "\n",
        "# correlation coefficient r and P-value\n",
        "pearsonr(x, y)\n",
        "r2 = round(pearsonr(x, y)[0], 3)\n",
        "pvalue = round(pearsonr(x, y)[1], 3)\n",
        "\n",
        "print(\"Pvalue = \" + str(pvalue))\n"
      ],
      "metadata": {
        "colab": {
          "base_uri": "https://localhost:8080/"
        },
        "id": "qhNsLW7xrYGE",
        "outputId": "3488e5f5-5bbf-4652-b634-cf76938230fb"
      },
      "execution_count": 297,
      "outputs": [
        {
          "output_type": "stream",
          "name": "stdout",
          "text": [
            "Pvalue = 0.592\n"
          ]
        }
      ]
    },
    {
      "cell_type": "markdown",
      "source": [
        "p-value = 0.592\n",
        "\n",
        "H0: ρ = 0 (No correlation), H1: ρ ≠ 0 (Correlation)\n",
        "\n",
        "The P-value is 0.592 which is greater than the significance level of 0.05. We conclude there is not sufficient evidence to support the claim of a linear correlation between the average wind and the average humidity."
      ],
      "metadata": {
        "id": "yi9VPsBLspt7"
      }
    },
    {
      "cell_type": "markdown",
      "source": [
        "**Avgerage Wind Versus Average Temperature CI**"
      ],
      "metadata": {
        "id": "yYcnyV-tudHi"
      }
    },
    {
      "cell_type": "code",
      "source": [
        "import math\n",
        "\n",
        "# Avgerage Wind Versus Average Temperature from above code\n",
        "r =  0.035\n",
        "\n",
        "# sample size\n",
        "n = 100\n",
        "\n",
        "# 95% Confidence Level, Alpha = 0.05 which is z score of 1.96\n",
        "z = 1.96\n",
        "\n",
        "\n",
        "# CI equation --> CI = r' ± Z1-α/2 * 1/squareroot(n-3)'\n",
        "\n",
        "stderr = 1.0 / math.sqrt(n - 3)            # 1/sqrt(n-3)\n",
        "delta = z * stderr                         # Multiply by the Z-score\n",
        "lower = math.tanh(math.atanh(r) - delta)   # lower limit\n",
        "upper = math.tanh(math.atanh(r) + delta)   # upper limit\n",
        "\n",
        "print('[' + str(round(lower, 3)) + ', '  +  str(round(upper, 3)) + ']')"
      ],
      "metadata": {
        "colab": {
          "base_uri": "https://localhost:8080/"
        },
        "id": "xCSCUKjWtW0C",
        "outputId": "a23a149a-64fd-4ee4-d9c6-fa03af16ba49"
      },
      "execution_count": 309,
      "outputs": [
        {
          "output_type": "stream",
          "name": "stdout",
          "text": [
            "[-0.163, 0.23]\n"
          ]
        }
      ]
    },
    {
      "cell_type": "markdown",
      "source": [
        "r = 0.035, Confidence Level = 95%, Confidence Interval = [-0.163, 0.23]\n",
        "\n",
        "We are 95% confident that the interval from -0.163 to 0.23 does actually fall in the coefficient correlation r.\n",
        "\n",
        "The coefficient correlation r of the average wind versus the average temperature is 0.035, it is outside of confidence interval. We conclude there is not sufficient evidence to support the claim of a linear correlation between the average wind and the average temperature."
      ],
      "metadata": {
        "id": "d9MU7uEP6N7J"
      }
    },
    {
      "cell_type": "markdown",
      "source": [
        "**Avgerage Wind Versus Average Humidity CI**"
      ],
      "metadata": {
        "id": "_F3lBTvW9Q-E"
      }
    },
    {
      "cell_type": "code",
      "source": [
        "import math\n",
        "\n",
        "# Avgerage Wind Versus Average Humidity from above code\n",
        "r = -0.106\n",
        "\n",
        "# sample size\n",
        "n = 100\n",
        "\n",
        "# 95% Confidence Level, Alpha = 0.05 which is z score of 1.96\n",
        "z = 1.96\n",
        "\n",
        "\n",
        "# CI equation --> CI = r' ± Z1-α/2 * 1/squareroot(n-3)'\n",
        "\n",
        "stderr = 1.0 / math.sqrt(n - 3)            # stand deviation 1/sqrt(n-3)\n",
        "delta = z * stderr                         # Multiply by the Z-score\n",
        "lower = math.tanh(math.atanh(r) - delta)   # lower limit\n",
        "upper = math.tanh(math.atanh(r) + delta)   # upper limit\n",
        "\n",
        "print('[' + str(round(lower, 3)) + ', '  +  str(round(upper, 3)) + ']' )"
      ],
      "metadata": {
        "colab": {
          "base_uri": "https://localhost:8080/"
        },
        "id": "uuY8BNJ49UmP",
        "outputId": "916485b1-0dbf-4d6f-d308-84624cbcedc2"
      },
      "execution_count": 308,
      "outputs": [
        {
          "output_type": "stream",
          "name": "stdout",
          "text": [
            "[-0.296, 0.092]\n"
          ]
        }
      ]
    },
    {
      "cell_type": "markdown",
      "source": [
        "r = -0.106, Confidence Level = 95%, Confidence Interval = [-0.296, 0.092]\n",
        "\n",
        "\n",
        "We are 95% confident that the interval from -0.296 to 0.092 does actually fall in the coefficient correlation r.\n",
        "\n",
        "The coefficient correlation r of the average wind versus the average humidity is 0.035, it is outside of confidence interval. We conclude there is not sufficient evidence to support the claim of a linear correlation between the average wind and the average humidity."
      ],
      "metadata": {
        "id": "eF39C-gR9zIR"
      }
    }
  ]
}