{
 "cells": [
  {
   "cell_type": "markdown",
   "metadata": {
    "colab": {
     "base_uri": "https://localhost:8080/"
    },
    "id": "kPY6sjWaYlh6",
    "outputId": "0f997580-459e-4737-beec-f4648e1cb88f"
   },
   "source": [
    "# Mean and Proportion Hypothesis Tests"
   ]
  },
  {
   "cell_type": "code",
   "execution_count": 1,
   "metadata": {
    "colab": {
     "base_uri": "https://localhost:8080/"
    },
    "id": "vrS0uSBXY0BF",
    "outputId": "8defdb80-5591-4d08-bb5f-20cfe5c34e74"
   },
   "outputs": [],
   "source": [
    "import numpy as np\n",
    "import pandas as pd\n",
    "import scipy.stats\n",
    "\n",
    "file_path = '~/Documents/UNT/csce5310/houston-aqi-2010-2021.csv'\n",
    "df = pd.read_csv(file_path)"
   ]
  },
  {
   "cell_type": "code",
   "execution_count": 3,
   "metadata": {
    "colab": {
     "base_uri": "https://localhost:8080/"
    },
    "id": "OXziZHF_Y3mU",
    "outputId": "1ee1f440-d20f-40b1-ad66-326ee8e94978"
   },
   "outputs": [
    {
     "name": "stdout",
     "output_type": "stream",
     "text": [
      "Mean Temperature: 68.74\n"
     ]
    }
   ],
   "source": [
    "print(f\"Mean Temperature: {round(df['avg_temperature'].mean(), 2)}\")"
   ]
  },
  {
   "cell_type": "markdown",
   "metadata": {
    "id": "gTQySocoiFQY"
   },
   "source": [
    "## Sample Data"
   ]
  },
  {
   "cell_type": "code",
   "execution_count": 4,
   "metadata": {
    "colab": {
     "base_uri": "https://localhost:8080/"
    },
    "id": "UHABY9lzY764",
    "outputId": "c2449652-1337-4f75-8e09-ab5885db4ed6"
   },
   "outputs": [],
   "source": [
    "n = 100\n",
    "random_indices = np.random.choice(df.index, n, replace=False)\n",
    "temperature_samples = df.loc[random_indices, 'avg_temperature']"
   ]
  },
  {
   "cell_type": "markdown",
   "metadata": {
    "id": "PfnSJL4niPZK"
   },
   "source": [
    "## Proportion Test"
   ]
  },
  {
   "cell_type": "markdown",
   "metadata": {},
   "source": [
    "### Hypothesis Test\n",
    "\n",
    "We are going to test the claim that greater than 50% of the temperature samples are greater than 65 units with a 99% confidence level by conducting a right-tailed hypothesis test, where the null hypothesis is the statement of equality about the proportion of pressure samples greater than 65 being equal to 50%."
   ]
  },
  {
   "cell_type": "code",
   "execution_count": 5,
   "metadata": {
    "colab": {
     "base_uri": "https://localhost:8080/"
    },
    "id": "9e8mG1MlZZBX",
    "outputId": "93a54458-85dc-482c-a588-80997b01fb00"
   },
   "outputs": [
    {
     "name": "stdout",
     "output_type": "stream",
     "text": [
      "The z-index is: 2.1999999999999997\n",
      "The p-value is: 0.013903447513498616\n",
      "The critical value is: 2.3263478740408408\n",
      "Reject null hypothesis? False\n"
     ]
    }
   ],
   "source": [
    "alpha = 0.01\n",
    "p = q = 0.5\n",
    "temperature_over_65 = np.where(temperature_samples > 65, 1, 0).sum() / 100.\n",
    "z = (temperature_over_65 - p) / np.sqrt(p * q / n)\n",
    "print(f'The z-index is: {z}')\n",
    "print(f'The p-value is: {scipy.stats.norm.sf(z)}')\n",
    "print(f'The critical value is: {scipy.stats.norm.ppf(1 - alpha)}')\n",
    "print(f'Reject null hypothesis? {scipy.stats.norm.sf(z) <= alpha}')"
   ]
  },
  {
   "cell_type": "markdown",
   "metadata": {},
   "source": [
    "Since the p-value is slighlty greater than the significance level of 0.01, we fail to reject the null hypothesis and conclude that the proportion of temperature above 65 is equal to 50%. "
   ]
  },
  {
   "cell_type": "markdown",
   "metadata": {
    "id": "_Iy7zJ-0ilPX"
   },
   "source": [
    "### Confidence Interval\n",
    "\n",
    "We calculate the confidence interval for obtaining an estimate over the population proportion we have calculated using the chosen significance level of 0.01."
   ]
  },
  {
   "cell_type": "code",
   "execution_count": 6,
   "metadata": {
    "colab": {
     "base_uri": "https://localhost:8080/"
    },
    "id": "OyhaU0-DZoE5",
    "outputId": "b0da6b5c-6745-40d4-b770-5c009a7f0462"
   },
   "outputs": [
    {
     "name": "stdout",
     "output_type": "stream",
     "text": [
      "The proportion of temperature samples greater than 65 units is: 0.61\n",
      "The confidence interval is: (0.48, 0.74)\n"
     ]
    }
   ],
   "source": [
    "margin_of_error = scipy.stats.norm.ppf(1 - alpha / 2) * np.sqrt(temperature_over_65 * (1 - temperature_over_65) / n)\n",
    "print(f'The proportion of temperature samples greater than 65 units is: {temperature_over_65}')\n",
    "print(f'The confidence interval is: ({round(temperature_over_65 - margin_of_error, 2)}, {round(temperature_over_65 + margin_of_error, 2)})')"
   ]
  },
  {
   "cell_type": "markdown",
   "metadata": {},
   "source": [
    "We can see that the confidence interval estimate for the proportion of temperature samples above 65 units agrees with our null hypothesis about it being 50%."
   ]
  },
  {
   "cell_type": "markdown",
   "metadata": {
    "id": "Kju7QMR2itxm"
   },
   "source": [
    "## Mean Test"
   ]
  },
  {
   "cell_type": "markdown",
   "metadata": {},
   "source": [
    "### Hypothesis Test\n",
    "\n",
    "We conduct a two-tailed hypothesis test for the sample means being equivalent to 65 units with 95% confidence level."
   ]
  },
  {
   "cell_type": "code",
   "execution_count": 7,
   "metadata": {
    "colab": {
     "base_uri": "https://localhost:8080/"
    },
    "id": "iw6wazbZZ6uo",
    "outputId": "51b0c60e-b621-4f1f-e3da-e22f6959b59c"
   },
   "outputs": [
    {
     "name": "stdout",
     "output_type": "stream",
     "text": [
      "The mean of the temperature samples is: 68.25\n",
      "The t-statistic is: 2.1795097697845724\n",
      "The p-value is: 0.03166514327125672\n",
      "The critical value is: 1.9842169515086827\n",
      "Reject null hypothesis? True\n"
     ]
    }
   ],
   "source": [
    "alpha = 0.05\n",
    "degrees_of_freedom = len(temperature_samples) - 1\n",
    "t_statistic, p_value = scipy.stats.ttest_1samp(temperature_samples, 65)\n",
    "critical_value = scipy.stats.t.ppf(1 - alpha / 2, degrees_of_freedom)\n",
    "print(f'The mean of the temperature samples is: {round(temperature_samples.mean(), 2)}')\n",
    "print(f'The t-statistic is: {t_statistic}')\n",
    "print(f'The p-value is: {p_value}')\n",
    "print(f'The critical value is: {critical_value}')\n",
    "print(f'Reject null hypothesis? {p_value <= alpha}')"
   ]
  },
  {
   "cell_type": "markdown",
   "metadata": {
    "id": "sHikZDFKi5mP"
   },
   "source": [
    "Since the p-value is less than the significance level of 0.05, we reject the null hypothesis to conclude that the mean of the temperature samples is above 65 units."
   ]
  },
  {
   "cell_type": "markdown",
   "metadata": {
    "id": "zOczJfdri-7n"
   },
   "source": [
    "### Confidence Interval\n",
    "\n",
    "We construct a confidence interval for a 95% confidence level for the estimation of the population mean."
   ]
  },
  {
   "cell_type": "code",
   "execution_count": 8,
   "metadata": {
    "colab": {
     "base_uri": "https://localhost:8080/"
    },
    "id": "ORCEyWkPaJHa",
    "outputId": "67816381-a4a9-4617-a465-008d05389146"
   },
   "outputs": [
    {
     "name": "stdout",
     "output_type": "stream",
     "text": [
      "Confidence interval: (65.29, 71.22)\n"
     ]
    }
   ],
   "source": [
    "margin_of_error = critical_value * temperature_samples.std() / np.sqrt(n)\n",
    "print(f'Confidence interval: ({round(temperature_samples.mean() - margin_of_error, 2)}, {round(temperature_samples.mean() + margin_of_error, 2)})')"
   ]
  },
  {
   "cell_type": "markdown",
   "metadata": {},
   "source": [
    "From the confidence interval, we can see that the estimate for the population temperature mean is slightly above 65 "
   ]
  }
 ],
 "metadata": {
  "colab": {
   "provenance": []
  },
  "kernelspec": {
   "display_name": "Python 3 (ipykernel)",
   "language": "python",
   "name": "python3"
  },
  "language_info": {
   "codemirror_mode": {
    "name": "ipython",
    "version": 3
   },
   "file_extension": ".py",
   "mimetype": "text/x-python",
   "name": "python",
   "nbconvert_exporter": "python",
   "pygments_lexer": "ipython3",
   "version": "3.11.5"
  }
 },
 "nbformat": 4,
 "nbformat_minor": 1
}
