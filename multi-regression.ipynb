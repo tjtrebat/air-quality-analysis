{
 "cells": [
  {
   "cell_type": "markdown",
   "id": "a051b4dc",
   "metadata": {},
   "source": [
    "# Multiple Regression using Weather Data to Predict Air Quality \n",
    "\n",
    "In the following report, we analyze the impact for our various weather data predictors (i.e. wind, temperature, pressure and humidity) on the level of pollutants by building and evaluating a multiple regression model. We output statistics related to R-Squared and Adjusted R-Squared values to determine how well the independent variables correlate with the dependent variables, and to help choose a minimal set of weather predictors that will help to prevent our model from overfitting."
   ]
  },
  {
   "cell_type": "code",
   "execution_count": 1,
   "id": "1f6a4cb8",
   "metadata": {},
   "outputs": [],
   "source": [
    "import os\n",
    "import numpy as np\n",
    "import pandas as pd\n",
    "\n",
    "from sklearn.preprocessing import MinMaxScaler\n",
    "from sklearn.metrics import mean_squared_error\n",
    "from sklearn.linear_model import LinearRegression\n",
    "from sklearn.model_selection import train_test_split"
   ]
  },
  {
   "cell_type": "code",
   "execution_count": 2,
   "id": "9f5e4db4",
   "metadata": {},
   "outputs": [
    {
     "name": "stdout",
     "output_type": "stream",
     "text": [
      "   Unnamed: 0  day_of_year  year   latitude  longitude  avg_pm10  aqi_pm10  \\\n",
      "0           0            2  2010  29.733726 -95.257593      13.0        12   \n",
      "1           1            2  2010  29.733726 -95.257593      13.0        12   \n",
      "2           2            2  2010  29.733726 -95.257593      13.0        12   \n",
      "3           3            2  2010  29.733726 -95.257593      13.0        12   \n",
      "4           4            2  2010  29.733726 -95.257593      13.0        12   \n",
      "\n",
      "     avg_co  aqi_co    avg_no2  ...    avg_o3  aqi_o3  avg_pm25  aqi_pm25  \\\n",
      "0  0.297667     NaN  17.258333  ...  0.027294      32      11.6      48.0   \n",
      "1  0.297667     NaN  17.258333  ...  0.027294      32      11.6      48.0   \n",
      "2  0.297667     NaN  17.258333  ...  0.027294      32       9.7      40.0   \n",
      "3  0.297667     NaN  17.258333  ...  0.027294      32       9.7      40.0   \n",
      "4  0.325000     6.0  17.258333  ...  0.027294      32      11.6      48.0   \n",
      "\n",
      "    avg_so2  aqi_so2  avg_humidity  avg_temperature  avg_wind  avg_pressure  \n",
      "0  3.591304     19.0          56.5             47.5    3.9125   1027.541667  \n",
      "1  3.671429      NaN          56.5             47.5    3.9125   1027.541667  \n",
      "2  3.591304     19.0          56.5             47.5    3.9125   1027.541667  \n",
      "3  3.671429      NaN          56.5             47.5    3.9125   1027.541667  \n",
      "4  3.591304     19.0          56.5             47.5    3.9125   1027.541667  \n",
      "\n",
      "[5 rows x 21 columns]\n"
     ]
    }
   ],
   "source": [
    "archive_path = '/home/UNT/tjt0147/csce5310/'\n",
    "file_path = os.path.join(archive_path, 'houston-aqi-2010-2021.csv')\n",
    "df = pd.read_csv(file_path)\n",
    "print(df.head())"
   ]
  },
  {
   "cell_type": "markdown",
   "id": "69f94cb9",
   "metadata": {},
   "source": [
    "## Adjusted R-Squared and MSE for three predictors\n",
    "\n",
    "In the below, we output the results of a multiple regression when only three predictors are used, in order to determine if only three independent variables are sufficient for our regression equation, to help prevent our model from overfitting."
   ]
  },
  {
   "cell_type": "code",
   "execution_count": 3,
   "id": "d1c3b943",
   "metadata": {},
   "outputs": [
    {
     "name": "stdout",
     "output_type": "stream",
     "text": [
      "Predictors: ['avg_pressure', 'avg_wind', 'avg_temperature']\n",
      "Coefficients: [[ 7.59704332e+00  2.18856323e+01  3.64478399e+01]\n",
      " [-7.76873737e-02 -2.09062065e-01 -1.62389496e-01]\n",
      " [-5.38101699e+00 -1.46397911e+01 -9.27348340e+00]\n",
      " [ 6.68846136e-04 -8.14343713e-03  1.14641063e-02]\n",
      " [-2.41200428e-01 -3.78860778e+00  6.92681105e+00]\n",
      " [-1.85964623e-01 -6.70266056e-01 -7.97675897e-01]]\n",
      "Intercept: [3.54649203e+00 4.35023658e-01 2.63750476e+01 2.03128838e-02\n",
      " 8.64687254e+00 1.45622799e+00]\n",
      "Mean Squared Error on Test Set: 48.841781714338055\n",
      "Regular R-squared: 0.16154761357269626\n",
      "Adjusted R-squared: 0.15887738304267307\n",
      "\n",
      "Predictors: ['avg_wind', 'avg_temperature', 'avg_humidity']\n",
      "Coefficients: [[ 2.45883356e+01  3.58701121e+01 -2.38270382e+01]\n",
      " [-1.90532084e-01 -1.20410918e-01 -1.97625911e-02]\n",
      " [-1.26197440e+01 -5.79035927e+00 -5.57146087e+00]\n",
      " [-5.12413263e-03  1.35863062e-02 -1.79672200e-02]\n",
      " [-3.84068930e+00  6.97150446e+00  5.64054186e-01]\n",
      " [-4.87049188e-01 -5.88698196e-01 -8.39598218e-01]]\n",
      "Intercept: [20.4513985   0.38180815 24.59805168  0.0290097   8.19756611  1.68873086]\n",
      "Mean Squared Error on Test Set: 45.82469030789664\n",
      "Regular R-squared: 0.19353892141166043\n",
      "Adjusted R-squared: 0.19097057402762108\n",
      "\n",
      "Predictors: ['avg_temperature', 'avg_humidity', 'avg_pressure']\n",
      "Coefficients: [[ 3.45586836e+01 -2.13295276e+01 -1.07005510e+01]\n",
      " [-1.54934349e-01 -5.34802977e-02 -3.68851837e-03]\n",
      " [-8.92986850e+00 -8.07889609e+00 -1.89728133e+00]\n",
      " [ 1.10417794e-02 -1.93935228e-02 -3.23131319e-03]\n",
      " [ 7.10807449e+00  1.51996065e-01  1.53909800e+00]\n",
      " [-8.06547635e-01 -9.67450686e-01 -2.60606186e-01]]\n",
      "Intercept: [3.14199517e+01 3.70383656e-01 2.52455216e+01 3.13631044e-02\n",
      " 6.59668822e+00 1.87289596e+00]\n",
      "Mean Squared Error on Test Set: 49.30864889656905\n",
      "Regular R-squared: 0.1419469786829132\n",
      "Adjusted R-squared: 0.13921432574878234\n",
      "\n",
      "Predictors: ['avg_humidity', 'avg_pressure', 'avg_wind']\n",
      "Coefficients: [[-2.49566945e+01 -3.60921573e+01  2.32313234e+01]\n",
      " [-2.70154962e-02  7.45852681e-02 -1.99818891e-01]\n",
      " [-6.33311328e+00  1.84581280e+00 -1.35837616e+01]\n",
      " [-1.90693254e-02 -1.65132953e-02 -6.48309890e-03]\n",
      " [ 3.52292918e-01 -6.98180463e+00 -4.09466480e+00]\n",
      " [-8.82800995e-01  3.32005859e-01 -5.42156694e-01]]\n",
      "Intercept: [5.93009342e+01 2.81994619e-01 2.09420014e+01 4.55923840e-02\n",
      " 1.57265467e+01 1.22218533e+00]\n",
      "Mean Squared Error on Test Set: 52.409374596163936\n",
      "Regular R-squared: 0.14503229091183903\n",
      "Adjusted R-squared: 0.14230946381283216\n",
      "\n"
     ]
    }
   ],
   "source": [
    "independent_variables = [\n",
    "    ['avg_pressure', 'avg_wind', 'avg_temperature'],\n",
    "    ['avg_wind', 'avg_temperature', 'avg_humidity'],\n",
    "    ['avg_temperature', 'avg_humidity', 'avg_pressure'],\n",
    "    ['avg_humidity', 'avg_pressure', 'avg_wind']\n",
    "]\n",
    "\n",
    "dependent_variables = ['avg_pm10', 'avg_co', 'avg_no2', 'avg_o3', 'avg_pm25', 'avg_so2']\n",
    "\n",
    "def get_r_squared(X, Y):\n",
    "    return model.score(X, Y)\n",
    "\n",
    "def get_adjusted_r_squared(r_squared, n, k):    \n",
    "    return 1 - ((1 - r_squared) * (n - 1) / (n - k - 1))\n",
    "\n",
    "for predictors in independent_variables:\n",
    "    model = LinearRegression()\n",
    "    X, Y = df[predictors], df[dependent_variables]\n",
    "    scaler = MinMaxScaler()\n",
    "    X_normalized = scaler.fit_transform(X)\n",
    "    X_train, X_test, Y_train, Y_test = train_test_split(X_normalized, Y, test_size=0.2, random_state=42)\n",
    "    model.fit(X_train, Y_train)\n",
    "    Y_pred = model.predict(X_test)\n",
    "    mse = mean_squared_error(Y_test, Y_pred)\n",
    "    print(f\"Predictors: {predictors}\")\n",
    "    print(\"Coefficients:\", model.coef_)\n",
    "    print(\"Intercept:\", model.intercept_)\n",
    "    print(f\"Mean Squared Error on Test Set:\", mse)\n",
    "    r_squared = get_r_squared(X_test, Y_test)\n",
    "    print(f\"Regular R-squared: {r_squared}\")\n",
    "    print(f\"Adjusted R-squared: {get_adjusted_r_squared(r_squared, *X_test.shape)}\") \n",
    "    print()"
   ]
  },
  {
   "cell_type": "markdown",
   "id": "f31bee90",
   "metadata": {},
   "source": [
    "## Using all predictors\n",
    "\n",
    "We obtain the same statistics of Mean Squared Error and Adjusted R-Squared value using all of the predictors, to determine if all of the factors combined (i.e. wind, temperature, pressure and humidty) are useful for our multiple regression model, and lead to better overall performance for the air quality predictions."
   ]
  },
  {
   "cell_type": "code",
   "execution_count": 4,
   "id": "4da51b79",
   "metadata": {},
   "outputs": [
    {
     "name": "stdout",
     "output_type": "stream",
     "text": [
      "Predictors: ['avg_pressure', 'avg_wind', 'avg_temperature', 'avg_humidity']\n",
      "Coefficients: [[-5.88236352e-01  2.44883100e+01  3.55837280e+01 -2.39072255e+01]\n",
      " [-8.85882341e-02 -2.05595912e-01 -1.63540290e-01 -3.18387812e-02]\n",
      " [-7.64538281e+00 -1.39197895e+01 -9.51253027e+00 -6.61366582e+00]\n",
      " [-5.75113130e-03 -6.10207350e-03  1.07863556e-02 -1.87512040e-02]\n",
      " [-5.04352797e-02 -3.84926548e+00  6.94694994e+00  5.57178938e-01]\n",
      " [-4.96601046e-01 -5.71492828e-01 -8.30469479e-01 -9.07293987e-01]]\n",
      "Intercept: [20.95873347  0.45821265 31.19194895  0.03396986  8.24106492  2.11703332]\n",
      "Mean Squared Error on Test Set: 45.79309124222485\n",
      "Regular R-squared: 0.19550379452067856\n",
      "Adjusted R-squared: 0.1920840444442521\n"
     ]
    }
   ],
   "source": [
    "predictors = ['avg_pressure', 'avg_wind', 'avg_temperature', 'avg_humidity']\n",
    "\n",
    "model = LinearRegression()\n",
    "X, Y = df[predictors], df[dependent_variables]\n",
    "scaler = MinMaxScaler()\n",
    "X_normalized = scaler.fit_transform(X)\n",
    "X_train, X_test, Y_train, Y_test = train_test_split(X_normalized, Y, test_size=0.2, random_state=42)\n",
    "model.fit(X_train, Y_train)\n",
    "Y_pred = model.predict(X_test)\n",
    "mse = mean_squared_error(Y_test, Y_pred)\n",
    "print(f\"Predictors: {predictors}\")\n",
    "print(\"Coefficients:\", model.coef_)\n",
    "print(\"Intercept:\", model.intercept_)\n",
    "print(f\"Mean Squared Error on Test Set:\", mse)\n",
    "r_squared = get_r_squared(X_test, Y_test)\n",
    "print(f\"Regular R-squared: {r_squared}\")\n",
    "print(f\"Adjusted R-squared: {get_adjusted_r_squared(r_squared, *X_test.shape)}\") "
   ]
  },
  {
   "cell_type": "markdown",
   "id": "efb79d7a",
   "metadata": {},
   "source": [
    "## Summary\n",
    "\n",
    "The low values for the Adjusted R-Squared for each model suggests a relatively low correlation between our independent variables and dependent variables. Since the Adjusted R-Squared value actually increases when included in a multiple regression model, we can conclude that all of the variables from the weather data are beneficial for predicting the air quality. However, their lack of efficacy in predicting the air quality indicates that the weather information alone is not substantial for obtaining quality predictions for our regression model. Our best model appears to be the one that uses all four weather predictors of wind, temperature, pressure and humidity for making predictions about air quality measurements. Out of the four models using only three predictors, it appears that wind, temperature and humidity gives us our best results, with lowest Mean Squared Error and highest Adjusted R-Squared values. Compared to when all four predictors are used, the Adjusted R-Squared value for only three weather predictors of wind, temperature and humidity is only .001 less, suggesting that perhaps pressure may be less important to consider for a regression model when predicting the air quality."
   ]
  }
 ],
 "metadata": {
  "kernelspec": {
   "display_name": "Python 3 (ipykernel)",
   "language": "python",
   "name": "python3"
  },
  "language_info": {
   "codemirror_mode": {
    "name": "ipython",
    "version": 3
   },
   "file_extension": ".py",
   "mimetype": "text/x-python",
   "name": "python",
   "nbconvert_exporter": "python",
   "pygments_lexer": "ipython3",
   "version": "3.8.18"
  }
 },
 "nbformat": 4,
 "nbformat_minor": 5
}
