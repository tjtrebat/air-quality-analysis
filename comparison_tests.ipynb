{
 "cells": [
  {
   "cell_type": "markdown",
   "id": "86c83865",
   "metadata": {},
   "source": [
    "# Sample Means and Standard Deviation Comparison Tests"
   ]
  },
  {
   "cell_type": "code",
   "execution_count": 26,
   "id": "c94da629",
   "metadata": {},
   "outputs": [
    {
     "name": "stdout",
     "output_type": "stream",
     "text": [
      "   Unnamed: 0  day_of_year  year   latitude  longitude  avg_pm10  aqi_pm10  \\\n",
      "0           0            2  2010  29.733726 -95.257593      13.0        12   \n",
      "1           1            2  2010  29.733726 -95.257593      13.0        12   \n",
      "2           2            2  2010  29.733726 -95.257593      13.0        12   \n",
      "3           3            2  2010  29.733726 -95.257593      13.0        12   \n",
      "4           4            2  2010  29.733726 -95.257593      13.0        12   \n",
      "\n",
      "     avg_co  aqi_co    avg_no2  ...    avg_o3  aqi_o3  avg_pm25  aqi_pm25  \\\n",
      "0  0.297667     NaN  17.258333  ...  0.027294      32      11.6      48.0   \n",
      "1  0.297667     NaN  17.258333  ...  0.027294      32      11.6      48.0   \n",
      "2  0.297667     NaN  17.258333  ...  0.027294      32       9.7      40.0   \n",
      "3  0.297667     NaN  17.258333  ...  0.027294      32       9.7      40.0   \n",
      "4  0.325000     6.0  17.258333  ...  0.027294      32      11.6      48.0   \n",
      "\n",
      "    avg_so2  aqi_so2  avg_humidity  avg_temperature  avg_wind  avg_pressure  \n",
      "0  3.591304     19.0          56.5             47.5    3.9125   1027.541667  \n",
      "1  3.671429      NaN          56.5             47.5    3.9125   1027.541667  \n",
      "2  3.591304     19.0          56.5             47.5    3.9125   1027.541667  \n",
      "3  3.671429      NaN          56.5             47.5    3.9125   1027.541667  \n",
      "4  3.591304     19.0          56.5             47.5    3.9125   1027.541667  \n",
      "\n",
      "[5 rows x 21 columns]\n"
     ]
    }
   ],
   "source": [
    "import numpy as np\n",
    "import pandas as pd\n",
    "from scipy import stats\n",
    "\n",
    "file_path = '~/csce5310/houston-aqi-2010-2021.csv'\n",
    "df = pd.read_csv(file_path)\n",
    "\n",
    "print (df.head())"
   ]
  },
  {
   "cell_type": "code",
   "execution_count": 14,
   "id": "5fe4c8f8",
   "metadata": {},
   "outputs": [
    {
     "name": "stdout",
     "output_type": "stream",
     "text": [
      "Mean Pressure: 1017.8874957186971\n",
      "Mean Wind: 5.238881443739425\n",
      "Mean Temperature: 68.73953821573603\n",
      "Mean Humidity:  65.6445454107445\n"
     ]
    }
   ],
   "source": [
    "print(f\"Mean Pressure: {df['avg_pressure'].mean()}\")\n",
    "print(f\"Mean Wind: {df['avg_wind'].mean()}\")\n",
    "print(f\"Mean Temperature: {df['avg_temperature'].mean()}\")\n",
    "print(f\"Mean Humidity:  {df['avg_humidity'].mean()}\")"
   ]
  },
  {
   "cell_type": "markdown",
   "id": "6aa66d95",
   "metadata": {},
   "source": [
    "## Mean Comparison Tests"
   ]
  },
  {
   "cell_type": "markdown",
   "id": "dbaef13d",
   "metadata": {},
   "source": [
    "### Requirements Check\n",
    "\n",
    "The requirements are all satisified, as we assume the standard deviations of both samples are unknown, they are random and independently distributed random samples, and n is large (n=100)."
   ]
  },
  {
   "cell_type": "markdown",
   "id": "43687bc9",
   "metadata": {},
   "source": [
    "#### Pressure"
   ]
  },
  {
   "cell_type": "markdown",
   "id": "b587d5f3",
   "metadata": {},
   "source": [
    "##### Inferences about Two Means (Independent Samples)\n",
    "\n",
    "We conduct a hypothesis test that compares the sample means for our pressure variable with the next two variables of wind and temperature."
   ]
  },
  {
   "cell_type": "code",
   "execution_count": 21,
   "id": "7611b2cd",
   "metadata": {},
   "outputs": [],
   "source": [
    "n = 100\n",
    "\n",
    "\n",
    "def get_random_sample(variable):\n",
    "    return df[variable].sample(n)"
   ]
  },
  {
   "cell_type": "code",
   "execution_count": 27,
   "id": "56e9bd94",
   "metadata": {},
   "outputs": [
    {
     "name": "stdout",
     "output_type": "stream",
     "text": [
      "The t-statistic is: 1615.768067614298\n"
     ]
    }
   ],
   "source": [
    "pressure_samples = get_random_sample('avg_pressure')\n",
    "wind_samples = get_random_sample('avg_wind')\n",
    "\n",
    "t_statistic, p_value = stats.ttest_ind(pressure_samples, wind_samples)\n",
    "\n",
    "print(f'The t-statistic is: {t_statistic}')"
   ]
  }
 ],
 "metadata": {
  "kernelspec": {
   "display_name": "Python 3 (ipykernel)",
   "language": "python",
   "name": "python3"
  },
  "language_info": {
   "codemirror_mode": {
    "name": "ipython",
    "version": 3
   },
   "file_extension": ".py",
   "mimetype": "text/x-python",
   "name": "python",
   "nbconvert_exporter": "python",
   "pygments_lexer": "ipython3",
   "version": "3.8.18"
  }
 },
 "nbformat": 4,
 "nbformat_minor": 5
}
