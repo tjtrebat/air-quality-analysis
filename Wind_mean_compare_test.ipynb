{
  "nbformat": 4,
  "nbformat_minor": 0,
  "metadata": {
    "colab": {
      "provenance": []
    },
    "kernelspec": {
      "name": "python3",
      "display_name": "Python 3"
    },
    "language_info": {
      "name": "python"
    }
  },
  "cells": [
    {
      "cell_type": "code",
      "execution_count": 2,
      "metadata": {
        "colab": {
          "base_uri": "https://localhost:8080/"
        },
        "id": "ynisrHDFl8Ib",
        "outputId": "8b758252-51c1-42a5-cb4e-bc4a94adad67"
      },
      "outputs": [
        {
          "output_type": "stream",
          "name": "stdout",
          "text": [
            "   Unnamed: 0  day_of_year  year   latitude  longitude  avg_pm10  aqi_pm10  \\\n",
            "0           0            2  2010  29.733726 -95.257593        13        12   \n",
            "1           1            2  2010  29.733726 -95.257593        13        12   \n",
            "2           2            2  2010  29.733726 -95.257593        13        12   \n",
            "3           3            2  2010  29.733726 -95.257593        13        12   \n",
            "4           4            2  2010  29.733726 -95.257593        13        12   \n",
            "\n",
            "     avg_co  aqi_co    avg_no2  ...    avg_o3  aqi_o3  avg_pm25  aqi_pm25  \\\n",
            "0  0.297667     NaN  17.258333  ...  0.027294      32      11.6        48   \n",
            "1  0.297667     NaN  17.258333  ...  0.027294      32      11.6        48   \n",
            "2  0.297667     NaN  17.258333  ...  0.027294      32       9.7        40   \n",
            "3  0.297667     NaN  17.258333  ...  0.027294      32       9.7        40   \n",
            "4  0.325000     6.0  17.258333  ...  0.027294      32      11.6        48   \n",
            "\n",
            "    avg_so2  aqi_so2  avg_humidity  avg_temperature  avg_wind  avg_pressure  \n",
            "0  3.591304     19.0          56.5             47.5    3.9125   1027.541667  \n",
            "1  3.671429      NaN          56.5             47.5    3.9125   1027.541667  \n",
            "2  3.591304     19.0          56.5             47.5    3.9125   1027.541667  \n",
            "3  3.671429      NaN          56.5             47.5    3.9125   1027.541667  \n",
            "4  3.591304     19.0          56.5             47.5    3.9125   1027.541667  \n",
            "\n",
            "[5 rows x 21 columns]\n"
          ]
        }
      ],
      "source": [
        "import numpy as np\n",
        "import pandas as pd\n",
        "from scipy import stats\n",
        "from sklearn.preprocessing import MinMaxScaler\n",
        "\n",
        "file_path = '/content/houston-aqi-2010-2021.csv'\n",
        "df = pd.read_csv(file_path)\n",
        "\n",
        "print (df.head())"
      ]
    },
    {
      "cell_type": "code",
      "source": [
        "wind_compare = df[['avg_temperature', 'avg_humidity']].values\n",
        "scaler = MinMaxScaler()\n",
        "wind_compare = scaler.fit_transform(wind_compare)\n",
        "print(f\"Mean Temperature: {round(wind_compare[:, 0].mean(), 2)}\")\n",
        "print(f\"Mean Humidity: {round(wind_compare[:, 1].mean(), 2)}\")"
      ],
      "metadata": {
        "colab": {
          "base_uri": "https://localhost:8080/"
        },
        "id": "5QpAx-4emNlv",
        "outputId": "c626e7ef-0272-4a41-da21-0163d26e3a8f"
      },
      "execution_count": 15,
      "outputs": [
        {
          "output_type": "stream",
          "name": "stdout",
          "text": [
            "Mean Temperature: 0.62\n",
            "Mean Humidity: 0.59\n"
          ]
        }
      ]
    },
    {
      "cell_type": "code",
      "source": [
        "n = 100\n",
        "\n",
        "def get_random_sample(variable):\n",
        "    return np.random.choice(wind_compare[:, variable], size=n, replace=False)"
      ],
      "metadata": {
        "id": "x9sO6OiJmUni"
      },
      "execution_count": 16,
      "outputs": []
    },
    {
      "cell_type": "markdown",
      "source": [
        "#Wind vs. Temperature\n",
        "##Requirements Check\n",
        "###The requirements are all satisified, as we assume the standard deviations of both samples are unknown, they are random and independently distributed random samples, and n is large (n=100).\n",
        "\n",
        "##Hypothesis Test\n",
        "###We conduct a hypothesis test that compares the sample means for our wind variable with the next two variables of temperature and humidity. We use a significance level of 0.05 and calculate the degrees of freedom using Welch's statistic i.e, $(A + B)^2 / ((A^2 / (n_1 - 1)) + (B^2 / (n_2 - 1)))$ where $A = s_1^2 / n_1$ and $B = s_2^2 / n_2$)"
      ],
      "metadata": {
        "id": "uJ45Ci2qprdn"
      }
    },
    {
      "cell_type": "code",
      "source": [
        "alpha = 0.05\n",
        "wind_samples = get_random_sample(0)\n",
        "temperature_samples = get_random_sample(1)\n",
        "\n",
        "wind_var = np.var(wind_samples, ddof=1)\n",
        "temperature_var = np.var(temperature_samples, ddof=1)\n",
        "A, B = temperature_var / n, wind_var / n\n",
        "\n",
        "degrees_of_freedom = int(((A + B) ** 2) / (((A ** 2) / (n - 1)) + ((B ** 2) / (n - 1))))\n",
        "critical_value = stats.t.ppf(1 - alpha / 2, degrees_of_freedom)\n",
        "\n",
        "t_statistic, p_value = stats.ttest_ind(temperature_samples, wind_samples)\n",
        "\n",
        "\n",
        "print(f'The sample means are {round(wind_samples.mean(), 2)} (for wind) and {round(temperature_samples.mean(), 2)} (for temperature) ')\n",
        "print(f'The degrees of freedom is {degrees_of_freedom}')\n",
        "print(f'The t-statistic is: {t_statistic}')\n",
        "print(f'The p-value is: {p_value}')\n",
        "print(f'The critical value is: {critical_value}')"
      ],
      "metadata": {
        "colab": {
          "base_uri": "https://localhost:8080/"
        },
        "id": "BSrS4_NjmkYd",
        "outputId": "95935c47-a2ad-48c4-a7b5-b52066e81f12"
      },
      "execution_count": 17,
      "outputs": [
        {
          "output_type": "stream",
          "name": "stdout",
          "text": [
            "The sample means are 0.65 (for wind) and 0.61 (for temperature) \n",
            "The degrees of freedom is 191\n",
            "The t-statistic is: -1.6631005729395016\n",
            "The p-value is: 0.09787436099292669\n",
            "The critical value is: 1.9724619897643145\n"
          ]
        }
      ]
    },
    {
      "cell_type": "markdown",
      "source": [
        "###Since the p-value is greater than our significance level of 0.05, we fail to reject the null hypothesis, which states that the sample means are statistically indifferent to a significant extent."
      ],
      "metadata": {
        "id": "IT4CwIQ8qhhJ"
      }
    },
    {
      "cell_type": "markdown",
      "source": [
        "#Confidence Interval"
      ],
      "metadata": {
        "id": "tHnlcnMIrQZ3"
      }
    },
    {
      "cell_type": "code",
      "source": [
        "margin_of_error = critical_value * np.sqrt(A + B)\n",
        "mean_difference = wind_samples.mean() - temperature_samples.mean()\n",
        "print(f'The difference between sample means is: {round(mean_difference, 2)}')\n",
        "print(f'Confidence Interval: ({round(mean_difference - margin_of_error, 2)}, {round(mean_difference + margin_of_error, 2)})')"
      ],
      "metadata": {
        "colab": {
          "base_uri": "https://localhost:8080/"
        },
        "id": "DG1ERcW6nJL-",
        "outputId": "942892ad-0bdc-48a9-dc79-018852868a39"
      },
      "execution_count": 18,
      "outputs": [
        {
          "output_type": "stream",
          "name": "stdout",
          "text": [
            "The difference between sample means is: 0.04\n",
            "Confidence Interval: (-0.01, 0.09)\n"
          ]
        }
      ]
    },
    {
      "cell_type": "markdown",
      "source": [
        "###Based on the above confidence interval, we can assume with 95% confidence that the actual difference between population means is between 7% and 15% of their normalized values."
      ],
      "metadata": {
        "id": "QX6eyiwzrSYv"
      }
    },
    {
      "cell_type": "markdown",
      "source": [
        "#Wind vs. Humidity\n",
        "##Hypothesis Test\n"
      ],
      "metadata": {
        "id": "zjr4D5qjsQWy"
      }
    },
    {
      "cell_type": "code",
      "source": [
        "alpha = 0.05\n",
        "wind_samples = get_random_sample(0)\n",
        "humidity_samples = get_random_sample(1)\n",
        "\n",
        "wind_var = np.var(wind_samples, ddof=1)\n",
        "humidity_var = np.var(humidity_samples, ddof=1)\n",
        "A, B = humidity_var / n, wind_var / n\n",
        "\n",
        "degrees_of_freedom = int(((A + B) ** 2) / (((A ** 2) / (n - 1)) + ((B ** 2) / (n - 1))))\n",
        "critical_value = stats.t.ppf(1 - alpha / 2, degrees_of_freedom)\n",
        "\n",
        "t_statistic, p_value = stats.ttest_ind(humidity_samples, wind_samples)\n",
        "\n",
        "\n",
        "print(f'The sample means are {round(wind_samples.mean(), 2)} (for wind) and {round(humidity_samples.mean(), 2)} (for humidity) ')\n",
        "print(f'The degrees of freedom is {degrees_of_freedom}')\n",
        "print(f'The t-statistic is: {t_statistic}')\n",
        "print(f'The p-value is: {p_value}')\n",
        "print(f'The critical value is: {critical_value}')"
      ],
      "metadata": {
        "colab": {
          "base_uri": "https://localhost:8080/"
        },
        "id": "_NndFDCFrss1",
        "outputId": "ac675a89-cf00-4576-cec4-ed7efa37bc32"
      },
      "execution_count": 19,
      "outputs": [
        {
          "output_type": "stream",
          "name": "stdout",
          "text": [
            "The sample means are 0.66 (for wind) and 0.59 (for humidity) \n",
            "The degrees of freedom is 188\n",
            "The t-statistic is: -2.9489494837754755\n",
            "The p-value is: 0.003572303582368143\n",
            "The critical value is: 1.9726626923781652\n"
          ]
        }
      ]
    },
    {
      "cell_type": "markdown",
      "source": [
        "###Since the p-value is less than our significance level of 0.05, we reject the null hypothesis in favor of the alternative hypothesis, which states that the sample means are statistically different to a significant extent."
      ],
      "metadata": {
        "id": "3FP8c3ESs2NZ"
      }
    },
    {
      "cell_type": "markdown",
      "source": [
        "#Confidence Interval"
      ],
      "metadata": {
        "id": "Sy8v7LabtLVx"
      }
    },
    {
      "cell_type": "code",
      "source": [
        "margin_of_error = critical_value * np.sqrt(A + B)\n",
        "mean_difference = wind_samples.mean() - humidity_samples.mean()\n",
        "print(f'The difference between sample means is: {round(mean_difference, 2)}')\n",
        "print(f'Confidence Interval: ({round(mean_difference - margin_of_error, 2)}, {round(mean_difference + margin_of_error, 2)})')"
      ],
      "metadata": {
        "colab": {
          "base_uri": "https://localhost:8080/"
        },
        "id": "HKGNLkxUsBls",
        "outputId": "493e4ad9-e375-421e-b7d2-617a7949ede5"
      },
      "execution_count": 20,
      "outputs": [
        {
          "output_type": "stream",
          "name": "stdout",
          "text": [
            "The difference between sample means is: 0.07\n",
            "Confidence Interval: (0.02, 0.12)\n"
          ]
        }
      ]
    },
    {
      "cell_type": "markdown",
      "source": [
        "###Based on the above confidence interval, we can assume with 95% confidence that the actual difference between population means is between 10% and 18% of their normalized values."
      ],
      "metadata": {
        "id": "-nwn1kc7tBHz"
      }
    }
  ]
}