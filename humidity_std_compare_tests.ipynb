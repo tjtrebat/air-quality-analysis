{
 "cells": [
  {
   "cell_type": "markdown",
   "id": "39b04c08",
   "metadata": {},
   "source": [
    "# Two Variances or Standard Deviations"
   ]
  },
  {
   "cell_type": "code",
   "execution_count": 1,
   "id": "f38355b3",
   "metadata": {},
   "outputs": [],
   "source": [
    "import numpy as np\n",
    "import pandas as pd\n",
    "from scipy.stats import f\n",
    "\n",
    "file_path = '~/Documents/UNT/csce5310/houston-aqi-2010-2021.csv'\n",
    "df = pd.read_csv(file_path)"
   ]
  },
  {
   "cell_type": "code",
   "execution_count": 2,
   "id": "ac07e2d4",
   "metadata": {},
   "outputs": [
    {
     "name": "stdout",
     "output_type": "stream",
     "text": [
      "Standard Deviation Humidity: 12.68 (variance=160.76)\n",
      "Standard Deviation Pressure: 5.99 (variance=35.92)\n",
      "Standard Deviation Wind: 2.21 (variance=4.89)\n"
     ]
    }
   ],
   "source": [
    "humidity_compare = df[['avg_humidity', 'avg_pressure', 'avg_wind']].values\n",
    "print(f\"Standard Deviation Humidity: {round(humidity_compare[:, 0].std(), 2)} (variance={round(humidity_compare[:, 0].var(), 2)})\")\n",
    "print(f\"Standard Deviation Pressure: {round(humidity_compare[:, 1].std(), 2)} (variance={round(humidity_compare[:, 1].var(), 2)})\")\n",
    "print(f\"Standard Deviation Wind: {round(humidity_compare[:, 2].std(), 2)} (variance={round(humidity_compare[:, 2].var(), 2)})\")"
   ]
  },
  {
   "cell_type": "code",
   "execution_count": 4,
   "id": "6b69e18b",
   "metadata": {},
   "outputs": [],
   "source": [
    "n = 100\n",
    "\n",
    "def get_random_sample(variable):\n",
    "    return np.random.choice(humidity_compare[:, variable], size=n, replace=False)"
   ]
  },
  {
   "cell_type": "markdown",
   "id": "84952492",
   "metadata": {},
   "source": [
    "## Humidity vs Pressure"
   ]
  },
  {
   "cell_type": "markdown",
   "id": "38d07b08",
   "metadata": {},
   "source": [
    "### Hypothesis Test"
   ]
  },
  {
   "cell_type": "code",
   "execution_count": 5,
   "id": "da823e0d",
   "metadata": {},
   "outputs": [
    {
     "name": "stdout",
     "output_type": "stream",
     "text": [
      "The sample variances are 156.0 (for humidity) and 34.83 (for pressure)\n",
      "The sample standard deviations are 12.49 (for humidity) and 5.9 (for pressure)\n",
      "The degrees of freedom is (99, 99)\n",
      "The f-statistic is: 4.479186057168877\n",
      "The p-value is: 4.971865742443967e-13\n",
      "The critical value is: 1.486233767619293\n"
     ]
    }
   ],
   "source": [
    "alpha = 0.05\n",
    "humidity_samples = get_random_sample(0)\n",
    "pressure_samples = get_random_sample(1)\n",
    "humidity_var = np.var(humidity_samples, ddof=1)\n",
    "pressure_var = np.var(pressure_samples, ddof=1)\n",
    "s1, s2 = sorted([humidity_var, pressure_var], reverse=True) \n",
    "f_statistic = s1 / s2\n",
    "degrees_of_freedom = (n - 1,) * 2\n",
    "p_value = f.sf(f_statistic, *degrees_of_freedom)\n",
    "critical_value = f.ppf(1 - alpha / 2, *degrees_of_freedom)\n",
    "print(f'The sample variances are {round(humidity_var, 2)} (for humidity) and {round(pressure_var, 2)} (for pressure)')\n",
    "print(f'The sample standard deviations are {round(np.sqrt(humidity_var), 2)} (for humidity) and {round(np.sqrt(pressure_var), 2)} (for pressure)')\n",
    "print(f'The degrees of freedom is {degrees_of_freedom}')\n",
    "print(f'The f-statistic is: {f_statistic}')\n",
    "print(f'The p-value is: {p_value}')\n",
    "print(f'The critical value is: {critical_value}')"
   ]
  },
  {
   "cell_type": "markdown",
   "id": "e0d4517a",
   "metadata": {},
   "source": [
    "Since the p-value is less than the significance level of 0.05, we reject the null hypothesis in favor of the alternate, which states that there is a statistically significant difference between the variances or standard deviations for humidity and pressure."
   ]
  },
  {
   "cell_type": "markdown",
   "id": "747c7760",
   "metadata": {},
   "source": [
    "### Confidence Interval"
   ]
  },
  {
   "cell_type": "code",
   "execution_count": 6,
   "id": "d853aeef",
   "metadata": {},
   "outputs": [
    {
     "name": "stdout",
     "output_type": "stream",
     "text": [
      "The difference between sample variances is: 121.171\n",
      "The difference between sample standard deviations is: 6.588\n",
      "The confidence interval for variance is: (118.157, 127.828)\n",
      "The confidence interval for standard deviation is: (4.852, 9.169)\n"
     ]
    }
   ],
   "source": [
    "ci_var_ratio = 1 / f.ppf(1 - alpha / 2, *degrees_of_freedom), f.ppf(1 - alpha / 2, *degrees_of_freedom)\n",
    "var_difference = humidity_var - pressure_var\n",
    "std_difference = np.sqrt(humidity_var) - np.sqrt(pressure_var)\n",
    "print(f'The difference between sample variances is: {round(var_difference, 3)}')\n",
    "print(f'The difference between sample standard deviations is: {round(std_difference, 3)}')\n",
    "print(f'The confidence interval for variance is: ({round(var_difference - ci_var_ratio[0] * f_statistic, 3)}, {round(var_difference + ci_var_ratio[1] * f_statistic, 3)})')\n",
    "print(f'The confidence interval for standard deviation is: ({round(std_difference - np.sqrt(ci_var_ratio[0] * f_statistic), 3)}, {round(std_difference + np.sqrt(ci_var_ratio[1] * f_statistic), 3)})')"
   ]
  },
  {
   "cell_type": "markdown",
   "id": "a95a7751",
   "metadata": {},
   "source": [
    "Based on the confidence interval, we can assume that the estimated difference in the population variances of humidity and pressure is somewhere between (118.157, 127.828) with a 95% confidence level. For standard deviation, we simply take the square root of those numbers, and the confidence interval is (4.852, 9.169) for the population standard deviation with confidence level of 95%."
   ]
  },
  {
   "cell_type": "markdown",
   "id": "ee444488",
   "metadata": {},
   "source": [
    "## Humidity vs Wind"
   ]
  },
  {
   "cell_type": "markdown",
   "id": "8be0fb2b",
   "metadata": {},
   "source": [
    "### Hypothesis Test"
   ]
  },
  {
   "cell_type": "code",
   "execution_count": 7,
   "id": "c2836e6f",
   "metadata": {},
   "outputs": [
    {
     "name": "stdout",
     "output_type": "stream",
     "text": [
      "The sample variances are 141.12 (for humidity) and 4.88 (for wind)\n",
      "The sample standard deviations are 11.88 (for humidity) and 2.21 (for wind)\n",
      "The degrees of freedom is (99, 99)\n",
      "The f-statistic is: 28.94100171160658\n",
      "The p-value is: 4.245308518490124e-46\n",
      "The critical value is: 1.486233767619293\n"
     ]
    }
   ],
   "source": [
    "alpha = 0.05\n",
    "humidity_samples = get_random_sample(0)\n",
    "wind_samples = get_random_sample(2)\n",
    "humidity_var = np.var(humidity_samples, ddof=1)\n",
    "wind_var = np.var(wind_samples, ddof=1)\n",
    "s1, s2 = sorted([humidity_var, wind_var], reverse=True) \n",
    "f_statistic = s1 / s2\n",
    "degrees_of_freedom = (n - 1,) * 2\n",
    "p_value = f.sf(f_statistic, *degrees_of_freedom)\n",
    "critical_value = f.ppf(1 - alpha / 2, *degrees_of_freedom)\n",
    "print(f'The sample variances are {round(humidity_var, 2)} (for humidity) and {round(wind_var, 2)} (for wind)')\n",
    "print(f'The sample standard deviations are {round(np.sqrt(humidity_var), 2)} (for humidity) and {round(np.sqrt(wind_var), 2)} (for wind)')\n",
    "print(f'The degrees of freedom is {degrees_of_freedom}')\n",
    "print(f'The f-statistic is: {f_statistic}')\n",
    "print(f'The p-value is: {p_value}')\n",
    "print(f'The critical value is: {critical_value}')"
   ]
  },
  {
   "cell_type": "markdown",
   "id": "684382fa",
   "metadata": {},
   "source": [
    "Since the p-value is less than the significance level of 0.05, we reject the null hypothesis in favor of the alternate, which states that there is a statistically significant difference between the variances or standard deviations for humidity and wind."
   ]
  },
  {
   "cell_type": "markdown",
   "id": "ae2efbf2",
   "metadata": {},
   "source": [
    "### Confidence Interval"
   ]
  },
  {
   "cell_type": "code",
   "execution_count": 8,
   "id": "731ccb0b",
   "metadata": {},
   "outputs": [
    {
     "name": "stdout",
     "output_type": "stream",
     "text": [
      "The difference between sample variances is: 136.245\n",
      "The difference between sample standard deviations is: 9.671\n",
      "The confidence interval for variance is: (116.773, 179.258)\n",
      "The confidence interval for standard deviation is: (5.258, 16.23)\n"
     ]
    }
   ],
   "source": [
    "ci_var_ratio = 1 / f.ppf(1 - alpha / 2, *degrees_of_freedom), f.ppf(1 - alpha / 2, *degrees_of_freedom)\n",
    "var_difference = humidity_var - wind_var\n",
    "std_difference = np.sqrt(humidity_var) - np.sqrt(wind_var)\n",
    "print(f'The difference between sample variances is: {round(var_difference, 3)}')\n",
    "print(f'The difference between sample standard deviations is: {round(std_difference, 3)}')\n",
    "print(f'The confidence interval for variance is: ({round(var_difference - ci_var_ratio[0] * f_statistic, 3)}, {round(var_difference + ci_var_ratio[1] * f_statistic, 3)})')\n",
    "print(f'The confidence interval for standard deviation is: ({round(std_difference - np.sqrt(ci_var_ratio[0] * f_statistic), 3)}, {round(std_difference + np.sqrt(ci_var_ratio[1] * f_statistic), 3)})')"
   ]
  },
  {
   "cell_type": "markdown",
   "id": "f3dee23a",
   "metadata": {},
   "source": [
    "Based on the confidence interval, we can assume that the estimated difference in the population variances of humidity and wind is somewhere between (116.773, 179.258) with a 95% confidence level. For standard deviation, we simply take the square root of those numbers, and the confidence interval is (5.258, 16.23) for the population standard deviation with confidence level of 95%."
   ]
  }
 ],
 "metadata": {
  "kernelspec": {
   "display_name": "Python 3 (ipykernel)",
   "language": "python",
   "name": "python3"
  },
  "language_info": {
   "codemirror_mode": {
    "name": "ipython",
    "version": 3
   },
   "file_extension": ".py",
   "mimetype": "text/x-python",
   "name": "python",
   "nbconvert_exporter": "python",
   "pygments_lexer": "ipython3",
   "version": "3.11.5"
  }
 },
 "nbformat": 4,
 "nbformat_minor": 5
}
