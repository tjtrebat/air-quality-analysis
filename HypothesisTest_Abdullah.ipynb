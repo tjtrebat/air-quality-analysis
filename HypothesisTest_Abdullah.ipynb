{
  "nbformat": 4,
  "nbformat_minor": 0,
  "metadata": {
    "colab": {
      "provenance": []
    },
    "kernelspec": {
      "name": "python3",
      "display_name": "Python 3"
    },
    "language_info": {
      "name": "python"
    }
  },
  "cells": [
    {
      "cell_type": "code",
      "source": [
        "pip install scipy"
      ],
      "metadata": {
        "colab": {
          "base_uri": "https://localhost:8080/"
        },
        "id": "EX3j4CI8Xd1i",
        "outputId": "3bcb77a0-df30-4730-a2c9-2ca545c4f2a8"
      },
      "execution_count": 3,
      "outputs": [
        {
          "output_type": "stream",
          "name": "stdout",
          "text": [
            "Requirement already satisfied: scipy in /usr/local/lib/python3.10/dist-packages (1.11.3)\n",
            "Requirement already satisfied: numpy<1.28.0,>=1.21.6 in /usr/local/lib/python3.10/dist-packages (from scipy) (1.23.5)\n"
          ]
        }
      ]
    },
    {
      "cell_type": "code",
      "execution_count": 4,
      "metadata": {
        "colab": {
          "base_uri": "https://localhost:8080/"
        },
        "id": "k5LmIiwxVagP",
        "outputId": "c38272c0-bdf4-44b1-bb37-56016b612f9f"
      },
      "outputs": [
        {
          "output_type": "stream",
          "name": "stdout",
          "text": [
            "   Unnamed: 0  day_of_year  year   latitude  longitude  avg_pm10  aqi_pm10  \\\n",
            "0           0            2  2010  29.733726 -95.257593      13.0        12   \n",
            "1           1            2  2010  29.733726 -95.257593      13.0        12   \n",
            "2           2            2  2010  29.733726 -95.257593      13.0        12   \n",
            "3           3            2  2010  29.733726 -95.257593      13.0        12   \n",
            "4           4            2  2010  29.733726 -95.257593      13.0        12   \n",
            "\n",
            "     avg_co  aqi_co    avg_no2  ...    avg_o3  aqi_o3  avg_pm25  aqi_pm25  \\\n",
            "0  0.297667     NaN  17.258333  ...  0.027294      32      11.6      48.0   \n",
            "1  0.297667     NaN  17.258333  ...  0.027294      32      11.6      48.0   \n",
            "2  0.297667     NaN  17.258333  ...  0.027294      32       9.7      40.0   \n",
            "3  0.297667     NaN  17.258333  ...  0.027294      32       9.7      40.0   \n",
            "4  0.325000     6.0  17.258333  ...  0.027294      32      11.6      48.0   \n",
            "\n",
            "    avg_so2  aqi_so2  avg_humidity  avg_temperature  avg_wind  avg_pressure  \n",
            "0  3.591304     19.0          56.5             47.5    3.9125   1027.541667  \n",
            "1  3.671429      NaN          56.5             47.5    3.9125   1027.541667  \n",
            "2  3.591304     19.0          56.5             47.5    3.9125   1027.541667  \n",
            "3  3.671429      NaN          56.5             47.5    3.9125   1027.541667  \n",
            "4  3.591304     19.0          56.5             47.5    3.9125   1027.541667  \n",
            "\n",
            "[5 rows x 21 columns]\n"
          ]
        }
      ],
      "source": [
        "import pandas as pd\n",
        "import numpy as np\n",
        "import sklearn\n",
        "import seaborn as sns\n",
        "import matplotlib.pyplot as plt\n",
        "from scipy.stats import norm\n",
        "\n",
        "\n",
        "#load csv\n",
        "file_path = ('/content/houston-aqi-2010-2021.csv')\n",
        "df = pd.read_csv (file_path)\n",
        "\n",
        "print (df.head())"
      ]
    },
    {
      "cell_type": "code",
      "source": [
        "import pandas as pd\n",
        "import numpy as np\n",
        "import matplotlib.pyplot as plt\n",
        "\n",
        "# Load the data\n",
        "file_path = ('/content/houston-aqi-2010-2021.csv')\n",
        "data = pd.read_csv(file_path)\n",
        "\n",
        "# Randomly select 100 samples from the 'pressure' column\n",
        "selected_samples = data['avg_pressure'].sample(100, random_state=42)\n",
        "\n",
        "# Descriptive statistics\n",
        "mean_pressure = np.mean(selected_samples)\n",
        "std_dev_pressure = np.std(selected_samples)\n",
        "\n",
        "# Let's test if the mean pressure is significantly different from a specific value, e.g., 1000\n",
        "target_mean = 1000         # Hypothesis testing (Example: One-sample t-test)\n",
        "t_statistic, p_value = stats.ttest_1samp(selected_samples, target_mean)\n",
        "\n",
        "# Print results\n",
        "print(f\"Mean Pressure: {mean_pressure}\")\n",
        "print(f\"Standard Deviation Pressure: {std_dev_pressure}\")\n",
        "print(f\"T-statistic: {t_statistic}\")\n",
        "print(f\"P-value: {p_value}\")\n",
        "\n",
        "# Visualize the data\n",
        "plt.hist(selected_samples, bins=20, edgecolor='black')\n",
        "plt.title('Histogram of Pressure')\n",
        "plt.xlabel('Pressure')\n",
        "plt.ylabel('Frequency')\n",
        "plt.show()\n"
      ],
      "metadata": {
        "colab": {
          "base_uri": "https://localhost:8080/",
          "height": 541
        },
        "id": "OkutLDxcWm7w",
        "outputId": "d8f1086c-0b17-4b9a-b68d-41cd382e830d"
      },
      "execution_count": 10,
      "outputs": [
        {
          "output_type": "stream",
          "name": "stdout",
          "text": [
            "Mean Pressure: 1017.8674999800002\n",
            "Standard Deviation Pressure: 5.832771933864537\n",
            "T-statistic: 30.479398498998172\n",
            "P-value: 4.1207055234485156e-52\n"
          ]
        },
        {
          "output_type": "display_data",
          "data": {
            "text/plain": [
              "<Figure size 640x480 with 1 Axes>"
            ],
            "image/png": "[encoded data removed]"
          },
          "metadata": {}
        }
      ]
    },
    {
      "cell_type": "code",
      "source": [
        "import pandas as pd\n",
        "import numpy as np\n",
        "import matplotlib.pyplot as plt\n",
        "from scipy import stats\n",
        "\n",
        "# Load the data\n",
        "file_path = ('/content/houston-aqi-2010-2021.csv')\n",
        "data = pd.read_csv(file_path)\n",
        "\n",
        "# Randomly select 100 samples from the 'pressure' column\n",
        "selected_samples = data['avg_pressure'].sample(100, random_state=42)\n",
        "\n",
        "# Set your hypothesis values\n",
        "claimed_mean = 1.0 # Your guess for the mean\n",
        "claimed_proportion = 0.5  # Your guess for the proportion\n",
        "\n",
        "# Hypothesis testing for the mean (Example: One-sample t-test)\n",
        "t_statistic_mean, p_value_mean = stats.ttest_1samp(selected_samples, claimed_mean)\n",
        "\n",
        "# Hypothesis testing for the proportion (Example: Proportion test)\n",
        "# Assuming you want to test if the proportion is significantly different from 0.5\n",
        "num_success = (selected_samples > claimed_mean).sum()\n",
        "num_trials = len(selected_samples)\n",
        "proportion = num_success / num_trials\n",
        "\n",
        "p_value_proportion = stats.binomtest(num_success, n=num_trials, p=claimed_proportion)\n",
        "\n",
        "# Print results\n",
        "print(f\"Mean Hypothesis Testing - T-statistic: {t_statistic_mean}, P-value: {p_value_mean}\")\n",
        "print(f\"Proportion Hypothesis Testing - P-value: {p_value_proportion}\")\n",
        "\n",
        "# Confidence interval for the mean\n",
        "confidence_interval_mean = stats.t.interval(0.95, len(selected_samples) - 1, loc=np.mean(selected_samples), scale=stats.sem(selected_samples))\n",
        "\n",
        "# Interpretation\n",
        "print(f\"Mean Confidence Interval (95%): {confidence_interval_mean}\")\n",
        "print(f\"Proportion: {proportion}\")\n",
        "\n",
        "# Visualize the data\n",
        "plt.hist(selected_samples, bins=20, edgecolor='black')\n",
        "plt.title('Histogram of Pressure')\n",
        "plt.xlabel('Pressure')\n",
        "plt.ylabel('Frequency')\n",
        "plt.show()\n"
      ],
      "metadata": {
        "colab": {
          "base_uri": "https://localhost:8080/",
          "height": 561
        },
        "id": "VHfDNTqC4Kvg",
        "outputId": "775ab9ed-8f27-4e93-b9cf-53f25b28ccc1"
      },
      "execution_count": 21,
      "outputs": [
        {
          "output_type": "stream",
          "name": "stdout",
          "text": [
            "Mean Hypothesis Testing - T-statistic: 1734.6304624185123, P-value: 1.0110617789105973e-223\n",
            "Proportion Hypothesis Testing - P-value: BinomTestResult(k=100, n=100, alternative='two-sided', statistic=1.0, pvalue=1.5777218104420236e-30)\n",
            "Mean Confidence Interval (95%): (1016.7043209775483, 1019.0306789824521)\n",
            "Proportion: 1.0\n"
          ]
        },
        {
          "output_type": "display_data",
          "data": {
            "text/plain": [
              "<Figure size 640x480 with 1 Axes>"
            ],
            "image/png": "[encoded data removed]"
          },
          "metadata": {}
        }
      ]
    }
  ]
}