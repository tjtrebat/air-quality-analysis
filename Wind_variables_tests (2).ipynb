{
  "nbformat": 4,
  "nbformat_minor": 0,
  "metadata": {
    "colab": {
      "provenance": []
    },
    "kernelspec": {
      "name": "python3",
      "display_name": "Python 3"
    },
    "language_info": {
      "name": "python"
    }
  },
  "cells": [
    {
      "cell_type": "code",
      "execution_count": 7,
      "metadata": {
        "colab": {
          "base_uri": "https://localhost:8080/"
        },
        "id": "ipqy4Damwky4",
        "outputId": "9171ff09-0399-40c8-82ea-072edba49348"
      },
      "outputs": [
        {
          "output_type": "stream",
          "name": "stdout",
          "text": [
            "Requirement already satisfied: scipy in /usr/local/lib/python3.10/dist-packages (1.11.3)\n",
            "Requirement already satisfied: numpy<1.28.0,>=1.21.6 in /usr/local/lib/python3.10/dist-packages (from scipy) (1.23.5)\n"
          ]
        }
      ],
      "source": [
        "!pip install scipy"
      ]
    },
    {
      "cell_type": "code",
      "source": [
        "import pandas as pd\n",
        "import numpy as np\n",
        "import sklearn\n",
        "import seaborn as sns\n",
        "import matplotlib.pyplot as plt\n",
        "from scipy.stats import norm\n",
        "import scipy.stats\n",
        "\n",
        "\n",
        "#Load csv\n",
        "file_path = ('/content/houston-aqi-2010-2021.csv')\n",
        "df = pd.read_csv (file_path)\n",
        "\n",
        "#Printing the csv file will help us to check the column names\n",
        "print (df.head())"
      ],
      "metadata": {
        "colab": {
          "base_uri": "https://localhost:8080/"
        },
        "id": "PGEdXW7Nxk5M",
        "outputId": "fb1d23f4-1708-4b21-921c-c62b85b6c222"
      },
      "execution_count": 8,
      "outputs": [
        {
          "output_type": "stream",
          "name": "stdout",
          "text": [
            "   Unnamed: 0  day_of_year  year   latitude  longitude  avg_pm10  aqi_pm10  \\\n",
            "0           0            2  2010  29.733726 -95.257593        13        12   \n",
            "1           1            2  2010  29.733726 -95.257593        13        12   \n",
            "2           2            2  2010  29.733726 -95.257593        13        12   \n",
            "3           3            2  2010  29.733726 -95.257593        13        12   \n",
            "4           4            2  2010  29.733726 -95.257593        13        12   \n",
            "\n",
            "     avg_co  aqi_co    avg_no2  ...    avg_o3  aqi_o3  avg_pm25  aqi_pm25  \\\n",
            "0  0.297667     NaN  17.258333  ...  0.027294      32      11.6        48   \n",
            "1  0.297667     NaN  17.258333  ...  0.027294      32      11.6        48   \n",
            "2  0.297667     NaN  17.258333  ...  0.027294      32       9.7        40   \n",
            "3  0.297667     NaN  17.258333  ...  0.027294      32       9.7        40   \n",
            "4  0.325000     6.0  17.258333  ...  0.027294      32      11.6        48   \n",
            "\n",
            "    avg_so2  aqi_so2  avg_humidity  avg_temperature  avg_wind  avg_pressure  \n",
            "0  3.591304     19.0          56.5             47.5    3.9125   1027.541667  \n",
            "1  3.671429      NaN          56.5             47.5    3.9125   1027.541667  \n",
            "2  3.591304     19.0          56.5             47.5    3.9125   1027.541667  \n",
            "3  3.671429      NaN          56.5             47.5    3.9125   1027.541667  \n",
            "4  3.591304     19.0          56.5             47.5    3.9125   1027.541667  \n",
            "\n",
            "[5 rows x 21 columns]\n"
          ]
        }
      ]
    },
    {
      "cell_type": "code",
      "source": [
        "print(f\"Mean Pressure: {df['avg_pressure'].mean()}\")\n",
        "print(f\"Mean Wind: {df['avg_wind'].mean()}\")\n",
        "print(f\"Mean Temperature: {df['avg_temperature'].mean()}\")\n",
        "print(f\"Mean Humidity:  {df['avg_humidity'].mean()}\")"
      ],
      "metadata": {
        "colab": {
          "base_uri": "https://localhost:8080/"
        },
        "id": "WqtGat5YyVpD",
        "outputId": "42e13cb0-0aff-4659-e8df-82092bfd829d"
      },
      "execution_count": 3,
      "outputs": [
        {
          "output_type": "stream",
          "name": "stdout",
          "text": [
            "Mean Pressure: 1017.8874957186971\n",
            "Mean Wind: 5.238881443739425\n",
            "Mean Temperature: 68.73953821573603\n",
            "Mean Humidity:  65.6445454107445\n"
          ]
        }
      ]
    },
    {
      "cell_type": "code",
      "source": [
        "n = 100\n",
        "random_indices = np.random.choice(df.index, n, replace=False)\n",
        "wind_samples = df.loc[random_indices, 'avg_wind']\n",
        "wind_samples"
      ],
      "metadata": {
        "colab": {
          "base_uri": "https://localhost:8080/"
        },
        "id": "LYV-qznYU1DY",
        "outputId": "1e88ae97-1d6c-4a0e-b11c-8b35a16eab5b"
      },
      "execution_count": 5,
      "outputs": [
        {
          "output_type": "execute_result",
          "data": {
            "text/plain": [
              "2937     4.891667\n",
              "4495     3.620833\n",
              "606      4.704167\n",
              "4348     1.854167\n",
              "3294     6.295833\n",
              "          ...    \n",
              "333      8.604167\n",
              "2966     5.900000\n",
              "4406     3.658333\n",
              "679      5.241667\n",
              "4161    12.516667\n",
              "Name: avg_wind, Length: 100, dtype: float64"
            ]
          },
          "metadata": {},
          "execution_count": 5
        }
      ]
    },
    {
      "cell_type": "code",
      "source": [
        "p = 0.5\n",
        "q = 1 - p\n",
        "print(f'np >= 5 ? {len(wind_samples) * p >= 5}')\n",
        "print(f'nq >= 5 ? {len(wind_samples) * q >= 5}')"
      ],
      "metadata": {
        "colab": {
          "base_uri": "https://localhost:8080/"
        },
        "id": "fJeNc6pRVJ1F",
        "outputId": "203c75cf-accf-4f8f-ae21-77fd841bac67"
      },
      "execution_count": 6,
      "outputs": [
        {
          "output_type": "stream",
          "name": "stdout",
          "text": [
            "np >= 5 ? True\n",
            "nq >= 5 ? True\n"
          ]
        }
      ]
    },
    {
      "cell_type": "code",
      "source": [
        "alpha = 0.01\n",
        "w_over_6 = np.where(wind_samples > 6, 1, 0).sum() / 100.\n",
        "z = (w_over_6 - p) / np.sqrt(p * q / n)\n",
        "print(f'The z-index is: {z}')\n",
        "print(f'The p-value is: {scipy.stats.norm.sf(z)}')\n",
        "print(f'The critical value is: {scipy.stats.norm.ppf(1 - alpha)}')\n",
        "print(f'Reject null hypothesis? {scipy.stats.norm.sf(z) <= alpha}')"
      ],
      "metadata": {
        "colab": {
          "base_uri": "https://localhost:8080/"
        },
        "id": "0L7LeB1QVVdW",
        "outputId": "90b2ba0b-b8b8-4aec-c716-1a42a5f91d1c"
      },
      "execution_count": 9,
      "outputs": [
        {
          "output_type": "stream",
          "name": "stdout",
          "text": [
            "The z-index is: -4.0\n",
            "The p-value is: 0.9999683287581669\n",
            "The critical value is: 2.3263478740408408\n",
            "Reject null hypothesis? False\n"
          ]
        }
      ]
    },
    {
      "cell_type": "code",
      "source": [
        "margin_of_error = scipy.stats.norm.ppf(1 - alpha / 2) * np.sqrt(w_over_6 * (1 - w_over_6) / n)\n",
        "print(f'The proportion of wind samples greater than 6 unit is: {w_over_6}')\n",
        "print(f'The confidence interval is: ({round(w_over_6 - margin_of_error, 2)}, {round(w_over_6 + margin_of_error, 2)})')"
      ],
      "metadata": {
        "colab": {
          "base_uri": "https://localhost:8080/"
        },
        "id": "tGXzgGfMWBco",
        "outputId": "65f151ac-659e-4757-8fec-9e5144b20385"
      },
      "execution_count": 12,
      "outputs": [
        {
          "output_type": "stream",
          "name": "stdout",
          "text": [
            "The proportion of wind samples greater than 6 unit is: 0.3\n",
            "The confidence interval is: (0.18, 0.42)\n"
          ]
        }
      ]
    },
    {
      "cell_type": "code",
      "source": [
        "alpha = 0.05\n",
        "degrees_of_freedom = len(wind_samples) - 1\n",
        "t_statistic, p_value = scipy.stats.ttest_1samp(wind_samples, 6)\n",
        "critical_value = scipy.stats.t.ppf(1 - alpha / 2, degrees_of_freedom)\n",
        "print(f'The mean of the wind samples is: {round(wind_samples.mean(), 2)}')\n",
        "print(f'The t-statistic is: {t_statistic}')\n",
        "print(f'The p-value is: {p_value}')\n",
        "print(f'The critical value is: {critical_value}')\n",
        "print(f'Reject null hypothesis? {p_value <= alpha}')"
      ],
      "metadata": {
        "colab": {
          "base_uri": "https://localhost:8080/"
        },
        "id": "jQ-rs09tXICy",
        "outputId": "2bb290fc-2e44-4a63-835a-424d0d1f405c"
      },
      "execution_count": 13,
      "outputs": [
        {
          "output_type": "stream",
          "name": "stdout",
          "text": [
            "The mean of the wind samples is: 5.36\n",
            "The t-statistic is: -2.904456914470339\n",
            "The p-value is: 0.0045374559792208365\n",
            "The critical value is: 1.9842169515086827\n",
            "Reject null hypothesis? True\n"
          ]
        }
      ]
    },
    {
      "cell_type": "code",
      "source": [
        "margin_of_error = critical_value * wind_samples.std() / np.sqrt(n)\n",
        "print(f'Confidence interval: ({round(wind_samples.mean() - margin_of_error, 2)}, {round(wind_samples.mean() + margin_of_error, 2)})')"
      ],
      "metadata": {
        "colab": {
          "base_uri": "https://localhost:8080/"
        },
        "id": "dLQRnYYAXfAY",
        "outputId": "a556b24b-1c14-4116-d606-91d6f837ded7"
      },
      "execution_count": 14,
      "outputs": [
        {
          "output_type": "stream",
          "name": "stdout",
          "text": [
            "Confidence interval: (4.93, 5.8)\n"
          ]
        }
      ]
    }
  ]
}