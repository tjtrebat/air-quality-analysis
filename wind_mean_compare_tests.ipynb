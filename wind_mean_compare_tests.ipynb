{
 "cells": [
  {
   "cell_type": "markdown",
   "metadata": {},
   "source": [
    "# Inferences about Two Means (Independent Samples)"
   ]
  },
  {
   "cell_type": "code",
   "execution_count": 1,
   "metadata": {
    "colab": {
     "base_uri": "https://localhost:8080/"
    },
    "id": "ynisrHDFl8Ib",
    "outputId": "8b758252-51c1-42a5-cb4e-bc4a94adad67"
   },
   "outputs": [],
   "source": [
    "import numpy as np\n",
    "import pandas as pd\n",
    "from scipy import stats\n",
    "from sklearn.preprocessing import MinMaxScaler\n",
    "\n",
    "file_path = '~/Documents/UNT/csce5310/houston-aqi-2010-2021.csv'\n",
    "df = pd.read_csv(file_path)"
   ]
  },
  {
   "cell_type": "code",
   "execution_count": 2,
   "metadata": {
    "colab": {
     "base_uri": "https://localhost:8080/"
    },
    "id": "5QpAx-4emNlv",
    "outputId": "c626e7ef-0272-4a41-da21-0163d26e3a8f"
   },
   "outputs": [
    {
     "name": "stdout",
     "output_type": "stream",
     "text": [
      "Mean Wind: 0.29\n",
      "Mean Temperature: 0.62\n",
      "Mean Humidity: 0.59\n"
     ]
    }
   ],
   "source": [
    "wind_compare = df[['avg_wind', 'avg_temperature', 'avg_humidity']].values\n",
    "scaler = MinMaxScaler()\n",
    "wind_compare = scaler.fit_transform(wind_compare)\n",
    "print(f\"Mean Wind: {round(wind_compare[:, 0].mean(), 2)}\")\n",
    "print(f\"Mean Temperature: {round(wind_compare[:, 1].mean(), 2)}\")\n",
    "print(f\"Mean Humidity: {round(wind_compare[:, 2].mean(), 2)}\")"
   ]
  },
  {
   "cell_type": "code",
   "execution_count": 3,
   "metadata": {
    "id": "x9sO6OiJmUni"
   },
   "outputs": [],
   "source": [
    "n = 100\n",
    "\n",
    "def get_random_sample(variable):\n",
    "    return np.random.choice(wind_compare[:, variable], size=n, replace=False)"
   ]
  },
  {
   "cell_type": "markdown",
   "metadata": {
    "id": "uJ45Ci2qprdn"
   },
   "source": [
    "## Wind vs. Temperature"
   ]
  },
  {
   "cell_type": "markdown",
   "metadata": {},
   "source": [
    "### Hypothesis Test"
   ]
  },
  {
   "cell_type": "code",
   "execution_count": 4,
   "metadata": {
    "colab": {
     "base_uri": "https://localhost:8080/"
    },
    "id": "BSrS4_NjmkYd",
    "outputId": "95935c47-a2ad-48c4-a7b5-b52066e81f12"
   },
   "outputs": [
    {
     "name": "stdout",
     "output_type": "stream",
     "text": [
      "The sample means are 0.27 (for wind) and 0.65 (for temperature) \n",
      "The degrees of freedom is 186\n",
      "The t-statistic is: -14.216956094588925\n",
      "The p-value is: 4.4881450498330003e-32\n",
      "The critical value is: 1.9728001139921347\n"
     ]
    }
   ],
   "source": [
    "alpha = 0.05\n",
    "wind_samples = get_random_sample(0)\n",
    "temperature_samples = get_random_sample(1)\n",
    "wind_var = np.var(wind_samples, ddof=1)\n",
    "temperature_var = np.var(temperature_samples, ddof=1)\n",
    "A, B = wind_var / n, temperature_var / n\n",
    "degrees_of_freedom = int(((A + B) ** 2) / (((A ** 2) / (n - 1)) + ((B ** 2) / (n - 1))))\n",
    "critical_value = stats.t.ppf(1 - alpha / 2, degrees_of_freedom)\n",
    "t_statistic, p_value = stats.ttest_ind(wind_samples, temperature_samples)\n",
    "print(f'The sample means are {round(wind_samples.mean(), 2)} (for wind) and {round(temperature_samples.mean(), 2)} (for temperature) ')\n",
    "print(f'The degrees of freedom is {degrees_of_freedom}')\n",
    "print(f'The t-statistic is: {t_statistic}')\n",
    "print(f'The p-value is: {p_value}')\n",
    "print(f'The critical value is: {critical_value}')"
   ]
  },
  {
   "cell_type": "markdown",
   "metadata": {
    "id": "IT4CwIQ8qhhJ"
   },
   "source": [
    "Since the p-value is less than our significance level of 0.05, we reject the null hypothesis that the two means are equal to a statistically significant extent."
   ]
  },
  {
   "cell_type": "markdown",
   "metadata": {
    "id": "tHnlcnMIrQZ3"
   },
   "source": [
    "### Confidence Interval"
   ]
  },
  {
   "cell_type": "code",
   "execution_count": 5,
   "metadata": {
    "colab": {
     "base_uri": "https://localhost:8080/"
    },
    "id": "DG1ERcW6nJL-",
    "outputId": "942892ad-0bdc-48a9-dc79-018852868a39"
   },
   "outputs": [
    {
     "name": "stdout",
     "output_type": "stream",
     "text": [
      "The difference between sample means is: -0.38\n",
      "Confidence Interval: (-0.43, -0.32)\n"
     ]
    }
   ],
   "source": [
    "margin_of_error = critical_value * np.sqrt(A + B)\n",
    "mean_difference = wind_samples.mean() - temperature_samples.mean()\n",
    "print(f'The difference between sample means is: {round(mean_difference, 2)}')\n",
    "print(f'Confidence Interval: ({round(mean_difference - margin_of_error, 2)}, {round(mean_difference + margin_of_error, 2)})')"
   ]
  },
  {
   "cell_type": "markdown",
   "metadata": {
    "id": "QX6eyiwzrSYv"
   },
   "source": [
    "Based on the above confidence interval, we can assume with 95% confidence that the actual difference between the population means of wind and temperature is between 32% and 43% of their normalized values."
   ]
  },
  {
   "cell_type": "markdown",
   "metadata": {
    "id": "zjr4D5qjsQWy"
   },
   "source": [
    "## Wind vs. Humidity"
   ]
  },
  {
   "cell_type": "markdown",
   "metadata": {},
   "source": [
    "### Hypothesis Test"
   ]
  },
  {
   "cell_type": "code",
   "execution_count": 6,
   "metadata": {
    "colab": {
     "base_uri": "https://localhost:8080/"
    },
    "id": "_NndFDCFrss1",
    "outputId": "ac675a89-cf00-4576-cec4-ed7efa37bc32"
   },
   "outputs": [
    {
     "name": "stdout",
     "output_type": "stream",
     "text": [
      "The sample means are 0.28 (for wind) and 0.6 (for humidity) \n",
      "The degrees of freedom is 183\n",
      "The t-statistic is: -12.026817775936658\n",
      "The p-value is: 2.2790130342689293e-25\n",
      "The critical value is: 1.973011915132679\n"
     ]
    }
   ],
   "source": [
    "alpha = 0.05\n",
    "wind_samples = get_random_sample(0)\n",
    "humidity_samples = get_random_sample(1)\n",
    "wind_var = np.var(wind_samples, ddof=1)\n",
    "humidity_var = np.var(humidity_samples, ddof=1)\n",
    "A, B = wind_var / n, humidity_var / n\n",
    "degrees_of_freedom = int(((A + B) ** 2) / (((A ** 2) / (n - 1)) + ((B ** 2) / (n - 1))))\n",
    "critical_value = stats.t.ppf(1 - alpha / 2, degrees_of_freedom)\n",
    "t_statistic, p_value = stats.ttest_ind(wind_samples, humidity_samples)\n",
    "print(f'The sample means are {round(wind_samples.mean(), 2)} (for wind) and {round(humidity_samples.mean(), 2)} (for humidity) ')\n",
    "print(f'The degrees of freedom is {degrees_of_freedom}')\n",
    "print(f'The t-statistic is: {t_statistic}')\n",
    "print(f'The p-value is: {p_value}')\n",
    "print(f'The critical value is: {critical_value}')"
   ]
  },
  {
   "cell_type": "markdown",
   "metadata": {
    "id": "3FP8c3ESs2NZ"
   },
   "source": [
    "Since the p-value is less than our significance level of 0.05, we reject the null hypothesis in favor of the alternative hypothesis, which states that the sample means are statistically different to a significant extent."
   ]
  },
  {
   "cell_type": "markdown",
   "metadata": {
    "id": "Sy8v7LabtLVx"
   },
   "source": [
    "### Confidence Interval"
   ]
  },
  {
   "cell_type": "code",
   "execution_count": 7,
   "metadata": {
    "colab": {
     "base_uri": "https://localhost:8080/"
    },
    "id": "HKGNLkxUsBls",
    "outputId": "493e4ad9-e375-421e-b7d2-617a7949ede5"
   },
   "outputs": [
    {
     "name": "stdout",
     "output_type": "stream",
     "text": [
      "The difference between sample means is: -0.32\n",
      "Confidence Interval: (-0.37, -0.27)\n"
     ]
    }
   ],
   "source": [
    "margin_of_error = critical_value * np.sqrt(A + B)\n",
    "mean_difference = wind_samples.mean() - humidity_samples.mean()\n",
    "print(f'The difference between sample means is: {round(mean_difference, 2)}')\n",
    "print(f'Confidence Interval: ({round(mean_difference - margin_of_error, 2)}, {round(mean_difference + margin_of_error, 2)})')"
   ]
  },
  {
   "cell_type": "markdown",
   "metadata": {
    "id": "-nwn1kc7tBHz"
   },
   "source": [
    "Based on the above confidence interval, we can assume with 95% confidence that the actual difference between population means is between 27% and 18% of their normalized values."
   ]
  }
 ],
 "metadata": {
  "colab": {
   "provenance": []
  },
  "kernelspec": {
   "display_name": "Python 3 (ipykernel)",
   "language": "python",
   "name": "python3"
  },
  "language_info": {
   "codemirror_mode": {
    "name": "ipython",
    "version": 3
   },
   "file_extension": ".py",
   "mimetype": "text/x-python",
   "name": "python",
   "nbconvert_exporter": "python",
   "pygments_lexer": "ipython3",
   "version": "3.11.5"
  }
 },
 "nbformat": 4,
 "nbformat_minor": 1
}
