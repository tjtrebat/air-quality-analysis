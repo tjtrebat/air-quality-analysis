{
 "cells": [
  {
   "cell_type": "markdown",
   "id": "98b1dee8",
   "metadata": {},
   "source": [
    "# Inferences about Two Means (Independent Samples)"
   ]
  },
  {
   "cell_type": "code",
   "execution_count": 1,
   "id": "6f66bc3b",
   "metadata": {},
   "outputs": [],
   "source": [
    "import numpy as np\n",
    "import pandas as pd\n",
    "from scipy import stats\n",
    "from sklearn.preprocessing import MinMaxScaler\n",
    "\n",
    "file_path = '~/Documents/UNT/csce5310/houston-aqi-2010-2021.csv'\n",
    "df = pd.read_csv(file_path)"
   ]
  },
  {
   "cell_type": "code",
   "execution_count": 2,
   "id": "511fa7fe",
   "metadata": {},
   "outputs": [
    {
     "name": "stdout",
     "output_type": "stream",
     "text": [
      "Mean Humidity: 0.59\n",
      "Mean Pressure: 0.43\n",
      "Mean Wind: 0.29\n"
     ]
    }
   ],
   "source": [
    "humidity_compare = df[['avg_humidity', 'avg_pressure', 'avg_wind']].values\n",
    "scaler = MinMaxScaler()\n",
    "humidity_compare = scaler.fit_transform(humidity_compare)\n",
    "print(f\"Mean Humidity: {round(humidity_compare[:, 0].mean(), 2)}\")\n",
    "print(f\"Mean Pressure: {round(humidity_compare[:, 1].mean(), 2)}\")\n",
    "print(f\"Mean Wind: {round(humidity_compare[:, 2].mean(), 2)}\")"
   ]
  },
  {
   "cell_type": "code",
   "execution_count": 4,
   "id": "d2bb2feb",
   "metadata": {},
   "outputs": [],
   "source": [
    "n = 100\n",
    "\n",
    "def get_random_sample(variable):\n",
    "    return np.random.choice(humidity_compare[:, variable], size=n, replace=False)"
   ]
  },
  {
   "cell_type": "markdown",
   "id": "7daab087",
   "metadata": {},
   "source": [
    "## Humidity vs Pressure"
   ]
  },
  {
   "cell_type": "markdown",
   "id": "3da4d541",
   "metadata": {},
   "source": [
    "### Hypothesis Test"
   ]
  },
  {
   "cell_type": "code",
   "execution_count": 7,
   "id": "4e9f27ae",
   "metadata": {},
   "outputs": [
    {
     "name": "stdout",
     "output_type": "stream",
     "text": [
      "The sample means are 0.61 (for humidity) and 0.46 (for pressure) \n",
      "The degrees of freedom is 193\n",
      "The t-statistic is: 5.506061915877539\n",
      "The p-value is: 1.1295900759273068e-07\n",
      "The critical value is: 1.9723316757930007\n"
     ]
    }
   ],
   "source": [
    "alpha = 0.05\n",
    "humidity_samples = get_random_sample(0)\n",
    "pressure_samples = get_random_sample(1)\n",
    "humidity_var = np.var(humidity_samples, ddof=1)\n",
    "pressure_var = np.var(pressure_samples, ddof=1)\n",
    "A, B = humidity_var / n, pressure_var / n\n",
    "degrees_of_freedom = int(((A + B) ** 2) / (((A ** 2) / (n - 1)) + ((B ** 2) / (n - 1))))\n",
    "critical_value = stats.t.ppf(1 - alpha / 2, degrees_of_freedom)\n",
    "t_statistic, p_value = stats.ttest_ind(humidity_samples, pressure_samples)\n",
    "print(f'The sample means are {round(humidity_samples.mean(), 2)} (for humidity) and {round(pressure_samples.mean(), 2)} (for pressure) ')\n",
    "print(f'The degrees of freedom is {degrees_of_freedom}')\n",
    "print(f'The t-statistic is: {t_statistic}')\n",
    "print(f'The p-value is: {p_value}')\n",
    "print(f'The critical value is: {critical_value}')"
   ]
  },
  {
   "cell_type": "markdown",
   "id": "bdaf1ca1",
   "metadata": {},
   "source": [
    "Since the p-value is less than the significance level of 0.05, we reject the null hypothesis in favor of the alternate, and conclude that the temperature and humidity mean difference in the population are statistically different to a significant extent."
   ]
  },
  {
   "cell_type": "markdown",
   "id": "9415b4d8",
   "metadata": {},
   "source": [
    "### Confidence Interval"
   ]
  },
  {
   "cell_type": "code",
   "execution_count": 8,
   "id": "f414eb9c",
   "metadata": {},
   "outputs": [
    {
     "name": "stdout",
     "output_type": "stream",
     "text": [
      "The difference between sample means is: 0.15\n",
      "Confidence Interval: (0.09, 0.2)\n"
     ]
    }
   ],
   "source": [
    "margin_of_error = critical_value * np.sqrt(A + B)\n",
    "mean_difference = humidity_samples.mean() - pressure_samples.mean()\n",
    "print(f'The difference between sample means is: {round(mean_difference, 2)}')\n",
    "print(f'Confidence Interval: ({round(mean_difference - margin_of_error, 2)}, {round(mean_difference + margin_of_error, 2)})')"
   ]
  },
  {
   "cell_type": "markdown",
   "id": "90e4d1e2",
   "metadata": {},
   "source": [
    "Based on the confidence level, we can infer that the actual distance between population means may be somewhere around 9% and 20%."
   ]
  },
  {
   "cell_type": "markdown",
   "id": "5873bade",
   "metadata": {},
   "source": [
    "## Humidity vs Wind"
   ]
  },
  {
   "cell_type": "markdown",
   "id": "39840887",
   "metadata": {},
   "source": [
    "### Hypothesis Test"
   ]
  },
  {
   "cell_type": "code",
   "execution_count": 9,
   "id": "61657839",
   "metadata": {},
   "outputs": [
    {
     "name": "stdout",
     "output_type": "stream",
     "text": [
      "The sample means are 0.59 (for humidity) and 0.33 (for wind) \n",
      "The degrees of freedom is 197\n",
      "The t-statistic is: 9.753991275120304\n",
      "The p-value is: 1.3254885758367994e-18\n",
      "The critical value is: 1.9720790337760217\n"
     ]
    }
   ],
   "source": [
    "alpha = 0.05\n",
    "humidity_samples = get_random_sample(0)\n",
    "wind_samples = get_random_sample(2)\n",
    "humidity_var = np.var(humidity_samples, ddof=1)\n",
    "wind_var = np.var(wind_samples, ddof=1)\n",
    "A, B = humidity_var / n, wind_var / n\n",
    "degrees_of_freedom = int(((A + B) ** 2) / (((A ** 2) / (n - 1)) + ((B ** 2) / (n - 1))))\n",
    "critical_value = stats.t.ppf(1 - alpha / 2, degrees_of_freedom)\n",
    "t_statistic, p_value = stats.ttest_ind(humidity_samples, wind_samples)\n",
    "print(f'The sample means are {round(humidity_samples.mean(), 2)} (for humidity) and {round(wind_samples.mean(), 2)} (for wind) ')\n",
    "print(f'The degrees of freedom is {degrees_of_freedom}')\n",
    "print(f'The t-statistic is: {t_statistic}')\n",
    "print(f'The p-value is: {p_value}')\n",
    "print(f'The critical value is: {critical_value}')"
   ]
  },
  {
   "cell_type": "markdown",
   "id": "5531a23a",
   "metadata": {},
   "source": [
    "Since the p-value is less than the significance level of 0.05, we reject the null hypothesis in support of the alternative hypothesis that the means are not equal."
   ]
  },
  {
   "cell_type": "markdown",
   "id": "a147202a",
   "metadata": {},
   "source": [
    "### Confidence Interval"
   ]
  },
  {
   "cell_type": "code",
   "execution_count": 10,
   "id": "a4de7d4d",
   "metadata": {},
   "outputs": [
    {
     "name": "stdout",
     "output_type": "stream",
     "text": [
      "The difference between sample means is: 0.26\n",
      "Confidence Interval: (0.21, 0.31)\n"
     ]
    }
   ],
   "source": [
    "margin_of_error = critical_value * np.sqrt(A + B)\n",
    "mean_difference = humidity_samples.mean() - wind_samples.mean()\n",
    "print(f'The difference between sample means is: {round(mean_difference, 2)}')\n",
    "print(f'Confidence Interval: ({round(mean_difference - margin_of_error, 2)}, {round(mean_difference + margin_of_error, 2)})')"
   ]
  },
  {
   "cell_type": "markdown",
   "id": "ff758041",
   "metadata": {},
   "source": [
    "Based on the confidence interval, we can conclude that the difference between population means may be somewhere between 21% and 31% of their normalized values."
   ]
  }
 ],
 "metadata": {
  "kernelspec": {
   "display_name": "Python 3 (ipykernel)",
   "language": "python",
   "name": "python3"
  },
  "language_info": {
   "codemirror_mode": {
    "name": "ipython",
    "version": 3
   },
   "file_extension": ".py",
   "mimetype": "text/x-python",
   "name": "python",
   "nbconvert_exporter": "python",
   "pygments_lexer": "ipython3",
   "version": "3.11.5"
  }
 },
 "nbformat": 4,
 "nbformat_minor": 5
}
