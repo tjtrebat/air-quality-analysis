{
 "cells": [
  {
   "cell_type": "markdown",
   "id": "f6ffa36c",
   "metadata": {},
   "source": [
    "# Two Variances or Standard Deviations"
   ]
  },
  {
   "cell_type": "code",
   "execution_count": 1,
   "id": "afe6e160",
   "metadata": {},
   "outputs": [],
   "source": [
    "import numpy as np\n",
    "import pandas as pd\n",
    "from scipy.stats import f\n",
    "\n",
    "file_path = '~/Documents/UNT/csce5310/houston-aqi-2010-2021.csv'\n",
    "df = pd.read_csv(file_path)"
   ]
  },
  {
   "cell_type": "code",
   "execution_count": 2,
   "id": "781db3f0",
   "metadata": {},
   "outputs": [
    {
     "name": "stdout",
     "output_type": "stream",
     "text": [
      "Standard Deviation Temperature: 13.81 (variance=190.85)\n",
      "Standard Deviation Humidity: 12.68 (variance=160.76)\n",
      "Standard Deviation Pressure: 5.99 (variance=35.92)\n"
     ]
    }
   ],
   "source": [
    "temperature_compare = df[['avg_temperature', 'avg_humidity', 'avg_pressure']].values\n",
    "print(f\"Standard Deviation Temperature: {round(temperature_compare[:, 0].std(), 2)} (variance={round(temperature_compare[:, 0].var(), 2)})\")\n",
    "print(f\"Standard Deviation Humidity: {round(temperature_compare[:, 1].std(), 2)} (variance={round(temperature_compare[:, 1].var(), 2)})\")\n",
    "print(f\"Standard Deviation Pressure: {round(temperature_compare[:, 2].std(), 2)} (variance={round(temperature_compare[:, 2].var(), 2)})\")"
   ]
  },
  {
   "cell_type": "code",
   "execution_count": 3,
   "id": "6a5f70d3",
   "metadata": {},
   "outputs": [],
   "source": [
    "n = 100\n",
    "\n",
    "def get_random_sample(variable):\n",
    "    return np.random.choice(temperature_compare[:, variable], size=n, replace=False)"
   ]
  },
  {
   "cell_type": "markdown",
   "id": "c0f75620",
   "metadata": {},
   "source": [
    "## Temperature vs Humidity"
   ]
  },
  {
   "cell_type": "markdown",
   "id": "ef62d5e1",
   "metadata": {},
   "source": [
    "### Hypothesis Test"
   ]
  },
  {
   "cell_type": "code",
   "execution_count": 4,
   "id": "fcf14bc5",
   "metadata": {},
   "outputs": [
    {
     "name": "stdout",
     "output_type": "stream",
     "text": [
      "The sample variances are 191.93 (for temperature) and 130.95 (for humidity)\n",
      "The sample standard deviations are 13.85 (for temperature) and 11.44 (for humidity)\n",
      "The degrees of freedom is (99, 99)\n",
      "The f-statistic is: 1.465670546784038\n",
      "The p-value is: 0.029280811910925218\n",
      "The critical value is: 1.486233767619293\n"
     ]
    }
   ],
   "source": [
    "alpha = 0.05\n",
    "temperature_samples = get_random_sample(0)\n",
    "humidity_samples = get_random_sample(1)\n",
    "temperature_var = np.var(temperature_samples, ddof=1)\n",
    "humidity_var = np.var(humidity_samples, ddof=1)\n",
    "s1, s2 = sorted([temperature_var, humidity_var], reverse=True) \n",
    "f_statistic = s1 / s2\n",
    "degrees_of_freedom = (n - 1,) * 2\n",
    "p_value = f.sf(f_statistic, *degrees_of_freedom)\n",
    "critical_value = f.ppf(1 - alpha / 2, *degrees_of_freedom)\n",
    "print(f'The sample variances are {round(temperature_var, 2)} (for temperature) and {round(humidity_var, 2)} (for humidity)')\n",
    "print(f'The sample standard deviations are {round(np.sqrt(temperature_var), 2)} (for temperature) and {round(np.sqrt(humidity_var), 2)} (for humidity)')\n",
    "print(f'The degrees of freedom is {degrees_of_freedom}')\n",
    "print(f'The f-statistic is: {f_statistic}')\n",
    "print(f'The p-value is: {p_value}')\n",
    "print(f'The critical value is: {critical_value}')"
   ]
  },
  {
   "cell_type": "markdown",
   "id": "80e9a1f6",
   "metadata": {},
   "source": [
    "Since the p-value is less than the significance level of 0.05, we reject the null hypothesis in favor of the alternate, which states that there is a statistically significant difference between the variances or standard deviations for temperature and humidity."
   ]
  },
  {
   "cell_type": "markdown",
   "id": "3191b2c3",
   "metadata": {},
   "source": [
    "### Confidence Interval"
   ]
  },
  {
   "cell_type": "code",
   "execution_count": 5,
   "id": "c8a62856",
   "metadata": {},
   "outputs": [
    {
     "name": "stdout",
     "output_type": "stream",
     "text": [
      "The difference between sample variances is: 60.981\n",
      "The difference between sample standard deviations is: 2.411\n",
      "The confidence interval for variance is: (59.995, 63.159)\n",
      "The confidence interval for standard deviation is: (1.417, 3.886)\n"
     ]
    }
   ],
   "source": [
    "ci_var_ratio = 1 / f.ppf(1 - alpha / 2, *degrees_of_freedom), f.ppf(1 - alpha / 2, *degrees_of_freedom)\n",
    "var_difference = temperature_var - humidity_var\n",
    "std_difference = np.sqrt(temperature_var) - np.sqrt(humidity_var)\n",
    "print(f'The difference between sample variances is: {round(var_difference, 3)}')\n",
    "print(f'The difference between sample standard deviations is: {round(std_difference, 3)}')\n",
    "print(f'The confidence interval for variance is: ({round(var_difference - ci_var_ratio[0] * f_statistic, 3)}, {round(var_difference + ci_var_ratio[1] * f_statistic, 3)})')\n",
    "print(f'The confidence interval for standard deviation is: ({round(std_difference - np.sqrt(ci_var_ratio[0] * f_statistic), 3)}, {round(std_difference + np.sqrt(ci_var_ratio[1] * f_statistic), 3)})')"
   ]
  },
  {
   "cell_type": "markdown",
   "id": "8649f66a",
   "metadata": {},
   "source": [
    "Based on the confidence interval, we can assume that the estimated difference in the population variances of temperature and humidity is somewhere between 59.995 and 63.159 with a 95% confidence level. For standard deviation, we simply take the square root of those numbers, and the confidence interval becomes 1.417 and 3.886 for the population standard deviation with confidence level of 95%."
   ]
  },
  {
   "cell_type": "markdown",
   "id": "4e929118",
   "metadata": {},
   "source": [
    "## Temperature vs Pressure"
   ]
  },
  {
   "cell_type": "markdown",
   "id": "64d45e33",
   "metadata": {},
   "source": [
    "### Hypothesis Test"
   ]
  },
  {
   "cell_type": "code",
   "execution_count": 6,
   "id": "e9454b90",
   "metadata": {},
   "outputs": [
    {
     "name": "stdout",
     "output_type": "stream",
     "text": [
      "The sample variances are 186.76 (for temperature) and 35.76 (for pressure)\n",
      "The sample standard deviations are 13.67 (for temperature) and 5.98 (for pressure)\n",
      "The degrees of freedom is (99, 99)\n",
      "The f-statistic is: 5.223241630833932\n",
      "The p-value is: 3.1464480486571955e-15\n",
      "The critical value is: 1.486233767619293\n"
     ]
    }
   ],
   "source": [
    "alpha = 0.05\n",
    "temperature_samples = get_random_sample(0)\n",
    "pressure_samples = get_random_sample(2)\n",
    "temperature_var = np.var(temperature_samples, ddof=1)\n",
    "pressure_var = np.var(pressure_samples, ddof=1)\n",
    "s1, s2 = sorted([temperature_var, pressure_var], reverse=True) \n",
    "f_statistic = s1 / s2\n",
    "degrees_of_freedom = (n - 1,) * 2\n",
    "p_value = f.sf(f_statistic, *degrees_of_freedom)\n",
    "critical_value = f.ppf(1 - alpha / 2, *degrees_of_freedom)\n",
    "print(f'The sample variances are {round(temperature_var, 2)} (for temperature) and {round(pressure_var, 2)} (for pressure)')\n",
    "print(f'The sample standard deviations are {round(np.sqrt(temperature_var), 2)} (for temperature) and {round(np.sqrt(pressure_var), 2)} (for pressure)')\n",
    "print(f'The degrees of freedom is {degrees_of_freedom}')\n",
    "print(f'The f-statistic is: {f_statistic}')\n",
    "print(f'The p-value is: {p_value}')\n",
    "print(f'The critical value is: {critical_value}')"
   ]
  },
  {
   "cell_type": "markdown",
   "id": "837ae40a",
   "metadata": {},
   "source": [
    "Since the p-value is less than the significance level of 0.05, we reject the null hypothesis in favor of the alternate, which states that there is a statistically significant difference between the variances or standard deviations for temperature and pressure."
   ]
  },
  {
   "cell_type": "markdown",
   "id": "62b37ddd",
   "metadata": {},
   "source": [
    "### Confidence Interval"
   ]
  },
  {
   "cell_type": "code",
   "execution_count": 7,
   "id": "dc79626f",
   "metadata": {},
   "outputs": [
    {
     "name": "stdout",
     "output_type": "stream",
     "text": [
      "The difference between sample variances is: 151.003\n",
      "The difference between sample standard deviations is: 7.686\n",
      "The confidence interval for variance is: (147.489, 158.766)\n",
      "The confidence interval for standard deviation is: (5.812, 10.473)\n"
     ]
    }
   ],
   "source": [
    "ci_var_ratio = 1 / f.ppf(1 - alpha / 2, *degrees_of_freedom), f.ppf(1 - alpha / 2, *degrees_of_freedom)\n",
    "var_difference = temperature_var - pressure_var\n",
    "std_difference = np.sqrt(temperature_var) - np.sqrt(pressure_var)\n",
    "print(f'The difference between sample variances is: {round(var_difference, 3)}')\n",
    "print(f'The difference between sample standard deviations is: {round(std_difference, 3)}')\n",
    "print(f'The confidence interval for variance is: ({round(var_difference - ci_var_ratio[0] * f_statistic, 3)}, {round(var_difference + ci_var_ratio[1] * f_statistic, 3)})')\n",
    "print(f'The confidence interval for standard deviation is: ({round(std_difference - np.sqrt(ci_var_ratio[0] * f_statistic), 3)}, {round(std_difference + np.sqrt(ci_var_ratio[1] * f_statistic), 3)})')"
   ]
  },
  {
   "cell_type": "markdown",
   "id": "6c46d0ff",
   "metadata": {},
   "source": [
    "Based on the confidence interval, we can assume that the estimated difference in the population variances of temperature and pressure is somewhere between (147.489, 158.766) with a 95% confidence level. For standard deviation, we simply take the square root of those numbers, and the confidence interval becomes (5.812, 10.473) for the population standard deviation with confidence level of 95%."
   ]
  }
 ],
 "metadata": {
  "kernelspec": {
   "display_name": "Python 3 (ipykernel)",
   "language": "python",
   "name": "python3"
  },
  "language_info": {
   "codemirror_mode": {
    "name": "ipython",
    "version": 3
   },
   "file_extension": ".py",
   "mimetype": "text/x-python",
   "name": "python",
   "nbconvert_exporter": "python",
   "pygments_lexer": "ipython3",
   "version": "3.11.5"
  }
 },
 "nbformat": 4,
 "nbformat_minor": 5
}
