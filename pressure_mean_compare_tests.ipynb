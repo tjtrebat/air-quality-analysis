{
 "cells": [
  {
   "cell_type": "markdown",
   "id": "313af4c7",
   "metadata": {},
   "source": [
    "# Inferences about Two Means (Independent Samples)\n",
    "\n",
    "We use normalized data to make inferences about two sample means (independent samples) using the appropriate statistical hypothesis tests. By using normalized data, we can have a more helpful test that shows us how to compare means when they are based on ranges of their respective values."
   ]
  },
  {
   "cell_type": "code",
   "execution_count": 1,
   "id": "7cb81894",
   "metadata": {},
   "outputs": [],
   "source": [
    "import numpy as np\n",
    "import pandas as pd\n",
    "from scipy import stats\n",
    "from sklearn.preprocessing import MinMaxScaler\n",
    "\n",
    "file_path = '~/Documents/UNT/csce5310/houston-aqi-2010-2021.csv'\n",
    "df = pd.read_csv(file_path)"
   ]
  },
  {
   "cell_type": "code",
   "execution_count": 2,
   "id": "99064f47",
   "metadata": {},
   "outputs": [
    {
     "name": "stdout",
     "output_type": "stream",
     "text": [
      "Mean Pressure: 0.43\n",
      "Mean Wind: 0.29\n",
      "Mean Temperature: 0.62\n"
     ]
    }
   ],
   "source": [
    "pressure_compare = df[['avg_pressure', 'avg_wind', 'avg_temperature']].values\n",
    "scaler = MinMaxScaler()\n",
    "pressure_compare = scaler.fit_transform(pressure_compare)\n",
    "print(f\"Mean Pressure: {round(pressure_compare[:, 0].mean(), 2)}\")\n",
    "print(f\"Mean Wind: {round(pressure_compare[:, 1].mean(), 2)}\")\n",
    "print(f\"Mean Temperature: {round(pressure_compare[:, 2].mean(), 2)}\")"
   ]
  },
  {
   "cell_type": "code",
   "execution_count": 4,
   "id": "d9914de4",
   "metadata": {},
   "outputs": [],
   "source": [
    "n = 100\n",
    "\n",
    "def get_random_sample(variable):\n",
    "    return np.random.choice(pressure_compare[:, variable], size=n, replace=False)"
   ]
  },
  {
   "cell_type": "markdown",
   "id": "287355c4",
   "metadata": {},
   "source": [
    "## Pressure vs. Wind"
   ]
  },
  {
   "cell_type": "markdown",
   "id": "ccd75336",
   "metadata": {},
   "source": [
    "### Requirements Check\n",
    "\n",
    "The requirements are all satisified, as we assume the standard deviations of both samples are unknown, they are random and independently distributed random samples, and n is large (n=100)."
   ]
  },
  {
   "cell_type": "markdown",
   "id": "e8cccf2c",
   "metadata": {},
   "source": [
    "### Hypothesis Test\n",
    "\n",
    "We conduct a hypothesis test that compares the sample means for our pressure variable with the next two variables of wind and temperature. We use a significance level of 0.05 and calculate the degrees of freedom using Welch's statistic (i.e. $(A + B)^2 / ((A^2 / (n_1 - 1)) + (B^2 / (n_2 - 1)))$ where $A = s_1^2 / n_1$ and $B = s_2^2 / n_2$) "
   ]
  },
  {
   "cell_type": "code",
   "execution_count": 5,
   "id": "1fb6b408",
   "metadata": {},
   "outputs": [
    {
     "name": "stdout",
     "output_type": "stream",
     "text": [
      "The sample means are 0.41 (for pressure) and 0.26 (for wind)\n",
      "The degrees of freedom is 196\n",
      "The t-statistic is: 6.758255055951963\n",
      "The p-value is: 1.52551127903624e-10\n",
      "The critical value is: 1.9721412216594967\n"
     ]
    }
   ],
   "source": [
    "alpha = 0.05\n",
    "pressure_samples = get_random_sample(0)\n",
    "wind_samples = get_random_sample(1)\n",
    "pressure_var = np.var(pressure_samples, ddof=1)\n",
    "wind_var = np.var(wind_samples, ddof=1)\n",
    "A, B = pressure_var / n, wind_var / n\n",
    "degrees_of_freedom = int(((A + B) ** 2) / (((A ** 2) / (n - 1)) + ((B ** 2) / (n - 1))))\n",
    "critical_value = stats.t.ppf(1 - alpha / 2, degrees_of_freedom)\n",
    "t_statistic, p_value = stats.ttest_ind(pressure_samples, wind_samples)\n",
    "print(f'The sample means are {round(pressure_samples.mean(), 2)} (for pressure) and {round(wind_samples.mean(), 2)} (for wind)')\n",
    "print(f'The degrees of freedom is {degrees_of_freedom}')\n",
    "print(f'The t-statistic is: {t_statistic}')\n",
    "print(f'The p-value is: {p_value}')\n",
    "print(f'The critical value is: {critical_value}')"
   ]
  },
  {
   "cell_type": "markdown",
   "id": "27a32af1",
   "metadata": {},
   "source": [
    "Since the p-value is less than our significance level of 0.05, we reject the null hypothesis in favor of the alternative hypothesis, which states that the sample means are statistically significantly different."
   ]
  },
  {
   "cell_type": "markdown",
   "id": "bbdd29aa",
   "metadata": {},
   "source": [
    "### Confidence Interval"
   ]
  },
  {
   "cell_type": "code",
   "execution_count": 6,
   "id": "0eca4b15",
   "metadata": {},
   "outputs": [
    {
     "name": "stdout",
     "output_type": "stream",
     "text": [
      "The difference between sample means is: 0.15\n",
      "Confidence Interval: (0.11, 0.19)\n"
     ]
    }
   ],
   "source": [
    "margin_of_error = critical_value * np.sqrt(A + B)\n",
    "mean_difference = pressure_samples.mean() - wind_samples.mean()\n",
    "print(f'The difference between sample means is: {round(mean_difference, 2)}')\n",
    "print(f'Confidence Interval: ({round(mean_difference - margin_of_error, 2)}, {round(mean_difference + margin_of_error, 2)})')"
   ]
  },
  {
   "cell_type": "markdown",
   "id": "624dc101",
   "metadata": {},
   "source": [
    "Based on the above confidence interval, we can assume with 95% confidence that the actual difference between population means is between 11% and 19% of their normalized values."
   ]
  },
  {
   "cell_type": "markdown",
   "id": "5218b9d3",
   "metadata": {},
   "source": [
    "## Pressure vs. Temperature"
   ]
  },
  {
   "cell_type": "markdown",
   "id": "72d7d7c7",
   "metadata": {},
   "source": [
    "### Hypothesis Test"
   ]
  },
  {
   "cell_type": "code",
   "execution_count": 8,
   "id": "23e4699d",
   "metadata": {},
   "outputs": [
    {
     "name": "stdout",
     "output_type": "stream",
     "text": [
      "The sample means are 0.42 (for pressure) and 0.64 (for temperature)\n",
      "The degrees of freedom is 196\n",
      "The t-statistic is: 6.758068582477179\n",
      "The p-value is: 1.527106798249981e-10\n",
      "The critical value is: 1.9721412216594967\n"
     ]
    }
   ],
   "source": [
    "alpha = 0.05\n",
    "pressure_samples = get_random_sample(0)\n",
    "temperature_samples = get_random_sample(2)\n",
    "pressure_var = np.var(pressure_samples, ddof=1)\n",
    "temperature_var = np.var(temperature_samples, ddof=1)\n",
    "A, B = pressure_var / n, temperature_var / n\n",
    "degrees_of_freedom = int(((A + B) ** 2) / (((A ** 2) / (n - 1)) + ((B ** 2) / (n - 1))))\n",
    "critical_value = stats.t.ppf(1 - alpha / 2, degrees_of_freedom)\n",
    "t_statistic, p_value = stats.ttest_ind(pressure_samples, wind_samples)\n",
    "print(f'The sample means are {round(pressure_samples.mean(), 2)} (for pressure) and {round(temperature_samples.mean(), 2)} (for temperature)')\n",
    "print(f'The degrees of freedom is {degrees_of_freedom}')\n",
    "print(f'The t-statistic is: {t_statistic}')\n",
    "print(f'The p-value is: {p_value}')\n",
    "print(f'The critical value is: {critical_value}')"
   ]
  },
  {
   "cell_type": "markdown",
   "id": "0dd442ae",
   "metadata": {},
   "source": [
    "Since the p-value is less than our significance level of 0.05, we reject the null hypothesis in favor of the alternative hypothesis for this two-tailed test, which states that the sample means are statistically different to a significant extent."
   ]
  },
  {
   "cell_type": "markdown",
   "id": "ea3e732d",
   "metadata": {},
   "source": [
    "### Confidence Interval"
   ]
  },
  {
   "cell_type": "code",
   "execution_count": 9,
   "id": "83cb483b",
   "metadata": {},
   "outputs": [
    {
     "name": "stdout",
     "output_type": "stream",
     "text": [
      "The difference between sample means is: 0.22\n",
      "Confidence Interval: (0.17, 0.27)\n"
     ]
    }
   ],
   "source": [
    "margin_of_error = critical_value * np.sqrt(A + B)\n",
    "mean_difference = abs(pressure_samples.mean() - temperature_samples.mean())\n",
    "print(f'The difference between sample means is: {round(mean_difference, 2)}')\n",
    "print(f'Confidence Interval: ({round(mean_difference - margin_of_error, 2)}, {round(mean_difference + margin_of_error, 2)})')"
   ]
  },
  {
   "cell_type": "markdown",
   "id": "faa0fbea",
   "metadata": {},
   "source": [
    "Based on the above confidence interval, we can assume with 95% confidence that the actual difference between population means is between 17% and 27% of their normalized values."
   ]
  }
 ],
 "metadata": {
  "kernelspec": {
   "display_name": "Python 3 (ipykernel)",
   "language": "python",
   "name": "python3"
  },
  "language_info": {
   "codemirror_mode": {
    "name": "ipython",
    "version": 3
   },
   "file_extension": ".py",
   "mimetype": "text/x-python",
   "name": "python",
   "nbconvert_exporter": "python",
   "pygments_lexer": "ipython3",
   "version": "3.11.5"
  }
 },
 "nbformat": 4,
 "nbformat_minor": 5
}
