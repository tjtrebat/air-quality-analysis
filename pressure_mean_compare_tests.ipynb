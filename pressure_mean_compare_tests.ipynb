{
 "cells": [
  {
   "cell_type": "markdown",
   "id": "313af4c7",
   "metadata": {},
   "source": [
    "# Inferences about Two Means (Independent Samples)\n",
    "\n",
    "We use normalized data to make inferences about two sample means (independent samples) using the appropriate statistical hypothesis tests. By using normalized data, we can have a more helpful test that shows us how to compare means when they are based on ranges that their respective values take on."
   ]
  },
  {
   "cell_type": "code",
   "execution_count": 1,
   "id": "7cb81894",
   "metadata": {},
   "outputs": [
    {
     "name": "stdout",
     "output_type": "stream",
     "text": [
      "   Unnamed: 0  day_of_year  year   latitude  longitude  avg_pm10  aqi_pm10  \\\n",
      "0           0            2  2010  29.733726 -95.257593      13.0        12   \n",
      "1           1            2  2010  29.733726 -95.257593      13.0        12   \n",
      "2           2            2  2010  29.733726 -95.257593      13.0        12   \n",
      "3           3            2  2010  29.733726 -95.257593      13.0        12   \n",
      "4           4            2  2010  29.733726 -95.257593      13.0        12   \n",
      "\n",
      "     avg_co  aqi_co    avg_no2  ...    avg_o3  aqi_o3  avg_pm25  aqi_pm25  \\\n",
      "0  0.297667     NaN  17.258333  ...  0.027294      32      11.6      48.0   \n",
      "1  0.297667     NaN  17.258333  ...  0.027294      32      11.6      48.0   \n",
      "2  0.297667     NaN  17.258333  ...  0.027294      32       9.7      40.0   \n",
      "3  0.297667     NaN  17.258333  ...  0.027294      32       9.7      40.0   \n",
      "4  0.325000     6.0  17.258333  ...  0.027294      32      11.6      48.0   \n",
      "\n",
      "    avg_so2  aqi_so2  avg_humidity  avg_temperature  avg_wind  avg_pressure  \n",
      "0  3.591304     19.0          56.5             47.5    3.9125   1027.541667  \n",
      "1  3.671429      NaN          56.5             47.5    3.9125   1027.541667  \n",
      "2  3.591304     19.0          56.5             47.5    3.9125   1027.541667  \n",
      "3  3.671429      NaN          56.5             47.5    3.9125   1027.541667  \n",
      "4  3.591304     19.0          56.5             47.5    3.9125   1027.541667  \n",
      "\n",
      "[5 rows x 21 columns]\n"
     ]
    }
   ],
   "source": [
    "import numpy as np\n",
    "import pandas as pd\n",
    "from scipy import stats\n",
    "from sklearn.preprocessing import MinMaxScaler\n",
    "\n",
    "file_path = '~/csce5310/houston-aqi-2010-2021.csv'\n",
    "df = pd.read_csv(file_path)\n",
    "\n",
    "print (df.head())"
   ]
  },
  {
   "cell_type": "code",
   "execution_count": 2,
   "id": "99064f47",
   "metadata": {},
   "outputs": [
    {
     "name": "stdout",
     "output_type": "stream",
     "text": [
      "Mean Pressure: 0.43\n",
      "Mean Wind: 0.29\n",
      "Mean Temperature: 0.62\n"
     ]
    }
   ],
   "source": [
    "pressure_compare = df[['avg_pressure', 'avg_wind', 'avg_temperature']].values\n",
    "scaler = MinMaxScaler()\n",
    "pressure_compare = scaler.fit_transform(pressure_compare)\n",
    "print(f\"Mean Pressure: {round(pressure_compare[:, 0].mean(), 2)}\")\n",
    "print(f\"Mean Wind: {round(pressure_compare[:, 1].mean(), 2)}\")\n",
    "print(f\"Mean Temperature: {round(pressure_compare[:, 2].mean(), 2)}\")"
   ]
  },
  {
   "cell_type": "code",
   "execution_count": 3,
   "id": "d9914de4",
   "metadata": {},
   "outputs": [],
   "source": [
    "n = 100\n",
    "\n",
    "def get_random_sample(variable):\n",
    "    return np.random.choice(pressure_compare[:, variable], size=n, replace=False)"
   ]
  },
  {
   "cell_type": "markdown",
   "id": "287355c4",
   "metadata": {},
   "source": [
    "## Pressure vs. Wind"
   ]
  },
  {
   "cell_type": "markdown",
   "id": "ccd75336",
   "metadata": {},
   "source": [
    "### Requirements Check\n",
    "\n",
    "The requirements are all satisified, as we assume the standard deviations of both samples are unknown, they are random and independently distributed random samples, and n is large (n=100)."
   ]
  },
  {
   "cell_type": "markdown",
   "id": "e8cccf2c",
   "metadata": {},
   "source": [
    "### Hypothesis Test\n",
    "\n",
    "We conduct a hypothesis test that compares the sample means for our pressure variable with the next two variables of wind and temperature. We use a significance level of 0.05 and calculate the degrees of freedom using Welch's statistic (i.e. $(A + B)^2 / ((A^2 / (n_1 - 1)) + (B^2 / (n_2 - 1)))$ where $A = s_1^2 / n_1$ and $B = s_2^2 / n_2$) "
   ]
  },
  {
   "cell_type": "code",
   "execution_count": 4,
   "id": "1fb6b408",
   "metadata": {},
   "outputs": [
    {
     "name": "stdout",
     "output_type": "stream",
     "text": [
      "The sample means are 0.41 (for pressure) and 0.29 (for wind)\n",
      "The degrees of freedom is 197\n",
      "The t-statistic is: 4.62339530051101\n",
      "The p-value is: 6.802338430131697e-06\n",
      "The critical value is: 1.9720790337760217\n"
     ]
    }
   ],
   "source": [
    "alpha = 0.05\n",
    "pressure_samples = get_random_sample(0)\n",
    "wind_samples = get_random_sample(1)\n",
    "\n",
    "pressure_var = np.var(pressure_samples, ddof=1)\n",
    "wind_var = np.var(wind_samples, ddof=1)\n",
    "A, B = pressure_var / n, wind_var / n\n",
    "\n",
    "degrees_of_freedom = int(((A + B) ** 2) / (((A ** 2) / (n - 1)) + ((B ** 2) / (n - 1))))\n",
    "critical_value = stats.t.ppf(1 - alpha / 2, degrees_of_freedom)\n",
    "\n",
    "t_statistic, p_value = stats.ttest_ind(pressure_samples, wind_samples)\n",
    "\n",
    "\n",
    "print(f'The sample means are {round(pressure_samples.mean(), 2)} (for pressure) and {round(wind_samples.mean(), 2)} (for wind)')\n",
    "print(f'The degrees of freedom is {degrees_of_freedom}')\n",
    "print(f'The t-statistic is: {t_statistic}')\n",
    "print(f'The p-value is: {p_value}')\n",
    "print(f'The critical value is: {critical_value}')"
   ]
  },
  {
   "cell_type": "markdown",
   "id": "27a32af1",
   "metadata": {},
   "source": [
    "Since the p-value is less than our significance level of 0.05, we reject the null hypothesis in favor of the alternative hypothesis, which states that the sample means are statistically different to a significant extent."
   ]
  },
  {
   "cell_type": "markdown",
   "id": "bbdd29aa",
   "metadata": {},
   "source": [
    "### Confidence Interval"
   ]
  },
  {
   "cell_type": "code",
   "execution_count": 5,
   "id": "0eca4b15",
   "metadata": {},
   "outputs": [
    {
     "name": "stdout",
     "output_type": "stream",
     "text": [
      "The difference between sample means is: 0.11\n",
      "Confidence Interval: (0.06, 0.16)\n"
     ]
    }
   ],
   "source": [
    "margin_of_error = critical_value * np.sqrt(A + B)\n",
    "mean_difference = pressure_samples.mean() - wind_samples.mean()\n",
    "print(f'The difference between sample means is: {round(mean_difference, 2)}')\n",
    "print(f'Confidence Interval: ({round(mean_difference - margin_of_error, 2)}, {round(mean_difference + margin_of_error, 2)})')"
   ]
  },
  {
   "cell_type": "markdown",
   "id": "624dc101",
   "metadata": {},
   "source": [
    "Based on the above confidence interval, we can assume with 95% confidence that the actual difference between population means is between 14% and 22% of their normalized values."
   ]
  },
  {
   "cell_type": "markdown",
   "id": "5218b9d3",
   "metadata": {},
   "source": [
    "## Pressure vs. Temperature"
   ]
  },
  {
   "cell_type": "markdown",
   "id": "72d7d7c7",
   "metadata": {},
   "source": [
    "### Hypothesis Test"
   ]
  },
  {
   "cell_type": "code",
   "execution_count": 6,
   "id": "23e4699d",
   "metadata": {},
   "outputs": [
    {
     "name": "stdout",
     "output_type": "stream",
     "text": [
      "The sample means are 0.41 (for pressure) and 0.6 (for temperature)\n",
      "The degrees of freedom is 181\n",
      "The t-statistic is: 4.62339530051101\n",
      "The p-value is: 6.802338430131697e-06\n",
      "The critical value is: 1.9731570421553688\n"
     ]
    }
   ],
   "source": [
    "alpha = 0.05\n",
    "temperature_samples = get_random_sample(2)\n",
    "\n",
    "temperature_var = np.var(temperature_samples, ddof=1)\n",
    "B = temperature_var / n\n",
    "\n",
    "degrees_of_freedom = int(((A + B) ** 2) / (((A ** 2) / (n - 1)) + ((B ** 2) / (n - 1))))\n",
    "critical_value = stats.t.ppf(1 - alpha / 2, degrees_of_freedom)\n",
    "\n",
    "t_statistic, p_value = stats.ttest_ind(pressure_samples, wind_samples)\n",
    "\n",
    "print(f'The sample means are {round(pressure_samples.mean(), 2)} (for pressure) and {round(temperature_samples.mean(), 2)} (for temperature)')\n",
    "print(f'The degrees of freedom is {degrees_of_freedom}')\n",
    "print(f'The t-statistic is: {t_statistic}')\n",
    "print(f'The p-value is: {p_value}')\n",
    "print(f'The critical value is: {critical_value}')"
   ]
  },
  {
   "cell_type": "markdown",
   "id": "0dd442ae",
   "metadata": {},
   "source": [
    "Since the p-value is less than our significance level of 0.05, we reject the null hypothesis in favor of the alternative hypothesis, which states that the sample means are statistically different to a significant extent."
   ]
  },
  {
   "cell_type": "markdown",
   "id": "ea3e732d",
   "metadata": {},
   "source": [
    "### Confidence Interval"
   ]
  },
  {
   "cell_type": "code",
   "execution_count": 7,
   "id": "83cb483b",
   "metadata": {},
   "outputs": [
    {
     "name": "stdout",
     "output_type": "stream",
     "text": [
      "The difference between sample means is: 0.2\n",
      "Confidence Interval: (0.14, 0.25)\n"
     ]
    }
   ],
   "source": [
    "margin_of_error = critical_value * np.sqrt(A + B)\n",
    "mean_difference = abs(pressure_samples.mean() - temperature_samples.mean())\n",
    "print(f'The difference between sample means is: {round(mean_difference, 2)}')\n",
    "print(f'Confidence Interval: ({round(mean_difference - margin_of_error, 2)}, {round(mean_difference + margin_of_error, 2)})')"
   ]
  },
  {
   "cell_type": "markdown",
   "id": "faa0fbea",
   "metadata": {},
   "source": [
    "Based on the above confidence interval, we can assume with 95% confidence that the actual difference between population means is between 9% and 20% of their normalized values."
   ]
  }
 ],
 "metadata": {
  "kernelspec": {
   "display_name": "Python 3 (ipykernel)",
   "language": "python",
   "name": "python3"
  },
  "language_info": {
   "codemirror_mode": {
    "name": "ipython",
    "version": 3
   },
   "file_extension": ".py",
   "mimetype": "text/x-python",
   "name": "python",
   "nbconvert_exporter": "python",
   "pygments_lexer": "ipython3",
   "version": "3.8.18"
  }
 },
 "nbformat": 4,
 "nbformat_minor": 5
}
