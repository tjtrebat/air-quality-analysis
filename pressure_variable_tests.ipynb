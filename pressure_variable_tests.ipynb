{
 "cells": [
  {
   "cell_type": "markdown",
   "id": "902d98fa",
   "metadata": {},
   "source": [
    "# Mean and Proportion Hypothesis Tests"
   ]
  },
  {
   "cell_type": "code",
   "execution_count": 1,
   "id": "58341286",
   "metadata": {},
   "outputs": [
    {
     "name": "stdout",
     "output_type": "stream",
     "text": [
      "   Unnamed: 0  day_of_year  year   latitude  longitude  avg_pm10  aqi_pm10  \\\n",
      "0           0            2  2010  29.733726 -95.257593      13.0        12   \n",
      "1           1            2  2010  29.733726 -95.257593      13.0        12   \n",
      "2           2            2  2010  29.733726 -95.257593      13.0        12   \n",
      "3           3            2  2010  29.733726 -95.257593      13.0        12   \n",
      "4           4            2  2010  29.733726 -95.257593      13.0        12   \n",
      "\n",
      "     avg_co  aqi_co    avg_no2  ...    avg_o3  aqi_o3  avg_pm25  aqi_pm25  \\\n",
      "0  0.297667     NaN  17.258333  ...  0.027294      32      11.6      48.0   \n",
      "1  0.297667     NaN  17.258333  ...  0.027294      32      11.6      48.0   \n",
      "2  0.297667     NaN  17.258333  ...  0.027294      32       9.7      40.0   \n",
      "3  0.297667     NaN  17.258333  ...  0.027294      32       9.7      40.0   \n",
      "4  0.325000     6.0  17.258333  ...  0.027294      32      11.6      48.0   \n",
      "\n",
      "    avg_so2  aqi_so2  avg_humidity  avg_temperature  avg_wind  avg_pressure  \n",
      "0  3.591304     19.0          56.5             47.5    3.9125   1027.541667  \n",
      "1  3.671429      NaN          56.5             47.5    3.9125   1027.541667  \n",
      "2  3.591304     19.0          56.5             47.5    3.9125   1027.541667  \n",
      "3  3.671429      NaN          56.5             47.5    3.9125   1027.541667  \n",
      "4  3.591304     19.0          56.5             47.5    3.9125   1027.541667  \n",
      "\n",
      "[5 rows x 21 columns]\n"
     ]
    }
   ],
   "source": [
    "import numpy as np\n",
    "import pandas as pd\n",
    "import scipy.stats\n",
    "\n",
    "file_path = '~/csce5310/houston-aqi-2010-2021.csv'\n",
    "df = pd.read_csv(file_path)\n",
    "\n",
    "print (df.head())"
   ]
  },
  {
   "cell_type": "code",
   "execution_count": 2,
   "id": "c8fe1194",
   "metadata": {},
   "outputs": [
    {
     "name": "stdout",
     "output_type": "stream",
     "text": [
      "Mean Pressure: 1017.89\n",
      "Mean Wind: 5.24\n",
      "Mean Temperature: 68.74\n",
      "Mean Humidity:  65.64\n"
     ]
    }
   ],
   "source": [
    "print(f\"Mean Pressure: {round(df['avg_pressure'].mean(), 2)}\")\n",
    "print(f\"Mean Wind: {round(df['avg_wind'].mean(), 2)}\")\n",
    "print(f\"Mean Temperature: {round(df['avg_temperature'].mean(), 2)}\")\n",
    "print(f\"Mean Humidity:  {round(df['avg_humidity'].mean(), 2)}\")"
   ]
  },
  {
   "cell_type": "markdown",
   "id": "99fb0d18",
   "metadata": {},
   "source": [
    "## Sample Data\n",
    "\n",
    "We first start by picking 100 random samples for the pressure variable from our dataset."
   ]
  },
  {
   "cell_type": "code",
   "execution_count": 3,
   "id": "497f6afe",
   "metadata": {},
   "outputs": [
    {
     "data": {
      "text/plain": [
       "386     1013.583333\n",
       "2652    1024.875000\n",
       "3631    1015.333333\n",
       "4078    1033.458333\n",
       "2922    1031.875000\n",
       "           ...     \n",
       "4385    1032.625000\n",
       "2408    1016.375000\n",
       "3977    1023.208333\n",
       "3319    1015.291667\n",
       "2733    1018.041667\n",
       "Name: avg_pressure, Length: 100, dtype: float64"
      ]
     },
     "execution_count": 3,
     "metadata": {},
     "output_type": "execute_result"
    }
   ],
   "source": [
    "n = 100\n",
    "random_indices = np.random.choice(df.index, n, replace=False)\n",
    "pressure_samples = df.loc[random_indices, 'avg_pressure']\n",
    "pressure_samples"
   ]
  },
  {
   "cell_type": "markdown",
   "id": "0b37cfa2",
   "metadata": {},
   "source": [
    "## Proportion Test"
   ]
  },
  {
   "cell_type": "markdown",
   "id": "ddce82ec",
   "metadata": {},
   "source": [
    "### Hypothesis Test\n",
    "\n",
    "We are going to test the claim that greater than 50% of the pressure samples are greater than 1017 units with a 99% confidence level by conducting a right-tailed hypothesis test, where the null hypothesis is the statement of equality about the proportion of pressure samples that are greater than 1017 units is equal to 50%. We first calculate the test statistic for the z-index using numpy, and find the value of the survival function using scipy.stats.norm."
   ]
  },
  {
   "cell_type": "code",
   "execution_count": 4,
   "id": "97722b2a",
   "metadata": {},
   "outputs": [
    {
     "name": "stdout",
     "output_type": "stream",
     "text": [
      "The z-index is: 0.20000000000000018\n",
      "The p-value is: 0.4207402905608969\n",
      "The critical value is: 2.3263478740408408\n",
      "Reject null hypothesis? False\n"
     ]
    }
   ],
   "source": [
    "alpha = 0.01\n",
    "p = q = 0.5\n",
    "p_over_1017 = np.where(pressure_samples > 1017, 1, 0).sum() / 100.\n",
    "z = (p_over_1017 - p) / np.sqrt(p * q / n)\n",
    "print(f'The z-index is: {z}')\n",
    "print(f'The p-value is: {scipy.stats.norm.sf(z)}')\n",
    "print(f'The critical value is: {scipy.stats.norm.ppf(1 - alpha)}')\n",
    "print(f'Reject null hypothesis? {scipy.stats.norm.sf(z) <= alpha}')"
   ]
  },
  {
   "cell_type": "markdown",
   "id": "f15b0ede",
   "metadata": {},
   "source": [
    "Since the p-value is greater than alpha of 0.01 for this right-tailed test, we fail to reject the null hypothesis and conclude that the proportion of pressure samples greater than 1017 is equal to 50%."
   ]
  },
  {
   "cell_type": "markdown",
   "id": "fcda9a37",
   "metadata": {},
   "source": [
    "### Confidence Interval\n",
    "\n",
    "We calculate the confidence interval for obtaining an estimate over the population proportion we have calculated using the chosen significance level of 0.01."
   ]
  },
  {
   "cell_type": "code",
   "execution_count": 5,
   "id": "e9b0fe39",
   "metadata": {},
   "outputs": [
    {
     "name": "stdout",
     "output_type": "stream",
     "text": [
      "The proportion of pressure samples greater than 1017 unit is: 0.51\n",
      "The confidence interval is: (0.38, 0.64)\n"
     ]
    }
   ],
   "source": [
    "margin_of_error = scipy.stats.norm.ppf(1 - alpha / 2) * np.sqrt(p_over_1017 * (1 - p_over_1017) / n)\n",
    "print(f'The proportion of pressure samples greater than 1017 unit is: {p_over_1017}')\n",
    "print(f'The confidence interval is: ({round(p_over_1017 - margin_of_error, 2)}, {round(p_over_1017 + margin_of_error, 2)})')"
   ]
  },
  {
   "cell_type": "markdown",
   "id": "f833d617",
   "metadata": {},
   "source": [
    "## Mean Test"
   ]
  },
  {
   "cell_type": "markdown",
   "id": "50883685",
   "metadata": {},
   "source": [
    "### Hypothesis Test\n",
    "\n",
    "We conduct a two-tailed hypothesis test for the sample means being equivalent to 1017 units with 95% confidence level. We assume the standard deviation of the population is also not known, as is common in the case when conducting a hypothesis test about a population mean."
   ]
  },
  {
   "cell_type": "code",
   "execution_count": 9,
   "id": "64aa74a6",
   "metadata": {},
   "outputs": [
    {
     "name": "stdout",
     "output_type": "stream",
     "text": [
      "The mean of the pressure samples is: 1019.26\n",
      "The t-statistic is: 3.4169427019310863\n",
      "The p-value is: 0.0009201610458071277\n",
      "The critical value is: 1.9842169515086827\n",
      "Reject null hypothesis? True\n"
     ]
    }
   ],
   "source": [
    "alpha = 0.05\n",
    "degrees_of_freedom = len(pressure_samples) - 1\n",
    "t_statistic, p_value = scipy.stats.ttest_1samp(pressure_samples, 1017)\n",
    "critical_value = scipy.stats.t.ppf(1 - alpha / 2, degrees_of_freedom)\n",
    "print(f'The mean of the pressure samples is: {round(pressure_samples.mean(), 2)}')\n",
    "print(f'The t-statistic is: {t_statistic}')\n",
    "print(f'The p-value is: {p_value}')\n",
    "print(f'The critical value is: {critical_value}')\n",
    "print(f'Reject null hypothesis? {p_value <= alpha}')"
   ]
  },
  {
   "cell_type": "markdown",
   "id": "ace2c2d4",
   "metadata": {},
   "source": [
    "Since the p-value is less than the significance level of 0.05, we reject the null hypothesis to conclude that the mean of the pressure samples is above 1017 units."
   ]
  },
  {
   "cell_type": "markdown",
   "id": "0ceeffab",
   "metadata": {},
   "source": [
    "### Confidence Interval\n",
    "\n",
    "We construct a confidence interval for a 95% confidence level for the estimation of the population mean."
   ]
  },
  {
   "cell_type": "code",
   "execution_count": 7,
   "id": "5dccd731",
   "metadata": {},
   "outputs": [
    {
     "name": "stdout",
     "output_type": "stream",
     "text": [
      "Confidence interval: (1017.95, 1020.57)\n"
     ]
    }
   ],
   "source": [
    "margin_of_error = critical_value * pressure_samples.std() / np.sqrt(n)\n",
    "print(f'Confidence interval: ({round(pressure_samples.mean() - margin_of_error, 2)}, {round(pressure_samples.mean() + margin_of_error, 2)})')"
   ]
  },
  {
   "cell_type": "markdown",
   "id": "4d129c82",
   "metadata": {},
   "source": [
    "We can see that the confidence interval also does not overlap with our hypothesis of the sample mean that we failed to reject."
   ]
  }
 ],
 "metadata": {
  "kernelspec": {
   "display_name": "Python 3 (ipykernel)",
   "language": "python",
   "name": "python3"
  },
  "language_info": {
   "codemirror_mode": {
    "name": "ipython",
    "version": 3
   },
   "file_extension": ".py",
   "mimetype": "text/x-python",
   "name": "python",
   "nbconvert_exporter": "python",
   "pygments_lexer": "ipython3",
   "version": "3.11.5"
  }
 },
 "nbformat": 4,
 "nbformat_minor": 5
}
