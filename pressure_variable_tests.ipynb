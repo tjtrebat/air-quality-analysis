{
 "cells": [
  {
   "cell_type": "markdown",
   "id": "8e77ba04",
   "metadata": {},
   "source": [
    "# Mean and Proportion Hypothesis Tests"
   ]
  },
  {
   "cell_type": "code",
   "execution_count": 1,
   "id": "b45fa3c4",
   "metadata": {},
   "outputs": [
    {
     "name": "stdout",
     "output_type": "stream",
     "text": [
      "   Unnamed: 0  day_of_year  year   latitude  longitude  avg_pm10  aqi_pm10  \\\n",
      "0           0            2  2010  29.733726 -95.257593      13.0        12   \n",
      "1           1            2  2010  29.733726 -95.257593      13.0        12   \n",
      "2           2            2  2010  29.733726 -95.257593      13.0        12   \n",
      "3           3            2  2010  29.733726 -95.257593      13.0        12   \n",
      "4           4            2  2010  29.733726 -95.257593      13.0        12   \n",
      "\n",
      "     avg_co  aqi_co    avg_no2  ...    avg_o3  aqi_o3  avg_pm25  aqi_pm25  \\\n",
      "0  0.297667     NaN  17.258333  ...  0.027294      32      11.6      48.0   \n",
      "1  0.297667     NaN  17.258333  ...  0.027294      32      11.6      48.0   \n",
      "2  0.297667     NaN  17.258333  ...  0.027294      32       9.7      40.0   \n",
      "3  0.297667     NaN  17.258333  ...  0.027294      32       9.7      40.0   \n",
      "4  0.325000     6.0  17.258333  ...  0.027294      32      11.6      48.0   \n",
      "\n",
      "    avg_so2  aqi_so2  avg_humidity  avg_temperature  avg_wind  avg_pressure  \n",
      "0  3.591304     19.0          56.5             47.5    3.9125   1027.541667  \n",
      "1  3.671429      NaN          56.5             47.5    3.9125   1027.541667  \n",
      "2  3.591304     19.0          56.5             47.5    3.9125   1027.541667  \n",
      "3  3.671429      NaN          56.5             47.5    3.9125   1027.541667  \n",
      "4  3.591304     19.0          56.5             47.5    3.9125   1027.541667  \n",
      "\n",
      "[5 rows x 21 columns]\n"
     ]
    }
   ],
   "source": [
    "import numpy as np\n",
    "import pandas as pd\n",
    "import scipy.stats\n",
    "\n",
    "file_path = '~/csce5310/houston-aqi-2010-2021.csv'\n",
    "df = pd.read_csv(file_path)\n",
    "\n",
    "print (df.head())"
   ]
  },
  {
   "cell_type": "code",
   "execution_count": 2,
   "id": "51ae350e",
   "metadata": {},
   "outputs": [
    {
     "name": "stdout",
     "output_type": "stream",
     "text": [
      "Mean Pressure: 1017.8874957186971\n",
      "Mean Wind: 5.238881443739425\n",
      "Mean Temperature: 68.73953821573603\n",
      "Mean Humidity:  65.6445454107445\n"
     ]
    }
   ],
   "source": [
    "print(f\"Mean Pressure: {df['avg_pressure'].mean()}\")\n",
    "print(f\"Mean Wind: {df['avg_wind'].mean()}\")\n",
    "print(f\"Mean Temperature: {df['avg_temperature'].mean()}\")\n",
    "print(f\"Mean Humidity:  {df['avg_humidity'].mean()}\")"
   ]
  },
  {
   "cell_type": "markdown",
   "id": "37ee8a32",
   "metadata": {},
   "source": [
    "## Pressure\n",
    "\n",
    "We first start by picking 100 random samples for the pressure variable from our dataset."
   ]
  },
  {
   "cell_type": "code",
   "execution_count": 3,
   "id": "cc1af243",
   "metadata": {},
   "outputs": [
    {
     "data": {
      "text/plain": [
       "2790    1011.541667\n",
       "2046    1007.478261\n",
       "1649    1015.333333\n",
       "2060    1011.541667\n",
       "3144    1017.583333\n",
       "           ...     \n",
       "418     1010.750000\n",
       "4630    1008.750000\n",
       "2148    1016.583333\n",
       "4459    1018.041667\n",
       "3722    1026.291667\n",
       "Name: avg_pressure, Length: 100, dtype: float64"
      ]
     },
     "execution_count": 3,
     "metadata": {},
     "output_type": "execute_result"
    }
   ],
   "source": [
    "n = 100\n",
    "random_indices = np.random.choice(df.index, n, replace=False)\n",
    "pressure_samples = df.loc[random_indices, 'avg_pressure']\n",
    "pressure_samples"
   ]
  },
  {
   "cell_type": "markdown",
   "id": "e9d2ad3a",
   "metadata": {},
   "source": [
    "### Proportion Test\n",
    "\n",
    "We conduct the proportion test for the samples where p=0.5. We first check the requirements are satistified:"
   ]
  },
  {
   "cell_type": "markdown",
   "id": "d73511cd",
   "metadata": {},
   "source": [
    "#### Requirements Check"
   ]
  },
  {
   "cell_type": "code",
   "execution_count": 17,
   "id": "5003ae65",
   "metadata": {},
   "outputs": [
    {
     "name": "stdout",
     "output_type": "stream",
     "text": [
      "np >= 5 ? True\n",
      "nq >= 5 ? True\n"
     ]
    }
   ],
   "source": [
    "p = 0.5\n",
    "q = 1 - p\n",
    "print(f'np >= 5 ? {len(pressure_samples) * p >= 5}')\n",
    "print(f'nq >= 5 ? {len(pressure_samples) * q >= 5}')"
   ]
  },
  {
   "cell_type": "markdown",
   "id": "3b155777",
   "metadata": {},
   "source": [
    "#### Hypothesis Test"
   ]
  },
  {
   "cell_type": "markdown",
   "id": "3b014012",
   "metadata": {},
   "source": [
    "We are going to test the claim that greater than 50% of the pressure samples are greater than 1017 units with a 99% confidence level by conducting a right-tailed hypothesis test, where the null hypothesis is the statement of equality about the proportion of pressure samples that are greater than 1017 units is equal to 50%. We first calculate the test statistic for the z-index using numpy, and find the value of the survival function using scipy.stats.norm."
   ]
  },
  {
   "cell_type": "code",
   "execution_count": 9,
   "id": "c1e2b1c3",
   "metadata": {},
   "outputs": [
    {
     "name": "stdout",
     "output_type": "stream",
     "text": [
      "The z-index is: -0.7999999999999996\n",
      "The p-value is: 0.7881446014166031\n",
      "The critical value is: 2.3263478740408408\n",
      "Reject null hypothesis? False\n"
     ]
    }
   ],
   "source": [
    "alpha = 0.01\n",
    "p_over_1017 = np.where(pressure_samples > 1017, 1, 0).sum() / 100.\n",
    "z = (p_over_1017 - p) / np.sqrt(p * q / n)\n",
    "print(f'The z-index is: {z}')\n",
    "print(f'The p-value is: {scipy.stats.norm.sf(z)}')\n",
    "print(f'The critical value is: {scipy.stats.norm.ppf(1 - alpha)}')\n",
    "print(f'Reject null hypothesis? {scipy.stats.norm.sf(z) <= alpha}')"
   ]
  },
  {
   "cell_type": "markdown",
   "id": "b61cc1ce",
   "metadata": {},
   "source": [
    "Since the p-value is greater than alpha of 0.01 for this right-tailed test, we fail to reject the null hypothesis and conclude that the proportion of pressure samples greater than 1017 is equal to 50%."
   ]
  },
  {
   "cell_type": "markdown",
   "id": "8897bb6c",
   "metadata": {},
   "source": [
    "#### Confidence Interval\n",
    "\n",
    "We calculate the confidence interval for obtaining an estimate over the population proportion we have calculated using the chosen significance level of 0.01."
   ]
  },
  {
   "cell_type": "code",
   "execution_count": 6,
   "id": "4664059b",
   "metadata": {},
   "outputs": [
    {
     "name": "stdout",
     "output_type": "stream",
     "text": [
      "The proportion of pressure samples greater than 1017 unit is: 0.46\n",
      "The confidence interval is: (0.33, 0.59)\n"
     ]
    }
   ],
   "source": [
    "margin_of_error = scipy.stats.norm.ppf(1 - alpha / 2) * np.sqrt(p_over_1017 * (1 - p_over_1017) / n)\n",
    "print(f'The proportion of pressure samples greater than 1017 unit is: {p_over_1017}')\n",
    "print(f'The confidence interval is: ({round(p_over_1017 - margin_of_error, 2)}, {round(p_over_1017 + margin_of_error, 2)})')"
   ]
  },
  {
   "cell_type": "markdown",
   "id": "6146fa8e",
   "metadata": {},
   "source": [
    "### Mean Test\n",
    "\n",
    "We perform the following mean hypothesis test, where we formulate a hypothesis about the mean of the pressure samples being 1015 and test our hypothesis using a standard numerical t-test. We are going to assume that the standard deviation of the population is also not know, as is commonly the case when conducting a test about the population mean interval."
   ]
  },
  {
   "cell_type": "markdown",
   "id": "0c401074",
   "metadata": {},
   "source": [
    "#### Requirements Check"
   ]
  },
  {
   "cell_type": "code",
   "execution_count": 7,
   "id": "5f0b59fb",
   "metadata": {},
   "outputs": [
    {
     "name": "stdout",
     "output_type": "stream",
     "text": [
      "n > 30 ? True\n"
     ]
    }
   ],
   "source": [
    "print(f'n > 30 ? {n > 30}')"
   ]
  },
  {
   "cell_type": "markdown",
   "id": "7f3fe744",
   "metadata": {},
   "source": [
    "#### Hypothesis Test\n",
    "\n",
    "We conduct a two-tailed hypothesis test for the sample means being equivalent to 1017 units with 95% confidence level."
   ]
  },
  {
   "cell_type": "code",
   "execution_count": 13,
   "id": "5c5ede47",
   "metadata": {},
   "outputs": [
    {
     "name": "stdout",
     "output_type": "stream",
     "text": [
      "The t-statistic is: 1.0708520501921184\n",
      "The p-value is: 0.28683969815024624\n",
      "The critical value is: 1.9842169515086827\n",
      "Reject null hypothesis? False\n"
     ]
    }
   ],
   "source": [
    "alpha = 0.05\n",
    "degrees_of_freedom = len(pressure_samples) - 1\n",
    "t_statistic, p_value = scipy.stats.ttest_1samp(pressure_samples, 1017)\n",
    "critical_value = scipy.stats.t.ppf(1 - alpha / 2, degrees_of_freedom)\n",
    "print(f'The t-statistic is: {t_statistic}')\n",
    "print(f'The p-value is: {p_value}')\n",
    "print(f'The critical value is: {critical_value}')\n",
    "print(f'Reject null hypothesis? {p_value <= alpha}')"
   ]
  },
  {
   "cell_type": "markdown",
   "id": "31965325",
   "metadata": {},
   "source": [
    "Since the p-value is greater than the significance level of 0.05, we fail to reject the null hypothesis and conclude that the mean of the pressure samples is 1017 units."
   ]
  },
  {
   "cell_type": "markdown",
   "id": "2fb933c2",
   "metadata": {},
   "source": [
    "#### Confidence Interval\n",
    "\n",
    "We construct a confidence interval for a 95% confidence level for the estimation of the population mean."
   ]
  },
  {
   "cell_type": "code",
   "execution_count": 16,
   "id": "459f8488",
   "metadata": {},
   "outputs": [
    {
     "name": "stdout",
     "output_type": "stream",
     "text": [
      "Confidence interval: (1016.4244557388837, 1018.9251094811162)\n"
     ]
    }
   ],
   "source": [
    "margin_of_error = critical_value * pressure_samples.std() / np.sqrt(n)\n",
    "print(f'Confidence interval: ({pressure_samples.mean() - margin_of_error}, {pressure_samples.mean() + margin_of_error})')"
   ]
  },
  {
   "cell_type": "markdown",
   "id": "877f989a",
   "metadata": {},
   "source": [
    "We can see that the confidence interval overlaps with our hypothesis about the sample mean that we failed to reject in the step above."
   ]
  }
 ],
 "metadata": {
  "kernelspec": {
   "display_name": "Python 3 (ipykernel)",
   "language": "python",
   "name": "python3"
  },
  "language_info": {
   "codemirror_mode": {
    "name": "ipython",
    "version": 3
   },
   "file_extension": ".py",
   "mimetype": "text/x-python",
   "name": "python",
   "nbconvert_exporter": "python",
   "pygments_lexer": "ipython3",
   "version": "3.8.18"
  }
 },
 "nbformat": 4,
 "nbformat_minor": 5
}
