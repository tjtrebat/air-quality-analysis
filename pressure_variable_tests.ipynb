{
 "cells": [
  {
   "cell_type": "markdown",
   "id": "902d98fa",
   "metadata": {},
   "source": [
    "# Mean and Proportion Hypothesis Tests"
   ]
  },
  {
   "cell_type": "code",
   "execution_count": 1,
   "id": "58341286",
   "metadata": {},
   "outputs": [],
   "source": [
    "import numpy as np\n",
    "import pandas as pd\n",
    "import scipy.stats\n",
    "\n",
    "file_path = '~/Documents/UNT/csce5310/houston-aqi-2010-2021.csv'\n",
    "df = pd.read_csv(file_path)"
   ]
  },
  {
   "cell_type": "code",
   "execution_count": 2,
   "id": "c8fe1194",
   "metadata": {},
   "outputs": [
    {
     "name": "stdout",
     "output_type": "stream",
     "text": [
      "Mean Pressure: 1017.89\n"
     ]
    }
   ],
   "source": [
    "print(f\"Mean Pressure: {round(df['avg_pressure'].mean(), 2)}\")"
   ]
  },
  {
   "cell_type": "markdown",
   "id": "99fb0d18",
   "metadata": {},
   "source": [
    "## Sample Data\n",
    "\n",
    "We first start by picking 100 random samples for the pressure variable from our dataset."
   ]
  },
  {
   "cell_type": "code",
   "execution_count": 3,
   "id": "497f6afe",
   "metadata": {},
   "outputs": [],
   "source": [
    "n = 100\n",
    "random_indices = np.random.choice(df.index, n, replace=False)\n",
    "pressure_samples = df.loc[random_indices, 'avg_pressure']"
   ]
  },
  {
   "cell_type": "markdown",
   "id": "0b37cfa2",
   "metadata": {},
   "source": [
    "## Proportion Test"
   ]
  },
  {
   "cell_type": "markdown",
   "id": "cd4efa27",
   "metadata": {},
   "source": [
    "### Hypothesis Test\n",
    "\n",
    "We are going to test the claim that greater than 50% of the pressure samples are greater than 1017 units with a 99% confidence level by conducting a right-tailed hypothesis test, where the null hypothesis is the statement of equality about the proportion of pressure samples that are greater than 1017 units is equal to 50%. We first calculate the test statistic for the z-index using numpy, and find the value of the survival function using scipy.stats.norm."
   ]
  },
  {
   "cell_type": "code",
   "execution_count": 4,
   "id": "97722b2a",
   "metadata": {},
   "outputs": [
    {
     "name": "stdout",
     "output_type": "stream",
     "text": [
      "The z-index is: -0.20000000000000018\n",
      "The p-value is: 0.5792597094391031\n",
      "The critical value is: 2.3263478740408408\n",
      "Reject null hypothesis? False\n"
     ]
    }
   ],
   "source": [
    "alpha = 0.01\n",
    "p = q = 0.5\n",
    "p_over_1017 = np.where(pressure_samples > 1017, 1, 0).sum() / 100.\n",
    "z = (p_over_1017 - p) / np.sqrt(p * q / n)\n",
    "print(f'The z-index is: {z}')\n",
    "print(f'The p-value is: {scipy.stats.norm.sf(z)}')\n",
    "print(f'The critical value is: {scipy.stats.norm.ppf(1 - alpha)}')\n",
    "print(f'Reject null hypothesis? {scipy.stats.norm.sf(z) <= alpha}')"
   ]
  },
  {
   "cell_type": "markdown",
   "id": "f15b0ede",
   "metadata": {},
   "source": [
    "Since the p-value is greater than alpha of 0.01 for this right-tailed test, we fail to reject the null hypothesis and conclude that the proportion of pressure samples greater than 1017 is equal to 50%."
   ]
  },
  {
   "cell_type": "markdown",
   "id": "fcda9a37",
   "metadata": {},
   "source": [
    "### Confidence Interval\n",
    "\n",
    "We calculate the confidence interval for obtaining an estimate over the population proportion we have calculated using the chosen significance level of 0.01."
   ]
  },
  {
   "cell_type": "code",
   "execution_count": 5,
   "id": "e9b0fe39",
   "metadata": {},
   "outputs": [
    {
     "name": "stdout",
     "output_type": "stream",
     "text": [
      "The proportion of pressure samples greater than 1017 unit is: 0.49\n",
      "The confidence interval is: (0.36, 0.62)\n"
     ]
    }
   ],
   "source": [
    "margin_of_error = scipy.stats.norm.ppf(1 - alpha / 2) * np.sqrt(p_over_1017 * (1 - p_over_1017) / n)\n",
    "print(f'The proportion of pressure samples greater than 1017 unit is: {p_over_1017}')\n",
    "print(f'The confidence interval is: ({round(p_over_1017 - margin_of_error, 2)}, {round(p_over_1017 + margin_of_error, 2)})')"
   ]
  },
  {
   "cell_type": "markdown",
   "id": "faa6c2b5",
   "metadata": {},
   "source": [
    "We ca"
   ]
  },
  {
   "cell_type": "markdown",
   "id": "f833d617",
   "metadata": {},
   "source": [
    "## Mean Test"
   ]
  },
  {
   "cell_type": "markdown",
   "id": "50883685",
   "metadata": {},
   "source": [
    "### Hypothesis Test\n",
    "\n",
    "We conduct a two-tailed hypothesis test for the sample means being equivalent to 1017 units with 95% confidence level. We assume the standard deviation of the population is also not known, as is common in the case when conducting a hypothesis test about a population mean."
   ]
  },
  {
   "cell_type": "code",
   "execution_count": 6,
   "id": "64aa74a6",
   "metadata": {},
   "outputs": [
    {
     "name": "stdout",
     "output_type": "stream",
     "text": [
      "The mean of the pressure samples is: 1018.29\n",
      "The t-statistic is: 2.034918215786118\n",
      "The p-value is: 0.0445322340054183\n",
      "The critical value is: 1.9842169515086827\n",
      "Reject null hypothesis? True\n"
     ]
    }
   ],
   "source": [
    "alpha = 0.05\n",
    "degrees_of_freedom = len(pressure_samples) - 1\n",
    "t_statistic, p_value = scipy.stats.ttest_1samp(pressure_samples, 1017)\n",
    "critical_value = scipy.stats.t.ppf(1 - alpha / 2, degrees_of_freedom)\n",
    "print(f'The mean of the pressure samples is: {round(pressure_samples.mean(), 2)}')\n",
    "print(f'The t-statistic is: {t_statistic}')\n",
    "print(f'The p-value is: {p_value}')\n",
    "print(f'The critical value is: {critical_value}')\n",
    "print(f'Reject null hypothesis? {p_value <= alpha}')"
   ]
  },
  {
   "cell_type": "markdown",
   "id": "ace2c2d4",
   "metadata": {},
   "source": [
    "Since the p-value is less than the significance level of 0.05, we reject the null hypothesis to conclude that the mean of the pressure samples is above 1017 units."
   ]
  },
  {
   "cell_type": "markdown",
   "id": "0ceeffab",
   "metadata": {},
   "source": [
    "### Confidence Interval\n",
    "\n",
    "We construct a confidence interval for a 95% confidence level for the estimation of the population mean."
   ]
  },
  {
   "cell_type": "code",
   "execution_count": 7,
   "id": "5dccd731",
   "metadata": {},
   "outputs": [
    {
     "name": "stdout",
     "output_type": "stream",
     "text": [
      "Confidence interval: (1017.03, 1019.55)\n"
     ]
    }
   ],
   "source": [
    "margin_of_error = critical_value * pressure_samples.std() / np.sqrt(n)\n",
    "print(f'Confidence interval: ({round(pressure_samples.mean() - margin_of_error, 2)}, {round(pressure_samples.mean() + margin_of_error, 2)})')"
   ]
  },
  {
   "cell_type": "markdown",
   "id": "4d129c82",
   "metadata": {},
   "source": [
    "We can see that the confidence interval also does not overlap with our hypothesis of the sample mean that we failed to reject."
   ]
  }
 ],
 "metadata": {
  "kernelspec": {
   "display_name": "Python 3 (ipykernel)",
   "language": "python",
   "name": "python3"
  },
  "language_info": {
   "codemirror_mode": {
    "name": "ipython",
    "version": 3
   },
   "file_extension": ".py",
   "mimetype": "text/x-python",
   "name": "python",
   "nbconvert_exporter": "python",
   "pygments_lexer": "ipython3",
   "version": "3.11.5"
  }
 },
 "nbformat": 4,
 "nbformat_minor": 5
}
