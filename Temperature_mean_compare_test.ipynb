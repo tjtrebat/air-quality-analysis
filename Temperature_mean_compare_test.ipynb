{
  "nbformat": 4,
  "nbformat_minor": 0,
  "metadata": {
    "colab": {
      "provenance": []
    },
    "kernelspec": {
      "name": "python3",
      "display_name": "Python 3"
    },
    "language_info": {
      "name": "python"
    }
  },
  "cells": [
    {
      "cell_type": "code",
      "execution_count": 1,
      "metadata": {
        "colab": {
          "base_uri": "https://localhost:8080/"
        },
        "id": "gzW154qqtkHz",
        "outputId": "cc5a49ce-4a3d-434a-c385-2b5c16e0369f"
      },
      "outputs": [
        {
          "output_type": "stream",
          "name": "stdout",
          "text": [
            "   Unnamed: 0  day_of_year  year   latitude  longitude  avg_pm10  aqi_pm10  \\\n",
            "0           0            2  2010  29.733726 -95.257593        13        12   \n",
            "1           1            2  2010  29.733726 -95.257593        13        12   \n",
            "2           2            2  2010  29.733726 -95.257593        13        12   \n",
            "3           3            2  2010  29.733726 -95.257593        13        12   \n",
            "4           4            2  2010  29.733726 -95.257593        13        12   \n",
            "\n",
            "     avg_co  aqi_co    avg_no2  ...    avg_o3  aqi_o3  avg_pm25  aqi_pm25  \\\n",
            "0  0.297667     NaN  17.258333  ...  0.027294      32      11.6        48   \n",
            "1  0.297667     NaN  17.258333  ...  0.027294      32      11.6        48   \n",
            "2  0.297667     NaN  17.258333  ...  0.027294      32       9.7        40   \n",
            "3  0.297667     NaN  17.258333  ...  0.027294      32       9.7        40   \n",
            "4  0.325000     6.0  17.258333  ...  0.027294      32      11.6        48   \n",
            "\n",
            "    avg_so2  aqi_so2  avg_humidity  avg_temperature  avg_wind  avg_pressure  \n",
            "0  3.591304     19.0          56.5             47.5    3.9125   1027.541667  \n",
            "1  3.671429      NaN          56.5             47.5    3.9125   1027.541667  \n",
            "2  3.591304     19.0          56.5             47.5    3.9125   1027.541667  \n",
            "3  3.671429      NaN          56.5             47.5    3.9125   1027.541667  \n",
            "4  3.591304     19.0          56.5             47.5    3.9125   1027.541667  \n",
            "\n",
            "[5 rows x 21 columns]\n"
          ]
        }
      ],
      "source": [
        "import numpy as np\n",
        "import pandas as pd\n",
        "from scipy import stats\n",
        "from sklearn.preprocessing import MinMaxScaler\n",
        "\n",
        "file_path = '/content/houston-aqi-2010-2021.csv'\n",
        "df = pd.read_csv(file_path)\n",
        "\n",
        "print (df.head())"
      ]
    },
    {
      "cell_type": "code",
      "source": [
        "temperature_compare = df[['avg_humidity', 'avg_pressure']].values\n",
        "scaler = MinMaxScaler()\n",
        "temperature_compare = scaler.fit_transform(temperature_compare)\n",
        "print(f\"Mean Humidity: {round(temperature_compare[:, 0].mean(), 2)}\")\n",
        "print(f\"Mean Pressure: {round(temperature_compare[:, 1].mean(), 2)}\")"
      ],
      "metadata": {
        "colab": {
          "base_uri": "https://localhost:8080/"
        },
        "id": "sWaS0Xl1txqQ",
        "outputId": "71fbfee6-8fae-4cb6-ca77-97a1f6c0908f"
      },
      "execution_count": 2,
      "outputs": [
        {
          "output_type": "stream",
          "name": "stdout",
          "text": [
            "Mean Humidity: 0.59\n",
            "Mean Pressure: 0.43\n"
          ]
        }
      ]
    },
    {
      "cell_type": "code",
      "source": [
        "n = 100\n",
        "\n",
        "def get_random_sample(variable):\n",
        "    return np.random.choice(temperature_compare[:, variable], size=n, replace=False)"
      ],
      "metadata": {
        "id": "eHi5jG4SuJNk"
      },
      "execution_count": 3,
      "outputs": []
    },
    {
      "cell_type": "markdown",
      "source": [
        "#Temperature vs Humidity\n",
        "##Hypothesis test"
      ],
      "metadata": {
        "id": "XxZy0Rglu4Jb"
      }
    },
    {
      "cell_type": "code",
      "source": [
        "alpha = 0.05\n",
        "temperature_samples = get_random_sample(0)\n",
        "humidity_samples = get_random_sample(1)\n",
        "\n",
        "\n",
        "temperature_var = np.var(temperature_samples, ddof=1)\n",
        "humidity_var = np.var(humidity_samples, ddof=1)\n",
        "A, B = temperature_var / n, humidity_var / n\n",
        "\n",
        "degrees_of_freedom = int(((A + B) ** 2) / (((A ** 2) / (n - 1)) + ((B ** 2) / (n - 1))))\n",
        "critical_value = stats.t.ppf(1 - alpha / 2, degrees_of_freedom)\n",
        "\n",
        "t_statistic, p_value = stats.ttest_ind(temperature_samples, humidity_samples)\n",
        "\n",
        "\n",
        "print(f'The sample means are {round(temperature_samples.mean(), 2)} (for temperature) and {round(humidity_samples.mean(), 2)} (for humidity) ')\n",
        "print(f'The degrees of freedom is {degrees_of_freedom}')\n",
        "print(f'The t-statistic is: {t_statistic}')\n",
        "print(f'The p-value is: {p_value}')\n",
        "print(f'The critical value is: {critical_value}')"
      ],
      "metadata": {
        "colab": {
          "base_uri": "https://localhost:8080/"
        },
        "id": "lsN3kUDouQBy",
        "outputId": "87284dc4-8b9c-4ae0-857d-1dee2af97bf2"
      },
      "execution_count": 4,
      "outputs": [
        {
          "output_type": "stream",
          "name": "stdout",
          "text": [
            "The sample means are 0.58 (for temperature) and 0.41 (for humidity) \n",
            "The degrees of freedom is 186\n",
            "The t-statistic is: 7.105344743782793\n",
            "The p-value is: 2.118180874751526e-11\n",
            "The critical value is: 1.9728001139921347\n"
          ]
        }
      ]
    },
    {
      "cell_type": "markdown",
      "source": [
        "###Since the p-value is greater than our significance level of 0.05, we fail to reject the null hypothesis, which states that the sample means are statistically different to a significant extent."
      ],
      "metadata": {
        "id": "S6LShckyvBu8"
      }
    },
    {
      "cell_type": "markdown",
      "source": [
        "#Confidence Interval"
      ],
      "metadata": {
        "id": "TTo8lIlwvMQC"
      }
    },
    {
      "cell_type": "code",
      "source": [
        "margin_of_error = critical_value * np.sqrt(A + B)\n",
        "mean_difference = humidity_samples.mean() - temperature_samples.mean()\n",
        "print(f'The difference between sample means is: {round(mean_difference, 2)}')\n",
        "print(f'Confidence Interval: ({round(mean_difference - margin_of_error, 2)}, {round(mean_difference + margin_of_error, 2)})')"
      ],
      "metadata": {
        "colab": {
          "base_uri": "https://localhost:8080/"
        },
        "id": "CdEsu0-suuG7",
        "outputId": "28ce34e8-6a5f-41c9-adaf-deb632fa99a8"
      },
      "execution_count": 5,
      "outputs": [
        {
          "output_type": "stream",
          "name": "stdout",
          "text": [
            "The difference between sample means is: -0.17\n",
            "Confidence Interval: (-0.21, -0.12)\n"
          ]
        }
      ]
    },
    {
      "cell_type": "markdown",
      "source": [
        "#Temperature vs Pressure\n",
        "##Hypothesis test"
      ],
      "metadata": {
        "id": "xVX2KzZNvzQ0"
      }
    },
    {
      "cell_type": "code",
      "source": [
        "alpha = 0.05\n",
        "temperature_samples = get_random_sample(0)\n",
        "pressure_samples = get_random_sample(1)\n",
        "\n",
        "temperature_var = np.var(temperature_samples, ddof=1)\n",
        "pressure_var = np.var(pressure_samples, ddof=1)\n",
        "A, B = temperature_var / n, pressure_var / n\n",
        "\n",
        "degrees_of_freedom = int(((A + B) ** 2) / (((A ** 2) / (n - 1)) + ((B ** 2) / (n - 1))))\n",
        "critical_value = stats.t.ppf(1 - alpha / 2, degrees_of_freedom)\n",
        "\n",
        "t_statistic, p_value = stats.ttest_ind(temperature_samples, pressure_samples)\n",
        "\n",
        "\n",
        "print(f'The sample means are {round(temperature_samples.mean(), 2)} (for temperature) and {round(pressure_samples.mean(), 2)} (for pressure) ')\n",
        "print(f'The degrees of freedom is {degrees_of_freedom}')\n",
        "print(f'The t-statistic is: {t_statistic}')\n",
        "print(f'The p-value is: {p_value}')\n",
        "print(f'The critical value is: {critical_value}')"
      ],
      "metadata": {
        "colab": {
          "base_uri": "https://localhost:8080/"
        },
        "id": "NeMcYdBsvYBF",
        "outputId": "2cec94bd-2f90-404b-b34d-10ca400a877b"
      },
      "execution_count": 6,
      "outputs": [
        {
          "output_type": "stream",
          "name": "stdout",
          "text": [
            "The sample means are 0.58 (for temperature) and 0.43 (for pressure) \n",
            "The degrees of freedom is 195\n",
            "The t-statistic is: 5.779713642731657\n",
            "The p-value is: 2.872328144187963e-08\n",
            "The critical value is: 1.9722040512658325\n"
          ]
        }
      ]
    },
    {
      "cell_type": "markdown",
      "source": [
        "###Since the p-value is greater than our significance level of 0.05, we fail to reject the null hypothesis, which states that the sample means are statistically different to a significant extent."
      ],
      "metadata": {
        "id": "XODUBUAgv3jn"
      }
    },
    {
      "cell_type": "markdown",
      "source": [
        "#Confidence Interval"
      ],
      "metadata": {
        "id": "yTuSRgKewCoj"
      }
    },
    {
      "cell_type": "code",
      "source": [
        "margin_of_error = critical_value * np.sqrt(A + B)\n",
        "mean_difference = pressure_samples.mean() - temperature_samples.mean()\n",
        "print(f'The difference between sample means is: {round(mean_difference, 2)}')\n",
        "print(f'Confidence Interval: ({round(mean_difference - margin_of_error, 2)}, {round(mean_difference + margin_of_error, 2)})')"
      ],
      "metadata": {
        "colab": {
          "base_uri": "https://localhost:8080/"
        },
        "id": "UeLI_facvoUp",
        "outputId": "6fe110cb-3e08-4b39-8ad3-50719f6f3075"
      },
      "execution_count": 7,
      "outputs": [
        {
          "output_type": "stream",
          "name": "stdout",
          "text": [
            "The difference between sample means is: -0.15\n",
            "Confidence Interval: (-0.2, -0.1)\n"
          ]
        }
      ]
    }
  ]
}