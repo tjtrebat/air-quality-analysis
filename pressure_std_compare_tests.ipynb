{
 "cells": [
  {
   "cell_type": "markdown",
   "id": "57e94d12",
   "metadata": {},
   "source": [
    "# Two Variances or Standard Deviations"
   ]
  },
  {
   "cell_type": "code",
   "execution_count": 21,
   "id": "0800b1fc",
   "metadata": {},
   "outputs": [],
   "source": [
    "import numpy as np\n",
    "import pandas as pd\n",
    "from scipy.stats import f\n",
    "\n",
    "file_path = '~/Documents/UNT/csce5310/houston-aqi-2010-2021.csv'\n",
    "df = pd.read_csv(file_path)"
   ]
  },
  {
   "cell_type": "code",
   "execution_count": 9,
   "id": "ba739294",
   "metadata": {},
   "outputs": [
    {
     "name": "stdout",
     "output_type": "stream",
     "text": [
      "Standard Deviation Pressure: 5.99 (variance=35.92)\n",
      "Standard Deviation Wind: 2.21 (variance=4.89)\n",
      "Standard Deviation Temperature: 13.81 (variance=190.85)\n"
     ]
    }
   ],
   "source": [
    "pressure_compare = df[['avg_pressure', 'avg_wind', 'avg_temperature']].values\n",
    "print(f\"Standard Deviation Pressure: {round(pressure_compare[:, 0].std(), 2)} (variance={round(pressure_compare[:, 0].var(), 2)})\")\n",
    "print(f\"Standard Deviation Wind: {round(pressure_compare[:, 1].std(), 2)} (variance={round(pressure_compare[:, 1].var(), 2)})\")\n",
    "print(f\"Standard Deviation Temperature: {round(pressure_compare[:, 2].std(), 2)} (variance={round(pressure_compare[:, 2].var(), 2)})\")"
   ]
  },
  {
   "cell_type": "code",
   "execution_count": 10,
   "id": "9baad6f0",
   "metadata": {},
   "outputs": [],
   "source": [
    "n = 100\n",
    "\n",
    "def get_random_sample(variable):\n",
    "    return np.random.choice(pressure_compare[:, variable], size=n, replace=False)"
   ]
  },
  {
   "cell_type": "markdown",
   "id": "e56e1cdd",
   "metadata": {},
   "source": [
    "## Pressure vs Wind"
   ]
  },
  {
   "cell_type": "markdown",
   "id": "9552b602",
   "metadata": {},
   "source": [
    "### Hypothesis Test"
   ]
  },
  {
   "cell_type": "code",
   "execution_count": 19,
   "id": "7f675169",
   "metadata": {},
   "outputs": [
    {
     "name": "stdout",
     "output_type": "stream",
     "text": [
      "The sample variances are 37.78 (for pressure) and 5.88 (for wind)\n",
      "The sample standard deviations are 6.15 (for pressure) and 2.42 (for wind)\n",
      "The degrees of freedom is (99, 99)\n",
      "The f-statistic is: 6.427827450296863\n",
      "The p-value is: 2.0911451344265867e-18\n",
      "The critical value is: 1.486233767619293\n"
     ]
    }
   ],
   "source": [
    "alpha = 0.05\n",
    "pressure_samples = get_random_sample(0)\n",
    "wind_samples = get_random_sample(1)\n",
    "pressure_var = np.var(pressure_samples, ddof=1)\n",
    "wind_var = np.var(wind_samples, ddof=1)\n",
    "s1, s2 = sorted([pressure_var, wind_var], reverse=True) \n",
    "f_statistic = s1 / s2\n",
    "degrees_of_freedom = (n - 1,) * 2\n",
    "p_value = f.sf(f_statistic, *degrees_of_freedom)\n",
    "critical_value = f.ppf(1 - alpha / 2, *degrees_of_freedom)\n",
    "print(f'The sample variances are {round(pressure_var, 2)} (for pressure) and {round(wind_var, 2)} (for wind)')\n",
    "print(f'The sample standard deviations are {round(np.sqrt(pressure_var), 2)} (for pressure) and {round(np.sqrt(wind_var), 2)} (for wind)')\n",
    "print(f'The degrees of freedom is {degrees_of_freedom}')\n",
    "print(f'The f-statistic is: {f_statistic}')\n",
    "print(f'The p-value is: {p_value}')\n",
    "print(f'The critical value is: {critical_value}')"
   ]
  },
  {
   "cell_type": "markdown",
   "id": "06107f98",
   "metadata": {},
   "source": [
    "Since the p-value is  greater than 0.05, it follows for this two-tailed test that there is not sufficient evidence to warrant rejection about the claim that the two standard deviations are equal."
   ]
  },
  {
   "cell_type": "markdown",
   "id": "a2c360b4",
   "metadata": {},
   "source": [
    "### Confidence Interval"
   ]
  },
  {
   "cell_type": "code",
   "execution_count": 39,
   "id": "c7093391",
   "metadata": {},
   "outputs": [
    {
     "name": "stdout",
     "output_type": "stream",
     "text": [
      "The difference between sample variances is: 31.9\n",
      "The difference between sample standard deviations is: 3.722\n",
      "The confidence interval for variance is: (27.575, 41.453)\n",
      "The confidence interval for standard deviation is: (1.642, 6.813)\n"
     ]
    }
   ],
   "source": [
    "ci_var_ratio = 1 / f.ppf(1 - alpha / 2, *degrees_of_freedom), f.ppf(1 - alpha / 2, *degrees_of_freedom)\n",
    "var_difference = pressure_var - wind_var\n",
    "std_difference = np.sqrt(pressure_var) - np.sqrt(wind_var)\n",
    "print(f'The difference between sample variances is: {round(var_difference, 3)}')\n",
    "print(f'The difference between sample standard deviations is: {round(std_difference, 3)}')\n",
    "print(f'The confidence interval for variance is: ({round(var_difference - ci_var_ratio[0] * f_statistic, 3)}, {round(var_difference + ci_var_ratio[1] * f_statistic, 3)})')\n",
    "print(f'The confidence interval for standard deviation is: ({round(std_difference - np.sqrt(ci_var_ratio[0] * f_statistic), 3)}, {round(std_difference + np.sqrt(ci_var_ratio[1] * f_statistic), 3)})')"
   ]
  },
  {
   "cell_type": "markdown",
   "id": "6ddc868a",
   "metadata": {},
   "source": [
    "Based on the confidence interval, we can assume that the estimated difference in the population variances of pressure and wind is somewhere between 27.575 and 41.453 with 95% confidence level. For standard deviation, we simply take the square root, and the confidence interval becomes 1.642 and 6.813 for the population standard deviation with confidence level of 95%."
   ]
  },
  {
   "cell_type": "markdown",
   "id": "0960aae8",
   "metadata": {},
   "source": [
    "## Pressure vs Temperature"
   ]
  },
  {
   "cell_type": "markdown",
   "id": "1c9d6e26",
   "metadata": {},
   "source": [
    "### Hypothesis Test"
   ]
  },
  {
   "cell_type": "code",
   "execution_count": 42,
   "id": "008f6042",
   "metadata": {},
   "outputs": [
    {
     "name": "stdout",
     "output_type": "stream",
     "text": [
      "The sample variances are 37.12 (for pressure) and 214.68 (for temperature)\n",
      "The sample standard deviations are 6.09 (for pressure) and 14.65 (for temperature)\n",
      "The degrees of freedom is (99, 99)\n",
      "The f-statistic is: 5.783423063713187\n",
      "The p-value is: 9.250043788923911e-17\n",
      "The critical value is: 1.486233767619293\n"
     ]
    }
   ],
   "source": [
    "alpha = 0.05\n",
    "pressure_samples = get_random_sample(0)\n",
    "temperature_samples = get_random_sample(2)\n",
    "pressure_var = np.var(pressure_samples, ddof=1)\n",
    "temperature_var = np.var(temperature_samples, ddof=1)\n",
    "s1, s2 = sorted([pressure_var, temperature_var], reverse=True) \n",
    "f_statistic = s1 / s2\n",
    "degrees_of_freedom = (n - 1,) * 2\n",
    "p_value = f.sf(f_statistic, *degrees_of_freedom)\n",
    "critical_value = f.ppf(1 - alpha / 2, *degrees_of_freedom)\n",
    "print(f'The sample variances are {round(pressure_var, 2)} (for pressure) and {round(temperature_var, 2)} (for temperature)')\n",
    "print(f'The sample standard deviations are {round(np.sqrt(pressure_var), 2)} (for pressure) and {round(np.sqrt(temperature_var), 2)} (for temperature)')\n",
    "print(f'The degrees of freedom is {degrees_of_freedom}')\n",
    "print(f'The f-statistic is: {f_statistic}')\n",
    "print(f'The p-value is: {p_value}')\n",
    "print(f'The critical value is: {critical_value}')"
   ]
  },
  {
   "cell_type": "markdown",
   "id": "f9ff479a",
   "metadata": {},
   "source": [
    "Since the p-value is less than the significance level of 0.05, we reject the null hypothesis that the population standard deviations (or variances) are equal."
   ]
  },
  {
   "cell_type": "markdown",
   "id": "4ecb3cab",
   "metadata": {},
   "source": [
    "### Confidence Interval"
   ]
  },
  {
   "cell_type": "code",
   "execution_count": 43,
   "id": "6991d3c8",
   "metadata": {},
   "outputs": [
    {
     "name": "stdout",
     "output_type": "stream",
     "text": [
      "The difference between sample variances is: -177.556\n",
      "The difference between sample standard deviations is: -8.559\n",
      "The confidence interval for variance is: (-181.448, -168.961)\n",
      "The confidence interval for standard deviation is: (-10.532, -5.627)\n"
     ]
    }
   ],
   "source": [
    "ci_var_ratio = 1 / f.ppf(1 - alpha / 2, *degrees_of_freedom), f.ppf(1 - alpha / 2, *degrees_of_freedom)\n",
    "var_difference = pressure_var - temperature_var\n",
    "std_difference = np.sqrt(pressure_var) - np.sqrt(temperature_var)\n",
    "print(f'The difference between sample variances is: {round(var_difference, 3)}')\n",
    "print(f'The difference between sample standard deviations is: {round(std_difference, 3)}')\n",
    "print(f'The confidence interval for variance is: ({round(var_difference - ci_var_ratio[0] * f_statistic, 3)}, {round(var_difference + ci_var_ratio[1] * f_statistic, 3)})')\n",
    "print(f'The confidence interval for standard deviation is: ({round(std_difference - np.sqrt(ci_var_ratio[0] * f_statistic), 3)}, {round(std_difference + np.sqrt(ci_var_ratio[1] * f_statistic), 3)})')"
   ]
  },
  {
   "cell_type": "markdown",
   "id": "93413f29",
   "metadata": {},
   "source": [
    "Based on the above confidence intervals, for both standard deviation and variance, we can conclude that the true estimate for difference between population variances is between -181.448 and -168.961, and between -10.532 and -5.627 for population standard deviation."
   ]
  }
 ],
 "metadata": {
  "kernelspec": {
   "display_name": "Python 3 (ipykernel)",
   "language": "python",
   "name": "python3"
  },
  "language_info": {
   "codemirror_mode": {
    "name": "ipython",
    "version": 3
   },
   "file_extension": ".py",
   "mimetype": "text/x-python",
   "name": "python",
   "nbconvert_exporter": "python",
   "pygments_lexer": "ipython3",
   "version": "3.11.5"
  }
 },
 "nbformat": 4,
 "nbformat_minor": 5
}
