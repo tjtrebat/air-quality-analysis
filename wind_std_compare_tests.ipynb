{
 "cells": [
  {
   "cell_type": "markdown",
   "id": "74c0e239",
   "metadata": {},
   "source": [
    "# Two Variances or Standard Deviations"
   ]
  },
  {
   "cell_type": "code",
   "execution_count": 1,
   "id": "30fa3315",
   "metadata": {},
   "outputs": [],
   "source": [
    "import numpy as np\n",
    "import pandas as pd\n",
    "from scipy.stats import f\n",
    "\n",
    "file_path = '~/Documents/UNT/csce5310/houston-aqi-2010-2021.csv'\n",
    "df = pd.read_csv(file_path)"
   ]
  },
  {
   "cell_type": "code",
   "execution_count": 2,
   "id": "4c5fc198",
   "metadata": {},
   "outputs": [
    {
     "name": "stdout",
     "output_type": "stream",
     "text": [
      "Standard Deviation Wind: 2.21 (variance=4.89)\n",
      "Standard Deviation Temperature: 13.81 (variance=190.85)\n",
      "Standard Deviation Humidity: 12.68 (variance=160.76)\n"
     ]
    }
   ],
   "source": [
    "wind_compare = df[['avg_wind', 'avg_temperature', 'avg_humidity']].values\n",
    "print(f\"Standard Deviation Wind: {round(wind_compare[:, 0].std(), 2)} (variance={round(wind_compare[:, 0].var(), 2)})\")\n",
    "print(f\"Standard Deviation Temperature: {round(wind_compare[:, 1].std(), 2)} (variance={round(wind_compare[:, 1].var(), 2)})\")\n",
    "print(f\"Standard Deviation Humidity: {round(wind_compare[:, 2].std(), 2)} (variance={round(wind_compare[:, 2].var(), 2)})\")"
   ]
  },
  {
   "cell_type": "code",
   "execution_count": 3,
   "id": "16ef340c",
   "metadata": {},
   "outputs": [],
   "source": [
    "n = 100\n",
    "\n",
    "def get_random_sample(variable):\n",
    "    return np.random.choice(wind_compare[:, variable], size=n, replace=False)"
   ]
  },
  {
   "cell_type": "markdown",
   "id": "05b3c147",
   "metadata": {},
   "source": [
    "## Wind vs Temperature"
   ]
  },
  {
   "cell_type": "markdown",
   "id": "0a34a0ff",
   "metadata": {},
   "source": [
    "### Hypothesis Test"
   ]
  },
  {
   "cell_type": "code",
   "execution_count": 4,
   "id": "da455978",
   "metadata": {},
   "outputs": [
    {
     "name": "stdout",
     "output_type": "stream",
     "text": [
      "The sample variances are 4.51 (for wind) and 205.49 (for temperature)\n",
      "The sample standard deviations are 2.12 (for wind) and 14.34 (for temperature)\n",
      "The degrees of freedom is (99, 99)\n",
      "The f-statistic is: 45.55191058419134\n",
      "The p-value is: 2.471187810489526e-55\n",
      "The critical value is: 1.486233767619293\n"
     ]
    }
   ],
   "source": [
    "alpha = 0.05\n",
    "wind_samples = get_random_sample(0)\n",
    "temperature_samples = get_random_sample(1)\n",
    "wind_var = np.var(wind_samples, ddof=1)\n",
    "temperature_var = np.var(temperature_samples, ddof=1)\n",
    "s1, s2 = sorted([wind_var, temperature_var], reverse=True) \n",
    "f_statistic = s1 / s2\n",
    "degrees_of_freedom = (n - 1,) * 2\n",
    "p_value = f.sf(f_statistic, *degrees_of_freedom)\n",
    "critical_value = f.ppf(1 - alpha / 2, *degrees_of_freedom)\n",
    "print(f'The sample variances are {round(wind_var, 2)} (for wind) and {round(temperature_var, 2)} (for temperature)')\n",
    "print(f'The sample standard deviations are {round(np.sqrt(wind_var), 2)} (for wind) and {round(np.sqrt(temperature_var), 2)} (for temperature)')\n",
    "print(f'The degrees of freedom is {degrees_of_freedom}')\n",
    "print(f'The f-statistic is: {f_statistic}')\n",
    "print(f'The p-value is: {p_value}')\n",
    "print(f'The critical value is: {critical_value}')"
   ]
  },
  {
   "cell_type": "markdown",
   "id": "fc20fd4e",
   "metadata": {},
   "source": [
    "Since the p-value is less than the significance level of 0.05, we reject the null hypothesis in favor of the alternate, which states that there is a statistically significant difference between the sample variances or standard deviations."
   ]
  },
  {
   "cell_type": "markdown",
   "id": "283bb6a5",
   "metadata": {},
   "source": [
    "### Confidence Interval"
   ]
  },
  {
   "cell_type": "code",
   "execution_count": 5,
   "id": "04730ea8",
   "metadata": {},
   "outputs": [
    {
     "name": "stdout",
     "output_type": "stream",
     "text": [
      "The difference between sample variances is: -200.983\n",
      "The difference between sample standard deviations is: -12.211\n",
      "The confidence interval for variance is: (-231.632, -133.282)\n",
      "The confidence interval for standard deviation is: (-17.747, -3.983)\n"
     ]
    }
   ],
   "source": [
    "ci_var_ratio = 1 / f.ppf(1 - alpha / 2, *degrees_of_freedom), f.ppf(1 - alpha / 2, *degrees_of_freedom)\n",
    "var_difference = wind_var - temperature_var\n",
    "std_difference = np.sqrt(wind_var) - np.sqrt(temperature_var)\n",
    "print(f'The difference between sample variances is: {round(var_difference, 3)}')\n",
    "print(f'The difference between sample standard deviations is: {round(std_difference, 3)}')\n",
    "print(f'The confidence interval for variance is: ({round(var_difference - ci_var_ratio[0] * f_statistic, 3)}, {round(var_difference + ci_var_ratio[1] * f_statistic, 3)})')\n",
    "print(f'The confidence interval for standard deviation is: ({round(std_difference - np.sqrt(ci_var_ratio[0] * f_statistic), 3)}, {round(std_difference + np.sqrt(ci_var_ratio[1] * f_statistic), 3)})')"
   ]
  },
  {
   "cell_type": "markdown",
   "id": "87ddf89d",
   "metadata": {},
   "source": [
    "Based on the confidence interval, we can assume that the estimated difference in the population variances of wind and temperature is somewhere between -231.632 and -133.282 with 95% confidence level. For standard deviation, we simply take the square root of those numbers, and the confidence interval becomes -17.747 and -3.983 for the population standard deviation with confidence level of 95%."
   ]
  },
  {
   "cell_type": "markdown",
   "id": "a87dbc41",
   "metadata": {},
   "source": [
    "## Wind vs Humidity"
   ]
  },
  {
   "cell_type": "markdown",
   "id": "361bceeb",
   "metadata": {},
   "source": [
    "### Hypothesis Test"
   ]
  },
  {
   "cell_type": "code",
   "execution_count": 6,
   "id": "b9dd70fd",
   "metadata": {},
   "outputs": [
    {
     "name": "stdout",
     "output_type": "stream",
     "text": [
      "The sample variances are 6.97 (for wind) and 138.68 (for humidity)\n",
      "The sample standard deviations are 2.64 (for wind) and 11.78 (for humidity)\n",
      "The degrees of freedom is (99, 99)\n",
      "The f-statistic is: 19.90344841637803\n",
      "The p-value is: 1.1017062206064681e-38\n",
      "The critical value is: 1.486233767619293\n"
     ]
    }
   ],
   "source": [
    "alpha = 0.05\n",
    "wind_samples = get_random_sample(0)\n",
    "humidity_samples = get_random_sample(2)\n",
    "wind_var = np.var(wind_samples, ddof=1)\n",
    "humidity_var = np.var(humidity_samples, ddof=1)\n",
    "s1, s2 = sorted([wind_var, humidity_var], reverse=True) \n",
    "f_statistic = s1 / s2\n",
    "degrees_of_freedom = (n - 1,) * 2\n",
    "p_value = f.sf(f_statistic, *degrees_of_freedom)\n",
    "critical_value = f.ppf(1 - alpha / 2, *degrees_of_freedom)\n",
    "print(f'The sample variances are {round(wind_var, 2)} (for wind) and {round(humidity_var, 2)} (for humidity)')\n",
    "print(f'The sample standard deviations are {round(np.sqrt(wind_var), 2)} (for wind) and {round(np.sqrt(humidity_var), 2)} (for humidity)')\n",
    "print(f'The degrees of freedom is {degrees_of_freedom}')\n",
    "print(f'The f-statistic is: {f_statistic}')\n",
    "print(f'The p-value is: {p_value}')\n",
    "print(f'The critical value is: {critical_value}')"
   ]
  },
  {
   "cell_type": "markdown",
   "id": "033e5450",
   "metadata": {},
   "source": [
    "Since the p-value is less than the significance level of 0.05, we reject the null hypothesis in favor of the alternate, which states that there is a statistically significant difference between the sample variances or standard deviations of wind and humidity."
   ]
  },
  {
   "cell_type": "markdown",
   "id": "eb63ec4d",
   "metadata": {},
   "source": [
    "### Confidence Interval"
   ]
  },
  {
   "cell_type": "code",
   "execution_count": 7,
   "id": "8cc4e47d",
   "metadata": {},
   "outputs": [
    {
     "name": "stdout",
     "output_type": "stream",
     "text": [
      "The difference between sample variances is: -131.712\n",
      "The difference between sample standard deviations is: -9.137\n",
      "The confidence interval for variance is: (-145.104, -102.131)\n",
      "The confidence interval for standard deviation is: (-12.796, -3.698)\n"
     ]
    }
   ],
   "source": [
    "ci_var_ratio = 1 / f.ppf(1 - alpha / 2, *degrees_of_freedom), f.ppf(1 - alpha / 2, *degrees_of_freedom)\n",
    "var_difference = wind_var - humidity_var\n",
    "std_difference = np.sqrt(wind_var) - np.sqrt(humidity_var)\n",
    "print(f'The difference between sample variances is: {round(var_difference, 3)}')\n",
    "print(f'The difference between sample standard deviations is: {round(std_difference, 3)}')\n",
    "print(f'The confidence interval for variance is: ({round(var_difference - ci_var_ratio[0] * f_statistic, 3)}, {round(var_difference + ci_var_ratio[1] * f_statistic, 3)})')\n",
    "print(f'The confidence interval for standard deviation is: ({round(std_difference - np.sqrt(ci_var_ratio[0] * f_statistic), 3)}, {round(std_difference + np.sqrt(ci_var_ratio[1] * f_statistic), 3)})')"
   ]
  },
  {
   "cell_type": "markdown",
   "id": "5ffd2031",
   "metadata": {},
   "source": [
    "Based on the confidence interval, we can assume that the estimated difference in the population variances of wind and humidity is somewhere between (-145.104, -102.131) with 95% confidence level. For standard deviation, we simply take the square root of those numbers, and the confidence interval becomes (-12.796, -3.698) for the population standard deviation with confidence level of 95%."
   ]
  }
 ],
 "metadata": {
  "kernelspec": {
   "display_name": "Python 3 (ipykernel)",
   "language": "python",
   "name": "python3"
  },
  "language_info": {
   "codemirror_mode": {
    "name": "ipython",
    "version": 3
   },
   "file_extension": ".py",
   "mimetype": "text/x-python",
   "name": "python",
   "nbconvert_exporter": "python",
   "pygments_lexer": "ipython3",
   "version": "3.11.5"
  }
 },
 "nbformat": 4,
 "nbformat_minor": 5
}
