{
  "nbformat": 4,
  "nbformat_minor": 0,
  "metadata": {
    "colab": {
      "provenance": []
    },
    "kernelspec": {
      "name": "python3",
      "display_name": "Python 3"
    },
    "language_info": {
      "name": "python"
    }
  },
  "cells": [
    {
      "cell_type": "code",
      "execution_count": 1,
      "metadata": {
        "colab": {
          "base_uri": "https://localhost:8080/"
        },
        "id": "kPY6sjWaYlh6",
        "outputId": "0f997580-459e-4737-beec-f4648e1cb88f"
      },
      "outputs": [
        {
          "output_type": "stream",
          "name": "stdout",
          "text": [
            "Requirement already satisfied: scipy in /usr/local/lib/python3.10/dist-packages (1.11.3)\n",
            "Requirement already satisfied: numpy<1.28.0,>=1.21.6 in /usr/local/lib/python3.10/dist-packages (from scipy) (1.23.5)\n"
          ]
        }
      ],
      "source": [
        "!pip install scipy"
      ]
    },
    {
      "cell_type": "code",
      "source": [
        "import pandas as pd\n",
        "import numpy as np\n",
        "import sklearn\n",
        "import seaborn as sns\n",
        "import matplotlib.pyplot as plt\n",
        "from scipy.stats import norm\n",
        "import scipy.stats\n",
        "\n",
        "\n",
        "#Load csv\n",
        "file_path = ('/content/houston-aqi-2010-2021.csv')\n",
        "df = pd.read_csv (file_path)\n",
        "\n",
        "#Printing the csv file will help us to check the column names\n",
        "print (df.head())"
      ],
      "metadata": {
        "colab": {
          "base_uri": "https://localhost:8080/"
        },
        "id": "vrS0uSBXY0BF",
        "outputId": "8defdb80-5591-4d08-bb5f-20cfe5c34e74"
      },
      "execution_count": 2,
      "outputs": [
        {
          "output_type": "stream",
          "name": "stdout",
          "text": [
            "   Unnamed: 0  day_of_year  year   latitude  longitude  avg_pm10  aqi_pm10  \\\n",
            "0           0            2  2010  29.733726 -95.257593        13        12   \n",
            "1           1            2  2010  29.733726 -95.257593        13        12   \n",
            "2           2            2  2010  29.733726 -95.257593        13        12   \n",
            "3           3            2  2010  29.733726 -95.257593        13        12   \n",
            "4           4            2  2010  29.733726 -95.257593        13        12   \n",
            "\n",
            "     avg_co  aqi_co    avg_no2  ...    avg_o3  aqi_o3  avg_pm25  aqi_pm25  \\\n",
            "0  0.297667     NaN  17.258333  ...  0.027294      32      11.6        48   \n",
            "1  0.297667     NaN  17.258333  ...  0.027294      32      11.6        48   \n",
            "2  0.297667     NaN  17.258333  ...  0.027294      32       9.7        40   \n",
            "3  0.297667     NaN  17.258333  ...  0.027294      32       9.7        40   \n",
            "4  0.325000     6.0  17.258333  ...  0.027294      32      11.6        48   \n",
            "\n",
            "    avg_so2  aqi_so2  avg_humidity  avg_temperature  avg_wind  avg_pressure  \n",
            "0  3.591304     19.0          56.5             47.5    3.9125   1027.541667  \n",
            "1  3.671429      NaN          56.5             47.5    3.9125   1027.541667  \n",
            "2  3.591304     19.0          56.5             47.5    3.9125   1027.541667  \n",
            "3  3.671429      NaN          56.5             47.5    3.9125   1027.541667  \n",
            "4  3.591304     19.0          56.5             47.5    3.9125   1027.541667  \n",
            "\n",
            "[5 rows x 21 columns]\n"
          ]
        }
      ]
    },
    {
      "cell_type": "code",
      "source": [
        "print(f\"Mean Pressure: {df['avg_pressure'].mean()}\")\n",
        "print(f\"Mean Wind: {df['avg_wind'].mean()}\")\n",
        "print(f\"Mean Temperature: {df['avg_temperature'].mean()}\")\n",
        "print(f\"Mean Humidity:  {df['avg_humidity'].mean()}\")"
      ],
      "metadata": {
        "colab": {
          "base_uri": "https://localhost:8080/"
        },
        "id": "OXziZHF_Y3mU",
        "outputId": "1ee1f440-d20f-40b1-ad66-326ee8e94978"
      },
      "execution_count": 3,
      "outputs": [
        {
          "output_type": "stream",
          "name": "stdout",
          "text": [
            "Mean Pressure: 1017.8874957186971\n",
            "Mean Wind: 5.238881443739425\n",
            "Mean Temperature: 68.73953821573603\n",
            "Mean Humidity:  65.6445454107445\n"
          ]
        }
      ]
    },
    {
      "cell_type": "markdown",
      "source": [
        "#Temperature\n",
        "##We select 100 random samples from our variable Temperature on which we will be performing our tests"
      ],
      "metadata": {
        "id": "gTQySocoiFQY"
      }
    },
    {
      "cell_type": "code",
      "source": [
        "n = 100\n",
        "random_indices = np.random.choice(df.index, n, replace=False)\n",
        "temperature_samples = df.loc[random_indices, 'avg_temperature']\n",
        "temperature_samples"
      ],
      "metadata": {
        "colab": {
          "base_uri": "https://localhost:8080/"
        },
        "id": "UHABY9lzY764",
        "outputId": "c2449652-1337-4f75-8e09-ab5885db4ed6"
      },
      "execution_count": 4,
      "outputs": [
        {
          "output_type": "execute_result",
          "data": {
            "text/plain": [
              "830     68.541667\n",
              "1110    85.625000\n",
              "1374    91.083333\n",
              "3805    60.625000\n",
              "4533    57.458333\n",
              "          ...    \n",
              "2670    61.083333\n",
              "4047    68.458333\n",
              "665     51.333333\n",
              "1241    86.541667\n",
              "576     75.833333\n",
              "Name: avg_temperature, Length: 100, dtype: float64"
            ]
          },
          "metadata": {},
          "execution_count": 4
        }
      ]
    },
    {
      "cell_type": "markdown",
      "source": [
        "#Proportion Test\n",
        "##We start our proportion test by selecting p = 0.5 for our given temperature variable and see if the conditions are satisfied.\n",
        "\n",
        "#Hypothesis Test\n",
        "##We are going to test the claim that greater than 50% of the temperature samples are greater than 57 units with a 99% confidence level by conducting a right-tailed hypothesis test, where the null hypothesis is the statement of equality about the proportion of pressure samples that are greater than 57 units is equal to 50%. We first calculate the test statistic for the z-index using numpy, and find the value of the survival function using scipy.stats.norm."
      ],
      "metadata": {
        "id": "PfnSJL4niPZK"
      }
    },
    {
      "cell_type": "code",
      "source": [
        "p = 0.5\n",
        "q = 1 - p"
      ],
      "metadata": {
        "id": "A7cUg4f_ZDIs"
      },
      "execution_count": 1,
      "outputs": []
    },
    {
      "cell_type": "code",
      "source": [
        "alpha = 0.01\n",
        "t_over_57 = np.where(temperature_samples > 57, 1, 0).sum() / 100.\n",
        "z = (t_over_57 - p) / np.sqrt(p * q / n)\n",
        "print(f'The z-index is: {z}')\n",
        "print(f'The p-value is: {scipy.stats.norm.sf(z)}')\n",
        "print(f'The critical value is: {scipy.stats.norm.ppf(1 - alpha)}')\n",
        "print(f'Reject null hypothesis? {scipy.stats.norm.sf(z) <= alpha}')"
      ],
      "metadata": {
        "colab": {
          "base_uri": "https://localhost:8080/"
        },
        "id": "9e8mG1MlZZBX",
        "outputId": "93a54458-85dc-482c-a588-80997b01fb00"
      },
      "execution_count": 6,
      "outputs": [
        {
          "output_type": "stream",
          "name": "stdout",
          "text": [
            "The z-index is: 5.2\n",
            "The p-value is: 9.96442631693347e-08\n",
            "The critical value is: 2.3263478740408408\n",
            "Reject null hypothesis? True\n"
          ]
        }
      ]
    },
    {
      "cell_type": "markdown",
      "source": [
        "#Confidence Interval\n",
        "##We calculate the confidence interval for obtaining an estimate over the population proportion we have calculated using the chosen significance level of 0.01."
      ],
      "metadata": {
        "id": "_Iy7zJ-0ilPX"
      }
    },
    {
      "cell_type": "code",
      "source": [
        "margin_of_error = scipy.stats.norm.ppf(1 - alpha / 2) * np.sqrt(t_over_57 * (1 - t_over_57) / n)\n",
        "print(f'The proportion of temperature samples greater than 57 unit is: {t_over_57}')\n",
        "print(f'The confidence interval is: ({round(t_over_57 - margin_of_error, 2)}, {round(t_over_57 + margin_of_error, 2)})')"
      ],
      "metadata": {
        "colab": {
          "base_uri": "https://localhost:8080/"
        },
        "id": "OyhaU0-DZoE5",
        "outputId": "b0da6b5c-6745-40d4-b770-5c009a7f0462"
      },
      "execution_count": 7,
      "outputs": [
        {
          "output_type": "stream",
          "name": "stdout",
          "text": [
            "The proportion of temperature samples greater than 57 unit is: 0.76\n",
            "The confidence interval is: (0.65, 0.87)\n"
          ]
        }
      ]
    },
    {
      "cell_type": "markdown",
      "source": [
        "#Mean Test\n",
        "##We perform the following mean hypothesis test, where we formulate a hypothesis about the mean of the temperature samples being 57 and test our hypothesis using a standard numerical t-test. We are going to assume that the standard deviation of the population is also not know, as is commonly the case when conducting a test about the population mean interval.\n",
        "\n",
        "#Hypothesis Test\n",
        "##We conduct a two-tailed hypothesis test for the sample means being equivalent to 57 units with 95% confidence level."
      ],
      "metadata": {
        "id": "Kju7QMR2itxm"
      }
    },
    {
      "cell_type": "code",
      "source": [
        "alpha = 0.05\n",
        "degrees_of_freedom = len(temperature_samples) - 1\n",
        "t_statistic, p_value = scipy.stats.ttest_1samp(temperature_samples, 6)\n",
        "critical_value = scipy.stats.t.ppf(1 - alpha / 2, degrees_of_freedom)\n",
        "print(f'The mean of the temperature samples is: {round(temperature_samples.mean(), 2)}')\n",
        "print(f'The t-statistic is: {t_statistic}')\n",
        "print(f'The p-value is: {p_value}')\n",
        "print(f'The critical value is: {critical_value}')\n",
        "print(f'Reject null hypothesis? {p_value <= alpha}')"
      ],
      "metadata": {
        "colab": {
          "base_uri": "https://localhost:8080/"
        },
        "id": "iw6wazbZZ6uo",
        "outputId": "51b0c60e-b621-4f1f-e3da-e22f6959b59c"
      },
      "execution_count": 8,
      "outputs": [
        {
          "output_type": "stream",
          "name": "stdout",
          "text": [
            "The mean of the temperature samples is: 68.55\n",
            "The t-statistic is: 46.77091911196774\n",
            "The p-value is: 2.613562401173639e-69\n",
            "The critical value is: 1.9842169515086827\n",
            "Reject null hypothesis? True\n"
          ]
        }
      ]
    },
    {
      "cell_type": "markdown",
      "source": [
        "##Since the p-value is greater than the significance level of 0.05, we fail to reject the null hypothesis to conclude that the mean of the temperature samples is above 57 units."
      ],
      "metadata": {
        "id": "sHikZDFKi5mP"
      }
    },
    {
      "cell_type": "markdown",
      "source": [
        "#Confidence Interval\n",
        "##We construct a confidence interval for a 95% confidence level for the estimation of the population mean."
      ],
      "metadata": {
        "id": "zOczJfdri-7n"
      }
    },
    {
      "cell_type": "code",
      "source": [
        "margin_of_error = critical_value * temperature_samples.std() / np.sqrt(n)\n",
        "print(f'Confidence interval: ({round(temperature_samples.mean() - margin_of_error, 2)}, {round(temperature_samples.mean() + margin_of_error, 2)})')"
      ],
      "metadata": {
        "colab": {
          "base_uri": "https://localhost:8080/"
        },
        "id": "ORCEyWkPaJHa",
        "outputId": "67816381-a4a9-4617-a465-008d05389146"
      },
      "execution_count": 9,
      "outputs": [
        {
          "output_type": "stream",
          "name": "stdout",
          "text": [
            "Confidence interval: (65.89, 71.2)\n"
          ]
        }
      ]
    }
  ]
}
